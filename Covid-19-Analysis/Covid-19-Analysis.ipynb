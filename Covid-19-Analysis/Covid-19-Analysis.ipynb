{
 "cells": [
  {
   "cell_type": "code",
   "execution_count": 1,
   "id": "33da73a7-f399-4039-ba79-4630cda2a65a",
   "metadata": {},
   "outputs": [],
   "source": [
    "%matplotlib inline"
   ]
  },
  {
   "cell_type": "markdown",
   "id": "fdbf16c3-7a45-49bd-8ead-bcff1953c8d7",
   "metadata": {},
   "source": [
    "# Working on Real Project with Python on 'COVID-19 Dataset'"
   ]
  },
  {
   "cell_type": "markdown",
   "id": "aace8d09-d929-48c5-bc75-b0cd473c02fe",
   "metadata": {},
   "source": [
    "## (A part of Big Data Analysis)"
   ]
  },
  {
   "cell_type": "markdown",
   "id": "b6d23215-4ebf-4178-96db-05c0445748ff",
   "metadata": {},
   "source": [
    "# *COVID-19 SMALL DATASET*"
   ]
  },
  {
   "cell_type": "markdown",
   "id": "90f69724-b5bf-4a39-9f7b-f671078e2c37",
   "metadata": {},
   "source": [
    "We have taken a small dataset of Covid-19, just for your understaning purpose. You have to work on the original dataset which contains about 19000 rows."
   ]
  },
  {
   "cell_type": "markdown",
   "id": "f6b5efe4-fc45-4701-9088-8c4ef7139f6d",
   "metadata": {},
   "source": [
    "The data used here is till 29-April-2020 and has records as on 29-April-2020."
   ]
  },
  {
   "cell_type": "markdown",
   "id": "0f01fee1-d62f-4288-b6f9-65a23d4b387a",
   "metadata": {},
   "source": [
    "This data is available as a CSV file, downloaded from Kaggle."
   ]
  },
  {
   "cell_type": "markdown",
   "id": "ef2bf3b4-a179-49f5-bed6-674a63d7baf2",
   "metadata": {},
   "source": [
    "We will analyze this data using the Pandas DataFrame."
   ]
  },
  {
   "cell_type": "code",
   "execution_count": 22,
   "id": "3583fd6e-a49a-4851-9d1b-0e52cca5ef75",
   "metadata": {},
   "outputs": [],
   "source": [
    "import pandas as pd\n",
    "import matplotlib.pyplot as plt\n",
    "import seaborn as sns"
   ]
  },
  {
   "cell_type": "code",
   "execution_count": 16,
   "id": "61a28133-1486-40f9-9495-5a4c19bb99fa",
   "metadata": {},
   "outputs": [],
   "source": [
    "covid_data = pd.read_csv('Covid_19_data.csv')"
   ]
  },
  {
   "cell_type": "code",
   "execution_count": 19,
   "id": "52fb3237-a990-43ae-83ca-0f5b53dab8dd",
   "metadata": {},
   "outputs": [],
   "source": [
    "#1. For acquitance with dataset\n",
    "# df.count()\n",
    "# df.isna().sum()"
   ]
  },
  {
   "cell_type": "code",
   "execution_count": 28,
   "id": "30e0445b-0953-4479-ab79-fe658728037c",
   "metadata": {},
   "outputs": [
    {
     "data": {
      "text/plain": [
       "Date         321\n",
       "State        140\n",
       "Region       321\n",
       "Confirmed    321\n",
       "Deaths       321\n",
       "Recovered    321\n",
       "dtype: int64"
      ]
     },
     "execution_count": 28,
     "metadata": {},
     "output_type": "execute_result"
    }
   ],
   "source": [
    "covid_data.count()\n",
    "# Null values means missing values"
   ]
  },
  {
   "cell_type": "code",
   "execution_count": 31,
   "id": "033ac016-de37-4409-887d-871bf6ff68ae",
   "metadata": {},
   "outputs": [
    {
     "data": {
      "text/plain": [
       "Date           0\n",
       "State        181\n",
       "Region         0\n",
       "Confirmed      0\n",
       "Deaths         0\n",
       "Recovered      0\n",
       "dtype: int64"
      ]
     },
     "execution_count": 31,
     "metadata": {},
     "output_type": "execute_result"
    }
   ],
   "source": [
    "# check where we have null values\n",
    "covid_data.isnull().sum()"
   ]
  },
  {
   "cell_type": "code",
   "execution_count": 33,
   "id": "4a5cd3d1-ec6e-4d9e-8d32-0e9985f76caa",
   "metadata": {},
   "outputs": [],
   "source": [
    "# 2. \n",
    "# import seaborn as sns\n",
    "# import mathplotlib.pyplot as plt \n",
    "# sns.heatmap(df.isnull())\n",
    "# plt.show() "
   ]
  },
  {
   "cell_type": "code",
   "execution_count": 25,
   "id": "0636dc2d-e189-428b-9bdc-3afb88e39caa",
   "metadata": {},
   "outputs": [],
   "source": [
    "# We can see this null values  in the from of heatmap with seaborn "
   ]
  },
  {
   "cell_type": "code",
   "execution_count": 34,
   "id": "da56d91c-e5ac-43ce-bce8-cfc2f5df54d6",
   "metadata": {},
   "outputs": [
    {
     "data": {
      "image/png": "[encoded data removed]",
      "text/plain": [
       "<Figure size 640x480 with 2 Axes>"
      ]
     },
     "metadata": {},
     "output_type": "display_data"
    }
   ],
   "source": [
    "sns.heatmap(covid_data.isnull())\n",
    "plt.show()"
   ]
  },
  {
   "cell_type": "code",
   "execution_count": 38,
   "id": "cdbb2cd4-6e72-4468-9cb8-27daa5cca308",
   "metadata": {},
   "outputs": [],
   "source": [
    "# Whitespaces means null values\n",
    "# For familiarization with data we use some commands "
   ]
  },
  {
   "cell_type": "code",
   "execution_count": 37,
   "id": "b993da90-a47f-4aad-8c69-29472072d349",
   "metadata": {},
   "outputs": [
    {
     "data": {
      "text/html": [
       "<div>\n",
       "<style scoped>\n",
       "    .dataframe tbody tr th:only-of-type {\n",
       "        vertical-align: middle;\n",
       "    }\n",
       "\n",
       "    .dataframe tbody tr th {\n",
       "        vertical-align: top;\n",
       "    }\n",
       "\n",
       "    .dataframe thead th {\n",
       "        text-align: right;\n",
       "    }\n",
       "</style>\n",
       "<table border=\"1\" class=\"dataframe\">\n",
       "  <thead>\n",
       "    <tr style=\"text-align: right;\">\n",
       "      <th></th>\n",
       "      <th>Date</th>\n",
       "      <th>State</th>\n",
       "      <th>Region</th>\n",
       "      <th>Confirmed</th>\n",
       "      <th>Deaths</th>\n",
       "      <th>Recovered</th>\n",
       "    </tr>\n",
       "  </thead>\n",
       "  <tbody>\n",
       "    <tr>\n",
       "      <th>0</th>\n",
       "      <td>4/29/2020</td>\n",
       "      <td>NaN</td>\n",
       "      <td>Afghanistan</td>\n",
       "      <td>1939</td>\n",
       "      <td>60</td>\n",
       "      <td>252</td>\n",
       "    </tr>\n",
       "    <tr>\n",
       "      <th>1</th>\n",
       "      <td>4/29/2020</td>\n",
       "      <td>NaN</td>\n",
       "      <td>Albania</td>\n",
       "      <td>766</td>\n",
       "      <td>30</td>\n",
       "      <td>455</td>\n",
       "    </tr>\n",
       "  </tbody>\n",
       "</table>\n",
       "</div>"
      ],
      "text/plain": [
       "        Date State       Region  Confirmed  Deaths  Recovered\n",
       "0  4/29/2020   NaN  Afghanistan       1939      60        252\n",
       "1  4/29/2020   NaN      Albania        766      30        455"
      ]
     },
     "execution_count": 37,
     "metadata": {},
     "output_type": "execute_result"
    }
   ],
   "source": [
    "covid_data.head(2)"
   ]
  },
  {
   "cell_type": "code",
   "execution_count": 11,
   "id": "d1260231-f85b-4d4c-b689-cdf50ebfa797",
   "metadata": {},
   "outputs": [
    {
     "data": {
      "text/plain": [
       "Date         object\n",
       "State        object\n",
       "Region       object\n",
       "Confirmed     int64\n",
       "Deaths        int64\n",
       "Recovered     int64\n",
       "dtype: object"
      ]
     },
     "execution_count": 11,
     "metadata": {},
     "output_type": "execute_result"
    }
   ],
   "source": [
    "covid_data.dtypes"
   ]
  },
  {
   "cell_type": "code",
   "execution_count": 13,
   "id": "66191b9e-1113-43f6-8643-d207bc394f29",
   "metadata": {},
   "outputs": [
    {
     "name": "stdout",
     "output_type": "stream",
     "text": [
      "<class 'pandas.core.frame.DataFrame'>\n",
      "RangeIndex: 321 entries, 0 to 320\n",
      "Data columns (total 6 columns):\n",
      " #   Column     Non-Null Count  Dtype \n",
      "---  ------     --------------  ----- \n",
      " 0   Date       321 non-null    object\n",
      " 1   State      140 non-null    object\n",
      " 2   Region     321 non-null    object\n",
      " 3   Confirmed  321 non-null    int64 \n",
      " 4   Deaths     321 non-null    int64 \n",
      " 5   Recovered  321 non-null    int64 \n",
      "dtypes: int64(3), object(3)\n",
      "memory usage: 15.2+ KB\n"
     ]
    }
   ],
   "source": [
    "covid_data.info()"
   ]
  },
  {
   "cell_type": "code",
   "execution_count": 14,
   "id": "3be7f920-3964-4e5c-b595-05c89a288046",
   "metadata": {},
   "outputs": [
    {
     "data": {
      "text/html": [
       "<div>\n",
       "<style scoped>\n",
       "    .dataframe tbody tr th:only-of-type {\n",
       "        vertical-align: middle;\n",
       "    }\n",
       "\n",
       "    .dataframe tbody tr th {\n",
       "        vertical-align: top;\n",
       "    }\n",
       "\n",
       "    .dataframe thead th {\n",
       "        text-align: right;\n",
       "    }\n",
       "</style>\n",
       "<table border=\"1\" class=\"dataframe\">\n",
       "  <thead>\n",
       "    <tr style=\"text-align: right;\">\n",
       "      <th></th>\n",
       "      <th>count</th>\n",
       "      <th>mean</th>\n",
       "      <th>std</th>\n",
       "      <th>min</th>\n",
       "      <th>25%</th>\n",
       "      <th>50%</th>\n",
       "      <th>75%</th>\n",
       "      <th>max</th>\n",
       "    </tr>\n",
       "  </thead>\n",
       "  <tbody>\n",
       "    <tr>\n",
       "      <th>Confirmed</th>\n",
       "      <td>321.0</td>\n",
       "      <td>9949.800623</td>\n",
       "      <td>31923.853086</td>\n",
       "      <td>0.0</td>\n",
       "      <td>104.0</td>\n",
       "      <td>653.0</td>\n",
       "      <td>4655.0</td>\n",
       "      <td>299691.0</td>\n",
       "    </tr>\n",
       "    <tr>\n",
       "      <th>Deaths</th>\n",
       "      <td>321.0</td>\n",
       "      <td>709.152648</td>\n",
       "      <td>3236.162817</td>\n",
       "      <td>0.0</td>\n",
       "      <td>2.0</td>\n",
       "      <td>12.0</td>\n",
       "      <td>144.0</td>\n",
       "      <td>27682.0</td>\n",
       "    </tr>\n",
       "    <tr>\n",
       "      <th>Recovered</th>\n",
       "      <td>321.0</td>\n",
       "      <td>3030.277259</td>\n",
       "      <td>14364.870365</td>\n",
       "      <td>0.0</td>\n",
       "      <td>2.0</td>\n",
       "      <td>73.0</td>\n",
       "      <td>587.0</td>\n",
       "      <td>132929.0</td>\n",
       "    </tr>\n",
       "  </tbody>\n",
       "</table>\n",
       "</div>"
      ],
      "text/plain": [
       "           count         mean           std  min    25%    50%     75%  \\\n",
       "Confirmed  321.0  9949.800623  31923.853086  0.0  104.0  653.0  4655.0   \n",
       "Deaths     321.0   709.152648   3236.162817  0.0    2.0   12.0   144.0   \n",
       "Recovered  321.0  3030.277259  14364.870365  0.0    2.0   73.0   587.0   \n",
       "\n",
       "                max  \n",
       "Confirmed  299691.0  \n",
       "Deaths      27682.0  \n",
       "Recovered  132929.0  "
      ]
     },
     "execution_count": 14,
     "metadata": {},
     "output_type": "execute_result"
    }
   ],
   "source": [
    "covid_data.describe().T"
   ]
  },
  {
   "cell_type": "markdown",
   "id": "584460c7-3cff-4e8c-9410-420065bdb820",
   "metadata": {},
   "source": [
    "### Q.1 ) Show the number of Confirmed , Deaths and Recovered cases in each Region."
   ]
  },
  {
   "cell_type": "code",
   "execution_count": 56,
   "id": "71305e5b-064c-4ba4-ad68-689a6c4062ca",
   "metadata": {},
   "outputs": [],
   "source": [
    "# df.groupby(\"REGION\").sum().head(50)\n",
    "# df.groupby(\"Region\")['Confirmed'].sum().sort_values(ascending=False).head(20) \n",
    "# df.groupby(\"Region\")[['Confirmed', 'Recovered']].sum() "
   ]
  },
  {
   "cell_type": "code",
   "execution_count": 57,
   "id": "abf73288-5755-4f64-b397-a6d111102bfc",
   "metadata": {},
   "outputs": [
    {
     "data": {
      "text/html": [
       "<div>\n",
       "<style scoped>\n",
       "    .dataframe tbody tr th:only-of-type {\n",
       "        vertical-align: middle;\n",
       "    }\n",
       "\n",
       "    .dataframe tbody tr th {\n",
       "        vertical-align: top;\n",
       "    }\n",
       "\n",
       "    .dataframe thead th {\n",
       "        text-align: right;\n",
       "    }\n",
       "</style>\n",
       "<table border=\"1\" class=\"dataframe\">\n",
       "  <thead>\n",
       "    <tr style=\"text-align: right;\">\n",
       "      <th></th>\n",
       "      <th>Date</th>\n",
       "      <th>State</th>\n",
       "      <th>Confirmed</th>\n",
       "      <th>Deaths</th>\n",
       "      <th>Recovered</th>\n",
       "    </tr>\n",
       "    <tr>\n",
       "      <th>Region</th>\n",
       "      <th></th>\n",
       "      <th></th>\n",
       "      <th></th>\n",
       "      <th></th>\n",
       "      <th></th>\n",
       "    </tr>\n",
       "  </thead>\n",
       "  <tbody>\n",
       "    <tr>\n",
       "      <th>Afghanistan</th>\n",
       "      <td>4/29/2020</td>\n",
       "      <td>0</td>\n",
       "      <td>1939</td>\n",
       "      <td>60</td>\n",
       "      <td>252</td>\n",
       "    </tr>\n",
       "    <tr>\n",
       "      <th>Albania</th>\n",
       "      <td>4/29/2020</td>\n",
       "      <td>0</td>\n",
       "      <td>766</td>\n",
       "      <td>30</td>\n",
       "      <td>455</td>\n",
       "    </tr>\n",
       "    <tr>\n",
       "      <th>Algeria</th>\n",
       "      <td>4/29/2020</td>\n",
       "      <td>0</td>\n",
       "      <td>3848</td>\n",
       "      <td>444</td>\n",
       "      <td>1702</td>\n",
       "    </tr>\n",
       "    <tr>\n",
       "      <th>Andorra</th>\n",
       "      <td>4/29/2020</td>\n",
       "      <td>0</td>\n",
       "      <td>743</td>\n",
       "      <td>42</td>\n",
       "      <td>423</td>\n",
       "    </tr>\n",
       "    <tr>\n",
       "      <th>Angola</th>\n",
       "      <td>4/29/2020</td>\n",
       "      <td>0</td>\n",
       "      <td>27</td>\n",
       "      <td>2</td>\n",
       "      <td>7</td>\n",
       "    </tr>\n",
       "    <tr>\n",
       "      <th>...</th>\n",
       "      <td>...</td>\n",
       "      <td>...</td>\n",
       "      <td>...</td>\n",
       "      <td>...</td>\n",
       "      <td>...</td>\n",
       "    </tr>\n",
       "    <tr>\n",
       "      <th>West Bank and Gaza</th>\n",
       "      <td>4/29/2020</td>\n",
       "      <td>0</td>\n",
       "      <td>344</td>\n",
       "      <td>2</td>\n",
       "      <td>71</td>\n",
       "    </tr>\n",
       "    <tr>\n",
       "      <th>Western Sahara</th>\n",
       "      <td>4/29/2020</td>\n",
       "      <td>0</td>\n",
       "      <td>6</td>\n",
       "      <td>0</td>\n",
       "      <td>5</td>\n",
       "    </tr>\n",
       "    <tr>\n",
       "      <th>Yemen</th>\n",
       "      <td>4/29/2020</td>\n",
       "      <td>0</td>\n",
       "      <td>6</td>\n",
       "      <td>0</td>\n",
       "      <td>1</td>\n",
       "    </tr>\n",
       "    <tr>\n",
       "      <th>Zambia</th>\n",
       "      <td>4/29/2020</td>\n",
       "      <td>0</td>\n",
       "      <td>97</td>\n",
       "      <td>3</td>\n",
       "      <td>54</td>\n",
       "    </tr>\n",
       "    <tr>\n",
       "      <th>Zimbabwe</th>\n",
       "      <td>4/29/2020</td>\n",
       "      <td>0</td>\n",
       "      <td>32</td>\n",
       "      <td>4</td>\n",
       "      <td>5</td>\n",
       "    </tr>\n",
       "  </tbody>\n",
       "</table>\n",
       "<p>187 rows × 5 columns</p>\n",
       "</div>"
      ],
      "text/plain": [
       "                         Date State  Confirmed  Deaths  Recovered\n",
       "Region                                                           \n",
       "Afghanistan         4/29/2020     0       1939      60        252\n",
       "Albania             4/29/2020     0        766      30        455\n",
       "Algeria             4/29/2020     0       3848     444       1702\n",
       "Andorra             4/29/2020     0        743      42        423\n",
       "Angola              4/29/2020     0         27       2          7\n",
       "...                       ...   ...        ...     ...        ...\n",
       "West Bank and Gaza  4/29/2020     0        344       2         71\n",
       "Western Sahara      4/29/2020     0          6       0          5\n",
       "Yemen               4/29/2020     0          6       0          1\n",
       "Zambia              4/29/2020     0         97       3         54\n",
       "Zimbabwe            4/29/2020     0         32       4          5\n",
       "\n",
       "[187 rows x 5 columns]"
      ]
     },
     "execution_count": 57,
     "metadata": {},
     "output_type": "execute_result"
    }
   ],
   "source": [
    "covid_data.groupby(\"Region\").sum()"
   ]
  },
  {
   "cell_type": "code",
   "execution_count": 58,
   "id": "c4685df8-7b86-4157-99df-9e5c4f850235",
   "metadata": {},
   "outputs": [
    {
     "data": {
      "text/plain": [
       "Region\n",
       "US                       1039909\n",
       "Spain                     236899\n",
       "Italy                     203591\n",
       "France                    166543\n",
       "UK                        166441\n",
       "                          ...   \n",
       "Sao Tome and Principe          8\n",
       "Papua New Guinea               8\n",
       "Bhutan                         7\n",
       "Western Sahara                 6\n",
       "Yemen                          6\n",
       "Name: Confirmed, Length: 187, dtype: int64"
      ]
     },
     "execution_count": 58,
     "metadata": {},
     "output_type": "execute_result"
    }
   ],
   "source": [
    "covid_data.groupby('Region')['Confirmed'].sum().sort_values(ascending=False)"
   ]
  },
  {
   "cell_type": "code",
   "execution_count": 59,
   "id": "bebbd20b-24df-4283-8656-61033db7d22d",
   "metadata": {},
   "outputs": [
    {
     "data": {
      "text/html": [
       "<div>\n",
       "<style scoped>\n",
       "    .dataframe tbody tr th:only-of-type {\n",
       "        vertical-align: middle;\n",
       "    }\n",
       "\n",
       "    .dataframe tbody tr th {\n",
       "        vertical-align: top;\n",
       "    }\n",
       "\n",
       "    .dataframe thead th {\n",
       "        text-align: right;\n",
       "    }\n",
       "</style>\n",
       "<table border=\"1\" class=\"dataframe\">\n",
       "  <thead>\n",
       "    <tr style=\"text-align: right;\">\n",
       "      <th></th>\n",
       "      <th>Confirmed</th>\n",
       "      <th>Recovered</th>\n",
       "    </tr>\n",
       "    <tr>\n",
       "      <th>Region</th>\n",
       "      <th></th>\n",
       "      <th></th>\n",
       "    </tr>\n",
       "  </thead>\n",
       "  <tbody>\n",
       "    <tr>\n",
       "      <th>Afghanistan</th>\n",
       "      <td>1939</td>\n",
       "      <td>252</td>\n",
       "    </tr>\n",
       "    <tr>\n",
       "      <th>Albania</th>\n",
       "      <td>766</td>\n",
       "      <td>455</td>\n",
       "    </tr>\n",
       "    <tr>\n",
       "      <th>Algeria</th>\n",
       "      <td>3848</td>\n",
       "      <td>1702</td>\n",
       "    </tr>\n",
       "    <tr>\n",
       "      <th>Andorra</th>\n",
       "      <td>743</td>\n",
       "      <td>423</td>\n",
       "    </tr>\n",
       "    <tr>\n",
       "      <th>Angola</th>\n",
       "      <td>27</td>\n",
       "      <td>7</td>\n",
       "    </tr>\n",
       "    <tr>\n",
       "      <th>...</th>\n",
       "      <td>...</td>\n",
       "      <td>...</td>\n",
       "    </tr>\n",
       "    <tr>\n",
       "      <th>West Bank and Gaza</th>\n",
       "      <td>344</td>\n",
       "      <td>71</td>\n",
       "    </tr>\n",
       "    <tr>\n",
       "      <th>Western Sahara</th>\n",
       "      <td>6</td>\n",
       "      <td>5</td>\n",
       "    </tr>\n",
       "    <tr>\n",
       "      <th>Yemen</th>\n",
       "      <td>6</td>\n",
       "      <td>1</td>\n",
       "    </tr>\n",
       "    <tr>\n",
       "      <th>Zambia</th>\n",
       "      <td>97</td>\n",
       "      <td>54</td>\n",
       "    </tr>\n",
       "    <tr>\n",
       "      <th>Zimbabwe</th>\n",
       "      <td>32</td>\n",
       "      <td>5</td>\n",
       "    </tr>\n",
       "  </tbody>\n",
       "</table>\n",
       "<p>187 rows × 2 columns</p>\n",
       "</div>"
      ],
      "text/plain": [
       "                    Confirmed  Recovered\n",
       "Region                                  \n",
       "Afghanistan              1939        252\n",
       "Albania                   766        455\n",
       "Algeria                  3848       1702\n",
       "Andorra                   743        423\n",
       "Angola                     27          7\n",
       "...                       ...        ...\n",
       "West Bank and Gaza        344         71\n",
       "Western Sahara              6          5\n",
       "Yemen                       6          1\n",
       "Zambia                     97         54\n",
       "Zimbabwe                   32          5\n",
       "\n",
       "[187 rows x 2 columns]"
      ]
     },
     "execution_count": 59,
     "metadata": {},
     "output_type": "execute_result"
    }
   ],
   "source": [
    "covid_data.groupby('Region')[['Confirmed', 'Recovered']].sum()"
   ]
  },
  {
   "cell_type": "markdown",
   "id": "f7e98f57-3e3f-4e64-b2da-3d0fb1a0eb14",
   "metadata": {},
   "source": [
    "### Q2) Remove all the records where Confirmed Cases is Less Than 10."
   ]
  },
  {
   "cell_type": "code",
   "execution_count": 61,
   "id": "b1f2c5e2-8e7e-4de4-87e1-89b193842c54",
   "metadata": {},
   "outputs": [],
   "source": [
    "# df.Confirmed<10 \n",
    "# df[df.Confirmed < 10] \n",
    "# df[~(df.Confirmed < 10)]\n",
    "# df = df[~(df.Confirmed < 10)]"
   ]
  },
  {
   "cell_type": "code",
   "execution_count": 65,
   "id": "76345c9d-a47e-4c83-b759-999d96f8ad38",
   "metadata": {},
   "outputs": [
    {
     "data": {
      "text/plain": [
       "0      False\n",
       "1      False\n",
       "2      False\n",
       "3      False\n",
       "4      False\n",
       "       ...  \n",
       "316    False\n",
       "317    False\n",
       "318    False\n",
       "319    False\n",
       "320    False\n",
       "Name: Confirmed, Length: 321, dtype: bool"
      ]
     },
     "execution_count": 65,
     "metadata": {},
     "output_type": "execute_result"
    }
   ],
   "source": [
    "# it return Series \n",
    "covid_data.Confirmed < 10"
   ]
  },
  {
   "cell_type": "code",
   "execution_count": 67,
   "id": "f785b4e2-994c-4861-ab5d-51bcf91c021b",
   "metadata": {},
   "outputs": [
    {
     "data": {
      "text/html": [
       "<div>\n",
       "<style scoped>\n",
       "    .dataframe tbody tr th:only-of-type {\n",
       "        vertical-align: middle;\n",
       "    }\n",
       "\n",
       "    .dataframe tbody tr th {\n",
       "        vertical-align: top;\n",
       "    }\n",
       "\n",
       "    .dataframe thead th {\n",
       "        text-align: right;\n",
       "    }\n",
       "</style>\n",
       "<table border=\"1\" class=\"dataframe\">\n",
       "  <thead>\n",
       "    <tr style=\"text-align: right;\">\n",
       "      <th></th>\n",
       "      <th>Date</th>\n",
       "      <th>State</th>\n",
       "      <th>Region</th>\n",
       "      <th>Confirmed</th>\n",
       "      <th>Deaths</th>\n",
       "      <th>Recovered</th>\n",
       "    </tr>\n",
       "  </thead>\n",
       "  <tbody>\n",
       "    <tr>\n",
       "      <th>18</th>\n",
       "      <td>4/29/2020</td>\n",
       "      <td>NaN</td>\n",
       "      <td>Bhutan</td>\n",
       "      <td>7</td>\n",
       "      <td>0</td>\n",
       "      <td>5</td>\n",
       "    </tr>\n",
       "    <tr>\n",
       "      <th>98</th>\n",
       "      <td>4/29/2020</td>\n",
       "      <td>NaN</td>\n",
       "      <td>MS Zaandam</td>\n",
       "      <td>9</td>\n",
       "      <td>2</td>\n",
       "      <td>0</td>\n",
       "    </tr>\n",
       "    <tr>\n",
       "      <th>105</th>\n",
       "      <td>4/29/2020</td>\n",
       "      <td>NaN</td>\n",
       "      <td>Mauritania</td>\n",
       "      <td>8</td>\n",
       "      <td>1</td>\n",
       "      <td>6</td>\n",
       "    </tr>\n",
       "    <tr>\n",
       "      <th>126</th>\n",
       "      <td>4/29/2020</td>\n",
       "      <td>NaN</td>\n",
       "      <td>Papua New Guinea</td>\n",
       "      <td>8</td>\n",
       "      <td>0</td>\n",
       "      <td>0</td>\n",
       "    </tr>\n",
       "    <tr>\n",
       "      <th>140</th>\n",
       "      <td>4/29/2020</td>\n",
       "      <td>NaN</td>\n",
       "      <td>Sao Tome and Principe</td>\n",
       "      <td>8</td>\n",
       "      <td>0</td>\n",
       "      <td>4</td>\n",
       "    </tr>\n",
       "    <tr>\n",
       "      <th>177</th>\n",
       "      <td>4/29/2020</td>\n",
       "      <td>NaN</td>\n",
       "      <td>Western Sahara</td>\n",
       "      <td>6</td>\n",
       "      <td>0</td>\n",
       "      <td>5</td>\n",
       "    </tr>\n",
       "    <tr>\n",
       "      <th>178</th>\n",
       "      <td>4/29/2020</td>\n",
       "      <td>NaN</td>\n",
       "      <td>Yemen</td>\n",
       "      <td>6</td>\n",
       "      <td>0</td>\n",
       "      <td>1</td>\n",
       "    </tr>\n",
       "    <tr>\n",
       "      <th>184</th>\n",
       "      <td>4/29/2020</td>\n",
       "      <td>Anguilla</td>\n",
       "      <td>UK</td>\n",
       "      <td>3</td>\n",
       "      <td>0</td>\n",
       "      <td>3</td>\n",
       "    </tr>\n",
       "    <tr>\n",
       "      <th>192</th>\n",
       "      <td>4/29/2020</td>\n",
       "      <td>Bonaire, Sint Eustatius and Saba</td>\n",
       "      <td>Netherlands</td>\n",
       "      <td>5</td>\n",
       "      <td>0</td>\n",
       "      <td>0</td>\n",
       "    </tr>\n",
       "    <tr>\n",
       "      <th>194</th>\n",
       "      <td>4/29/2020</td>\n",
       "      <td>British Virgin Islands</td>\n",
       "      <td>UK</td>\n",
       "      <td>6</td>\n",
       "      <td>1</td>\n",
       "      <td>3</td>\n",
       "    </tr>\n",
       "    <tr>\n",
       "      <th>203</th>\n",
       "      <td>4/29/2020</td>\n",
       "      <td>Diamond Princess cruise ship</td>\n",
       "      <td>Canada</td>\n",
       "      <td>0</td>\n",
       "      <td>1</td>\n",
       "      <td>0</td>\n",
       "    </tr>\n",
       "    <tr>\n",
       "      <th>272</th>\n",
       "      <td>4/29/2020</td>\n",
       "      <td>Northwest Territories</td>\n",
       "      <td>Canada</td>\n",
       "      <td>5</td>\n",
       "      <td>0</td>\n",
       "      <td>0</td>\n",
       "    </tr>\n",
       "    <tr>\n",
       "      <th>284</th>\n",
       "      <td>4/29/2020</td>\n",
       "      <td>Recovered</td>\n",
       "      <td>Canada</td>\n",
       "      <td>0</td>\n",
       "      <td>0</td>\n",
       "      <td>20327</td>\n",
       "    </tr>\n",
       "    <tr>\n",
       "      <th>285</th>\n",
       "      <td>4/29/2020</td>\n",
       "      <td>Recovered</td>\n",
       "      <td>US</td>\n",
       "      <td>0</td>\n",
       "      <td>0</td>\n",
       "      <td>120720</td>\n",
       "    </tr>\n",
       "    <tr>\n",
       "      <th>288</th>\n",
       "      <td>4/29/2020</td>\n",
       "      <td>Saint Barthelemy</td>\n",
       "      <td>France</td>\n",
       "      <td>6</td>\n",
       "      <td>0</td>\n",
       "      <td>6</td>\n",
       "    </tr>\n",
       "    <tr>\n",
       "      <th>289</th>\n",
       "      <td>4/29/2020</td>\n",
       "      <td>Saint Pierre and Miquelon</td>\n",
       "      <td>France</td>\n",
       "      <td>1</td>\n",
       "      <td>0</td>\n",
       "      <td>0</td>\n",
       "    </tr>\n",
       "    <tr>\n",
       "      <th>305</th>\n",
       "      <td>4/29/2020</td>\n",
       "      <td>Tibet</td>\n",
       "      <td>Mainland China</td>\n",
       "      <td>1</td>\n",
       "      <td>0</td>\n",
       "      <td>1</td>\n",
       "    </tr>\n",
       "  </tbody>\n",
       "</table>\n",
       "</div>"
      ],
      "text/plain": [
       "          Date                             State                 Region  \\\n",
       "18   4/29/2020                               NaN                 Bhutan   \n",
       "98   4/29/2020                               NaN             MS Zaandam   \n",
       "105  4/29/2020                               NaN             Mauritania   \n",
       "126  4/29/2020                               NaN       Papua New Guinea   \n",
       "140  4/29/2020                               NaN  Sao Tome and Principe   \n",
       "177  4/29/2020                               NaN         Western Sahara   \n",
       "178  4/29/2020                               NaN                  Yemen   \n",
       "184  4/29/2020                          Anguilla                     UK   \n",
       "192  4/29/2020  Bonaire, Sint Eustatius and Saba            Netherlands   \n",
       "194  4/29/2020            British Virgin Islands                     UK   \n",
       "203  4/29/2020      Diamond Princess cruise ship                 Canada   \n",
       "272  4/29/2020             Northwest Territories                 Canada   \n",
       "284  4/29/2020                         Recovered                 Canada   \n",
       "285  4/29/2020                         Recovered                     US   \n",
       "288  4/29/2020                  Saint Barthelemy                 France   \n",
       "289  4/29/2020         Saint Pierre and Miquelon                 France   \n",
       "305  4/29/2020                             Tibet         Mainland China   \n",
       "\n",
       "     Confirmed  Deaths  Recovered  \n",
       "18           7       0          5  \n",
       "98           9       2          0  \n",
       "105          8       1          6  \n",
       "126          8       0          0  \n",
       "140          8       0          4  \n",
       "177          6       0          5  \n",
       "178          6       0          1  \n",
       "184          3       0          3  \n",
       "192          5       0          0  \n",
       "194          6       1          3  \n",
       "203          0       1          0  \n",
       "272          5       0          0  \n",
       "284          0       0      20327  \n",
       "285          0       0     120720  \n",
       "288          6       0          6  \n",
       "289          1       0          0  \n",
       "305          1       0          1  "
      ]
     },
     "execution_count": 67,
     "metadata": {},
     "output_type": "execute_result"
    }
   ],
   "source": [
    "# it returns dataframe\n",
    "covid_data[covid_data.Confirmed < 10]"
   ]
  },
  {
   "cell_type": "code",
   "execution_count": 76,
   "id": "1836f463-e837-4e3f-b2d6-91beef67fe95",
   "metadata": {},
   "outputs": [],
   "source": [
    "# remove every less than 10 Conformed records and save this in new dataFrame\n",
    "data = covid_data[~(covid_data.Confirmed < 10)] # remove the records satisfying a particalar condition"
   ]
  },
  {
   "cell_type": "code",
   "execution_count": 77,
   "id": "498e11a2-2451-409a-97fd-3c212338f0b1",
   "metadata": {},
   "outputs": [
    {
     "data": {
      "text/plain": [
       "array([  1939,    766,   3848,    743,     27,     24,   4285,   1932,\n",
       "        15402,   1766,     80,   2921,   7103,  13181,  47859,     18,\n",
       "           64,   1110,   1677,     23,  79685,    138,   1447,    641,\n",
       "          150,     11,    114,    122,   1832,     50,     52,  14885,\n",
       "         6207,    207,    491,    713,   2062,   1467,    843,   7579,\n",
       "         9008,    712,   1077,     16,   6652,  24675,   5268,    377,\n",
       "          315,     39,   1666,     91,    130,   4906, 165093,    276,\n",
       "           10,    517, 161539,   1671,   2576,     20,    557,   1351,\n",
       "          205,     78,     76,    738,   2727,   1797,  33062,   9771,\n",
       "        93657,   2003,  20253,  15834, 203591,   1238,    396,  13895,\n",
       "          451,   3138,    384,    510,   3740,    729,     19,    849,\n",
       "          721,    141,     61,     82,   1375,   3769,    128,     36,\n",
       "         5945,    278,    482,    463,    332,  17799,   3771,     95,\n",
       "           38,    322,   4321,     57,  38802,   1476,     13,   1728,\n",
       "         1442,   7710,   2274,  15525,   6378,    239,  33931,   8212,\n",
       "        12640,  24505,  12564,  11978,  99399,    225,     15,     17,\n",
       "          563,  21402,    882,   6630,    104,  15641,   1391,   1418,\n",
       "          582,   5350,  10765,     34, 236899,    649,    375,  20302,\n",
       "        29407,     43,    429,    480,   2947,    109,    116,    980,\n",
       "       117589, 165221,     81,   9866,  11929,    630,   2002,    331,\n",
       "          270,    344,     97,     32,   6912,    355,   5165,    991,\n",
       "         7209,   3193,    100,    106,    593,    111,   2087,  48747,\n",
       "           73,    537,    579,  14758,  26767,   4655,     49,   4106,\n",
       "          187,  33193,    125,     58,    139,  25775,    103,    149,\n",
       "         1588,    254,    147,    168,    613,    328,    939,   1276,\n",
       "         1037,  68128,   1019,   1952,  50358,  17182,    200,   6843,\n",
       "          313,    653,    937,   3839,   4537,    146,  27660,     45,\n",
       "         1056,    275,    175,  20849,  60265,    460,  40399,   4644,\n",
       "         6569,   7660,   3851,   4934,    118,   2058, 116365,   3213,\n",
       "         3016, 299691,    258,     75,  10180,   1033,     14,     28,\n",
       "          935,  17303,   3473,  16978,   2446,  46327,   1433,  26610,\n",
       "          420,   8247,    383,    306,    787,    647,    197,    561,\n",
       "          438,   5882,   2373,    219,  10366,  27257,    190,     12,\n",
       "         4497,    862,   1361,  14962,  14070,    551,   6520,    545,\n",
       "          185,   1268])"
      ]
     },
     "execution_count": 77,
     "metadata": {},
     "output_type": "execute_result"
    }
   ],
   "source": [
    "# check for unique values in Confirmed column\n",
    "data.Confirmed.unique()"
   ]
  },
  {
   "cell_type": "markdown",
   "id": "2ac7a590-0f96-4b12-be62-1849bc6ef067",
   "metadata": {},
   "source": [
    "### Q.3) In which Region, maximum number of Confirmed cases were recorded ?"
   ]
  },
  {
   "cell_type": "code",
   "execution_count": 78,
   "id": "febf9501-393a-419f-8590-12b367fd0c3f",
   "metadata": {},
   "outputs": [],
   "source": [
    "# df.groupby('Region').Deaths.sum().sort_values(ascending=True).head(50)"
   ]
  },
  {
   "cell_type": "code",
   "execution_count": 83,
   "id": "9eb41290-0f30-4377-87d8-0361473dff47",
   "metadata": {},
   "outputs": [
    {
     "data": {
      "text/plain": [
       "Region\n",
       "US                1039909\n",
       "Spain              236899\n",
       "Italy              203591\n",
       "France             166543\n",
       "UK                 166441\n",
       "Germany            161539\n",
       "Turkey             117589\n",
       "Russia              99399\n",
       "Iran                93657\n",
       "Mainland China      82862\n",
       "Brazil              79685\n",
       "Canada              52865\n",
       "Belgium             47859\n",
       "Netherlands         38998\n",
       "Peru                33931\n",
       "India               33062\n",
       "Switzerland         29407\n",
       "Ecuador             24675\n",
       "Portugal            24505\n",
       "Saudi Arabia        21402\n",
       "Name: Confirmed, dtype: int64"
      ]
     },
     "execution_count": 83,
     "metadata": {},
     "output_type": "execute_result"
    }
   ],
   "source": [
    "covid_data.groupby(\"Region\").Confirmed.sum().sort_values(ascending=False).head(20) "
   ]
  },
  {
   "cell_type": "markdown",
   "id": "a67b9c98-a743-4d5b-a0ad-b3341a29999e",
   "metadata": {},
   "source": [
    "### Q.4) In which Region, minimum number of Deaths cases were recorded ?"
   ]
  },
  {
   "cell_type": "code",
   "execution_count": 85,
   "id": "8ac5913e-c993-41fd-8a4e-2ce665008d9a",
   "metadata": {},
   "outputs": [],
   "source": [
    "# df.groupby(\"Region\").Deaths.sum().sort_values(ascending=True)"
   ]
  },
  {
   "cell_type": "code",
   "execution_count": 89,
   "id": "cd4fde4a-7c8a-41cb-afda-b3b661c0356b",
   "metadata": {},
   "outputs": [
    {
     "data": {
      "text/plain": [
       "Region\n",
       "US                60967\n",
       "Italy             27682\n",
       "UK                26166\n",
       "Spain             24275\n",
       "France            24121\n",
       "Belgium            7501\n",
       "Germany            6467\n",
       "Iran               5957\n",
       "Brazil             5513\n",
       "Netherlands        4727\n",
       "Mainland China     4633\n",
       "Canada             3155\n",
       "Turkey             3081\n",
       "Sweden             2462\n",
       "Mexico             1732\n",
       "Switzerland        1716\n",
       "Ireland            1190\n",
       "India              1079\n",
       "Portugal            973\n",
       "Russia              972\n",
       "Name: Deaths, dtype: int64"
      ]
     },
     "execution_count": 89,
     "metadata": {},
     "output_type": "execute_result"
    }
   ],
   "source": [
    "covid_data.groupby(\"Region\").Deaths.sum().sort_values(ascending=False).head(20)"
   ]
  },
  {
   "cell_type": "markdown",
   "id": "a17ebced-5b21-427e-8790-187fc0e60d76",
   "metadata": {},
   "source": [
    "### Q.5) How many Confirmed , Deaths & Recovered cases were reported from India till 29 April 2020 ?"
   ]
  },
  {
   "cell_type": "code",
   "execution_count": 96,
   "id": "6e251ae0-28e2-4e6a-a846-564c313d1ac9",
   "metadata": {},
   "outputs": [],
   "source": [
    "#df[df.Region == 'Country_name']"
   ]
  },
  {
   "cell_type": "code",
   "execution_count": 98,
   "id": "112fbe89-228d-44c0-b0bb-e1dc03ff76f8",
   "metadata": {},
   "outputs": [
    {
     "data": {
      "text/html": [
       "<div>\n",
       "<style scoped>\n",
       "    .dataframe tbody tr th:only-of-type {\n",
       "        vertical-align: middle;\n",
       "    }\n",
       "\n",
       "    .dataframe tbody tr th {\n",
       "        vertical-align: top;\n",
       "    }\n",
       "\n",
       "    .dataframe thead th {\n",
       "        text-align: right;\n",
       "    }\n",
       "</style>\n",
       "<table border=\"1\" class=\"dataframe\">\n",
       "  <thead>\n",
       "    <tr style=\"text-align: right;\">\n",
       "      <th></th>\n",
       "      <th>Date</th>\n",
       "      <th>State</th>\n",
       "      <th>Region</th>\n",
       "      <th>Confirmed</th>\n",
       "      <th>Deaths</th>\n",
       "      <th>Recovered</th>\n",
       "    </tr>\n",
       "  </thead>\n",
       "  <tbody>\n",
       "    <tr>\n",
       "      <th>0</th>\n",
       "      <td>4/29/2020</td>\n",
       "      <td>NaN</td>\n",
       "      <td>Afghanistan</td>\n",
       "      <td>1939</td>\n",
       "      <td>60</td>\n",
       "      <td>252</td>\n",
       "    </tr>\n",
       "    <tr>\n",
       "      <th>1</th>\n",
       "      <td>4/29/2020</td>\n",
       "      <td>NaN</td>\n",
       "      <td>Albania</td>\n",
       "      <td>766</td>\n",
       "      <td>30</td>\n",
       "      <td>455</td>\n",
       "    </tr>\n",
       "  </tbody>\n",
       "</table>\n",
       "</div>"
      ],
      "text/plain": [
       "        Date State       Region  Confirmed  Deaths  Recovered\n",
       "0  4/29/2020   NaN  Afghanistan       1939      60        252\n",
       "1  4/29/2020   NaN      Albania        766      30        455"
      ]
     },
     "execution_count": 98,
     "metadata": {},
     "output_type": "execute_result"
    }
   ],
   "source": [
    "covid_data.head(2)"
   ]
  },
  {
   "cell_type": "code",
   "execution_count": 104,
   "id": "d5cd3b48-5e94-454d-9981-7bf2d4db0efe",
   "metadata": {},
   "outputs": [
    {
     "data": {
      "text/html": [
       "<div>\n",
       "<style scoped>\n",
       "    .dataframe tbody tr th:only-of-type {\n",
       "        vertical-align: middle;\n",
       "    }\n",
       "\n",
       "    .dataframe tbody tr th {\n",
       "        vertical-align: top;\n",
       "    }\n",
       "\n",
       "    .dataframe thead th {\n",
       "        text-align: right;\n",
       "    }\n",
       "</style>\n",
       "<table border=\"1\" class=\"dataframe\">\n",
       "  <thead>\n",
       "    <tr style=\"text-align: right;\">\n",
       "      <th></th>\n",
       "      <th>Date</th>\n",
       "      <th>State</th>\n",
       "      <th>Region</th>\n",
       "      <th>Confirmed</th>\n",
       "      <th>Deaths</th>\n",
       "      <th>Recovered</th>\n",
       "    </tr>\n",
       "  </thead>\n",
       "  <tbody>\n",
       "    <tr>\n",
       "      <th>74</th>\n",
       "      <td>4/29/2020</td>\n",
       "      <td>NaN</td>\n",
       "      <td>India</td>\n",
       "      <td>33062</td>\n",
       "      <td>1079</td>\n",
       "      <td>8437</td>\n",
       "    </tr>\n",
       "  </tbody>\n",
       "</table>\n",
       "</div>"
      ],
      "text/plain": [
       "         Date State Region  Confirmed  Deaths  Recovered\n",
       "74  4/29/2020   NaN  India      33062    1079       8437"
      ]
     },
     "execution_count": 104,
     "metadata": {},
     "output_type": "execute_result"
    }
   ],
   "source": [
    "covid_data[(covid_data['Region'] == \"India\") & (covid_data['Date'] == \"4/29/2020\")]"
   ]
  },
  {
   "cell_type": "markdown",
   "id": "98b662fa-fdef-4595-bcb5-98b5571fa9b0",
   "metadata": {},
   "source": [
    "### Q. 6-A ) Sort the entire data wrt No. of Confirmed cases in ascending order."
   ]
  },
  {
   "cell_type": "code",
   "execution_count": 105,
   "id": "567450f7-045f-4da5-94b0-01be705b9592",
   "metadata": {},
   "outputs": [],
   "source": [
    "# df.sort_values(by= [\"Confirmed\"], ascending=True)"
   ]
  },
  {
   "cell_type": "code",
   "execution_count": 106,
   "id": "f4b2a674-c4a1-45cc-b0ca-6d288c8565a8",
   "metadata": {},
   "outputs": [
    {
     "data": {
      "text/html": [
       "<div>\n",
       "<style scoped>\n",
       "    .dataframe tbody tr th:only-of-type {\n",
       "        vertical-align: middle;\n",
       "    }\n",
       "\n",
       "    .dataframe tbody tr th {\n",
       "        vertical-align: top;\n",
       "    }\n",
       "\n",
       "    .dataframe thead th {\n",
       "        text-align: right;\n",
       "    }\n",
       "</style>\n",
       "<table border=\"1\" class=\"dataframe\">\n",
       "  <thead>\n",
       "    <tr style=\"text-align: right;\">\n",
       "      <th></th>\n",
       "      <th>Date</th>\n",
       "      <th>State</th>\n",
       "      <th>Region</th>\n",
       "      <th>Confirmed</th>\n",
       "      <th>Deaths</th>\n",
       "      <th>Recovered</th>\n",
       "    </tr>\n",
       "  </thead>\n",
       "  <tbody>\n",
       "    <tr>\n",
       "      <th>285</th>\n",
       "      <td>4/29/2020</td>\n",
       "      <td>Recovered</td>\n",
       "      <td>US</td>\n",
       "      <td>0</td>\n",
       "      <td>0</td>\n",
       "      <td>120720</td>\n",
       "    </tr>\n",
       "    <tr>\n",
       "      <th>284</th>\n",
       "      <td>4/29/2020</td>\n",
       "      <td>Recovered</td>\n",
       "      <td>Canada</td>\n",
       "      <td>0</td>\n",
       "      <td>0</td>\n",
       "      <td>20327</td>\n",
       "    </tr>\n",
       "    <tr>\n",
       "      <th>203</th>\n",
       "      <td>4/29/2020</td>\n",
       "      <td>Diamond Princess cruise ship</td>\n",
       "      <td>Canada</td>\n",
       "      <td>0</td>\n",
       "      <td>1</td>\n",
       "      <td>0</td>\n",
       "    </tr>\n",
       "    <tr>\n",
       "      <th>305</th>\n",
       "      <td>4/29/2020</td>\n",
       "      <td>Tibet</td>\n",
       "      <td>Mainland China</td>\n",
       "      <td>1</td>\n",
       "      <td>0</td>\n",
       "      <td>1</td>\n",
       "    </tr>\n",
       "    <tr>\n",
       "      <th>289</th>\n",
       "      <td>4/29/2020</td>\n",
       "      <td>Saint Pierre and Miquelon</td>\n",
       "      <td>France</td>\n",
       "      <td>1</td>\n",
       "      <td>0</td>\n",
       "      <td>0</td>\n",
       "    </tr>\n",
       "    <tr>\n",
       "      <th>...</th>\n",
       "      <td>...</td>\n",
       "      <td>...</td>\n",
       "      <td>...</td>\n",
       "      <td>...</td>\n",
       "      <td>...</td>\n",
       "      <td>...</td>\n",
       "    </tr>\n",
       "    <tr>\n",
       "      <th>57</th>\n",
       "      <td>4/29/2020</td>\n",
       "      <td>NaN</td>\n",
       "      <td>France</td>\n",
       "      <td>165093</td>\n",
       "      <td>24087</td>\n",
       "      <td>48228</td>\n",
       "    </tr>\n",
       "    <tr>\n",
       "      <th>168</th>\n",
       "      <td>4/29/2020</td>\n",
       "      <td>NaN</td>\n",
       "      <td>UK</td>\n",
       "      <td>165221</td>\n",
       "      <td>26097</td>\n",
       "      <td>0</td>\n",
       "    </tr>\n",
       "    <tr>\n",
       "      <th>80</th>\n",
       "      <td>4/29/2020</td>\n",
       "      <td>NaN</td>\n",
       "      <td>Italy</td>\n",
       "      <td>203591</td>\n",
       "      <td>27682</td>\n",
       "      <td>71252</td>\n",
       "    </tr>\n",
       "    <tr>\n",
       "      <th>153</th>\n",
       "      <td>4/29/2020</td>\n",
       "      <td>NaN</td>\n",
       "      <td>Spain</td>\n",
       "      <td>236899</td>\n",
       "      <td>24275</td>\n",
       "      <td>132929</td>\n",
       "    </tr>\n",
       "    <tr>\n",
       "      <th>265</th>\n",
       "      <td>4/29/2020</td>\n",
       "      <td>New York</td>\n",
       "      <td>US</td>\n",
       "      <td>299691</td>\n",
       "      <td>23477</td>\n",
       "      <td>0</td>\n",
       "    </tr>\n",
       "  </tbody>\n",
       "</table>\n",
       "<p>321 rows × 6 columns</p>\n",
       "</div>"
      ],
      "text/plain": [
       "          Date                         State          Region  Confirmed  \\\n",
       "285  4/29/2020                     Recovered              US          0   \n",
       "284  4/29/2020                     Recovered          Canada          0   \n",
       "203  4/29/2020  Diamond Princess cruise ship          Canada          0   \n",
       "305  4/29/2020                         Tibet  Mainland China          1   \n",
       "289  4/29/2020     Saint Pierre and Miquelon          France          1   \n",
       "..         ...                           ...             ...        ...   \n",
       "57   4/29/2020                           NaN          France     165093   \n",
       "168  4/29/2020                           NaN              UK     165221   \n",
       "80   4/29/2020                           NaN           Italy     203591   \n",
       "153  4/29/2020                           NaN           Spain     236899   \n",
       "265  4/29/2020                      New York              US     299691   \n",
       "\n",
       "     Deaths  Recovered  \n",
       "285       0     120720  \n",
       "284       0      20327  \n",
       "203       1          0  \n",
       "305       0          1  \n",
       "289       0          0  \n",
       "..      ...        ...  \n",
       "57    24087      48228  \n",
       "168   26097          0  \n",
       "80    27682      71252  \n",
       "153   24275     132929  \n",
       "265   23477          0  \n",
       "\n",
       "[321 rows x 6 columns]"
      ]
     },
     "execution_count": 106,
     "metadata": {},
     "output_type": "execute_result"
    }
   ],
   "source": [
    "covid_data.sort_values(by= ['Confirmed'], ascending=True)"
   ]
  },
  {
   "cell_type": "markdown",
   "id": "8cf2de90-7467-4a52-9fa4-0b1bcf55bfce",
   "metadata": {},
   "source": [
    "### Q. 6-B ) Sort the entire data wrt No. of Recovered cases in descending order."
   ]
  },
  {
   "cell_type": "code",
   "execution_count": 107,
   "id": "e69149e3-b9ee-4498-a2ee-a32412260fb9",
   "metadata": {},
   "outputs": [
    {
     "data": {
      "text/html": [
       "<div>\n",
       "<style scoped>\n",
       "    .dataframe tbody tr th:only-of-type {\n",
       "        vertical-align: middle;\n",
       "    }\n",
       "\n",
       "    .dataframe tbody tr th {\n",
       "        vertical-align: top;\n",
       "    }\n",
       "\n",
       "    .dataframe thead th {\n",
       "        text-align: right;\n",
       "    }\n",
       "</style>\n",
       "<table border=\"1\" class=\"dataframe\">\n",
       "  <thead>\n",
       "    <tr style=\"text-align: right;\">\n",
       "      <th></th>\n",
       "      <th>Date</th>\n",
       "      <th>State</th>\n",
       "      <th>Region</th>\n",
       "      <th>Confirmed</th>\n",
       "      <th>Deaths</th>\n",
       "      <th>Recovered</th>\n",
       "    </tr>\n",
       "  </thead>\n",
       "  <tbody>\n",
       "    <tr>\n",
       "      <th>153</th>\n",
       "      <td>4/29/2020</td>\n",
       "      <td>NaN</td>\n",
       "      <td>Spain</td>\n",
       "      <td>236899</td>\n",
       "      <td>24275</td>\n",
       "      <td>132929</td>\n",
       "    </tr>\n",
       "    <tr>\n",
       "      <th>285</th>\n",
       "      <td>4/29/2020</td>\n",
       "      <td>Recovered</td>\n",
       "      <td>US</td>\n",
       "      <td>0</td>\n",
       "      <td>0</td>\n",
       "      <td>120720</td>\n",
       "    </tr>\n",
       "    <tr>\n",
       "      <th>61</th>\n",
       "      <td>4/29/2020</td>\n",
       "      <td>NaN</td>\n",
       "      <td>Germany</td>\n",
       "      <td>161539</td>\n",
       "      <td>6467</td>\n",
       "      <td>120400</td>\n",
       "    </tr>\n",
       "    <tr>\n",
       "      <th>76</th>\n",
       "      <td>4/29/2020</td>\n",
       "      <td>NaN</td>\n",
       "      <td>Iran</td>\n",
       "      <td>93657</td>\n",
       "      <td>5957</td>\n",
       "      <td>73791</td>\n",
       "    </tr>\n",
       "    <tr>\n",
       "      <th>80</th>\n",
       "      <td>4/29/2020</td>\n",
       "      <td>NaN</td>\n",
       "      <td>Italy</td>\n",
       "      <td>203591</td>\n",
       "      <td>27682</td>\n",
       "      <td>71252</td>\n",
       "    </tr>\n",
       "    <tr>\n",
       "      <th>...</th>\n",
       "      <td>...</td>\n",
       "      <td>...</td>\n",
       "      <td>...</td>\n",
       "      <td>...</td>\n",
       "      <td>...</td>\n",
       "      <td>...</td>\n",
       "    </tr>\n",
       "    <tr>\n",
       "      <th>248</th>\n",
       "      <td>4/29/2020</td>\n",
       "      <td>Maryland</td>\n",
       "      <td>US</td>\n",
       "      <td>20849</td>\n",
       "      <td>1078</td>\n",
       "      <td>0</td>\n",
       "    </tr>\n",
       "    <tr>\n",
       "      <th>246</th>\n",
       "      <td>4/29/2020</td>\n",
       "      <td>Manitoba</td>\n",
       "      <td>Canada</td>\n",
       "      <td>275</td>\n",
       "      <td>6</td>\n",
       "      <td>0</td>\n",
       "    </tr>\n",
       "    <tr>\n",
       "      <th>243</th>\n",
       "      <td>4/29/2020</td>\n",
       "      <td>Louisiana</td>\n",
       "      <td>US</td>\n",
       "      <td>27660</td>\n",
       "      <td>1845</td>\n",
       "      <td>0</td>\n",
       "    </tr>\n",
       "    <tr>\n",
       "      <th>241</th>\n",
       "      <td>4/29/2020</td>\n",
       "      <td>Kentucky</td>\n",
       "      <td>US</td>\n",
       "      <td>4537</td>\n",
       "      <td>234</td>\n",
       "      <td>0</td>\n",
       "    </tr>\n",
       "    <tr>\n",
       "      <th>215</th>\n",
       "      <td>4/29/2020</td>\n",
       "      <td>Grand Princess</td>\n",
       "      <td>Canada</td>\n",
       "      <td>13</td>\n",
       "      <td>0</td>\n",
       "      <td>0</td>\n",
       "    </tr>\n",
       "  </tbody>\n",
       "</table>\n",
       "<p>321 rows × 6 columns</p>\n",
       "</div>"
      ],
      "text/plain": [
       "          Date           State   Region  Confirmed  Deaths  Recovered\n",
       "153  4/29/2020             NaN    Spain     236899   24275     132929\n",
       "285  4/29/2020       Recovered       US          0       0     120720\n",
       "61   4/29/2020             NaN  Germany     161539    6467     120400\n",
       "76   4/29/2020             NaN     Iran      93657    5957      73791\n",
       "80   4/29/2020             NaN    Italy     203591   27682      71252\n",
       "..         ...             ...      ...        ...     ...        ...\n",
       "248  4/29/2020        Maryland       US      20849    1078          0\n",
       "246  4/29/2020        Manitoba   Canada        275       6          0\n",
       "243  4/29/2020       Louisiana       US      27660    1845          0\n",
       "241  4/29/2020        Kentucky       US       4537     234          0\n",
       "215  4/29/2020  Grand Princess   Canada         13       0          0\n",
       "\n",
       "[321 rows x 6 columns]"
      ]
     },
     "execution_count": 107,
     "metadata": {},
     "output_type": "execute_result"
    }
   ],
   "source": [
    "covid_data.sort_values(by=[\"Recovered\"], ascending=False)"
   ]
  }
 ],
 "metadata": {
  "kernelspec": {
   "display_name": "Python 3 (ipykernel)",
   "language": "python",
   "name": "python3"
  },
  "language_info": {
   "codemirror_mode": {
    "name": "ipython",
    "version": 3
   },
   "file_extension": ".py",
   "mimetype": "text/x-python",
   "name": "python",
   "nbconvert_exporter": "python",
   "pygments_lexer": "ipython3",
   "version": "3.12.4"
  }
 },
 "nbformat": 4,
 "nbformat_minor": 5
}
