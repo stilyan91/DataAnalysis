{
 "cells": [
  {
   "cell_type": "code",
   "execution_count": 1,
   "id": "93ade594-f134-446a-bcf6-87d29a63bc7e",
   "metadata": {},
   "outputs": [],
   "source": [
    "%matplotlib inline"
   ]
  },
  {
   "cell_type": "markdown",
   "id": "8479de8d-58e0-41dd-ace1-174d8a43ecca",
   "metadata": {},
   "source": [
    "## Netflix Dataset"
   ]
  },
  {
   "cell_type": "markdown",
   "id": "d3e5935b-af5e-4ce7-b276-a23f31534dd0",
   "metadata": {},
   "source": [
    "### Big-Data Analysis with Python"
   ]
  },
  {
   "attachments": {
    "1.png": {
     "image/png": "[encoded data removed]"
    }
   },
   "cell_type": "markdown",
   "id": "225d9d83-61e0-4d21-8953-2c4dafaced16",
   "metadata": {},
   "source": [
    "![1.png](attachment:1.png)"
   ]
  },
  {
   "cell_type": "markdown",
   "id": "4ac81851-b56f-46ff-88c4-f6f6774b9757",
   "metadata": {},
   "source": [
    "This Netflix Dataset has information about the TV Shows and Movies available on Netflix till 2021.\n",
    "\n",
    "This dataset is collected from Flixable which is a third-party Netflix search engine, and available on Kaggle website for free."
   ]
  },
  {
   "cell_type": "markdown",
   "id": "df10af79-f67f-4589-8dee-0ddd763ed9e9",
   "metadata": {},
   "source": [
    "-------"
   ]
  },
  {
   "cell_type": "code",
   "execution_count": 5,
   "id": "bee60691-e78b-4b07-bebe-8cd5b9d938fd",
   "metadata": {},
   "outputs": [],
   "source": [
    "# Importing the dataset\n",
    "# to import pandas library\n",
    "import pandas as pd \n",
    "import seaborn as sns \n",
    "import matplotlib.pyplot as plt "
   ]
  },
  {
   "cell_type": "code",
   "execution_count": 39,
   "id": "0f655d56-efef-4008-86d5-3fa19b386a64",
   "metadata": {},
   "outputs": [],
   "source": [
    "data = pd.read_csv('Netflix+Dataset.csv')"
   ]
  },
  {
   "cell_type": "code",
   "execution_count": 40,
   "id": "aef5e8b6-7282-4b15-9fb9-798834663e3c",
   "metadata": {},
   "outputs": [
    {
     "data": {
      "text/html": [
       "<div>\n",
       "<style scoped>\n",
       "    .dataframe tbody tr th:only-of-type {\n",
       "        vertical-align: middle;\n",
       "    }\n",
       "\n",
       "    .dataframe tbody tr th {\n",
       "        vertical-align: top;\n",
       "    }\n",
       "\n",
       "    .dataframe thead th {\n",
       "        text-align: right;\n",
       "    }\n",
       "</style>\n",
       "<table border=\"1\" class=\"dataframe\">\n",
       "  <thead>\n",
       "    <tr style=\"text-align: right;\">\n",
       "      <th></th>\n",
       "      <th>Show_Id</th>\n",
       "      <th>Category</th>\n",
       "      <th>Title</th>\n",
       "      <th>Director</th>\n",
       "      <th>Cast</th>\n",
       "      <th>Country</th>\n",
       "      <th>Release_Date</th>\n",
       "      <th>Rating</th>\n",
       "      <th>Duration</th>\n",
       "      <th>Type</th>\n",
       "      <th>Description</th>\n",
       "    </tr>\n",
       "  </thead>\n",
       "  <tbody>\n",
       "    <tr>\n",
       "      <th>0</th>\n",
       "      <td>s1</td>\n",
       "      <td>TV Show</td>\n",
       "      <td>3%</td>\n",
       "      <td>NaN</td>\n",
       "      <td>João Miguel, Bianca Comparato, Michel Gomes, R...</td>\n",
       "      <td>Brazil</td>\n",
       "      <td>August 14, 2020</td>\n",
       "      <td>TV-MA</td>\n",
       "      <td>4 Seasons</td>\n",
       "      <td>International TV Shows, TV Dramas, TV Sci-Fi &amp;...</td>\n",
       "      <td>In a future where the elite inhabit an island ...</td>\n",
       "    </tr>\n",
       "    <tr>\n",
       "      <th>1</th>\n",
       "      <td>s2</td>\n",
       "      <td>Movie</td>\n",
       "      <td>07:19</td>\n",
       "      <td>Jorge Michel Grau</td>\n",
       "      <td>Demián Bichir, Héctor Bonilla, Oscar Serrano, ...</td>\n",
       "      <td>Mexico</td>\n",
       "      <td>December 23, 2016</td>\n",
       "      <td>TV-MA</td>\n",
       "      <td>93 min</td>\n",
       "      <td>Dramas, International Movies</td>\n",
       "      <td>After a devastating earthquake hits Mexico Cit...</td>\n",
       "    </tr>\n",
       "  </tbody>\n",
       "</table>\n",
       "</div>"
      ],
      "text/plain": [
       "  Show_Id Category  Title           Director  \\\n",
       "0      s1  TV Show     3%                NaN   \n",
       "1      s2    Movie  07:19  Jorge Michel Grau   \n",
       "\n",
       "                                                Cast Country  \\\n",
       "0  João Miguel, Bianca Comparato, Michel Gomes, R...  Brazil   \n",
       "1  Demián Bichir, Héctor Bonilla, Oscar Serrano, ...  Mexico   \n",
       "\n",
       "        Release_Date Rating   Duration  \\\n",
       "0    August 14, 2020  TV-MA  4 Seasons   \n",
       "1  December 23, 2016  TV-MA     93 min   \n",
       "\n",
       "                                                Type  \\\n",
       "0  International TV Shows, TV Dramas, TV Sci-Fi &...   \n",
       "1                       Dramas, International Movies   \n",
       "\n",
       "                                         Description  \n",
       "0  In a future where the elite inhabit an island ...  \n",
       "1  After a devastating earthquake hits Mexico Cit...  "
      ]
     },
     "execution_count": 40,
     "metadata": {},
     "output_type": "execute_result"
    }
   ],
   "source": [
    "data.head(2)\n",
    "# first 2 rows"
   ]
  },
  {
   "cell_type": "markdown",
   "id": "1116a06e-8475-4460-a590-e1f92ce955aa",
   "metadata": {},
   "source": [
    "### 2. tail()"
   ]
  },
  {
   "cell_type": "code",
   "execution_count": 41,
   "id": "b69eb627-028e-4d77-8740-3975a3ed91d3",
   "metadata": {},
   "outputs": [
    {
     "data": {
      "text/html": [
       "<div>\n",
       "<style scoped>\n",
       "    .dataframe tbody tr th:only-of-type {\n",
       "        vertical-align: middle;\n",
       "    }\n",
       "\n",
       "    .dataframe tbody tr th {\n",
       "        vertical-align: top;\n",
       "    }\n",
       "\n",
       "    .dataframe thead th {\n",
       "        text-align: right;\n",
       "    }\n",
       "</style>\n",
       "<table border=\"1\" class=\"dataframe\">\n",
       "  <thead>\n",
       "    <tr style=\"text-align: right;\">\n",
       "      <th></th>\n",
       "      <th>Show_Id</th>\n",
       "      <th>Category</th>\n",
       "      <th>Title</th>\n",
       "      <th>Director</th>\n",
       "      <th>Cast</th>\n",
       "      <th>Country</th>\n",
       "      <th>Release_Date</th>\n",
       "      <th>Rating</th>\n",
       "      <th>Duration</th>\n",
       "      <th>Type</th>\n",
       "      <th>Description</th>\n",
       "    </tr>\n",
       "  </thead>\n",
       "  <tbody>\n",
       "    <tr>\n",
       "      <th>7787</th>\n",
       "      <td>s7786</td>\n",
       "      <td>TV Show</td>\n",
       "      <td>Zumbo's Just Desserts</td>\n",
       "      <td>NaN</td>\n",
       "      <td>Adriano Zumbo, Rachel Khoo</td>\n",
       "      <td>Australia</td>\n",
       "      <td>October 31, 2020</td>\n",
       "      <td>TV-PG</td>\n",
       "      <td>1 Season</td>\n",
       "      <td>International TV Shows, Reality TV</td>\n",
       "      <td>Dessert wizard Adriano Zumbo looks for the nex...</td>\n",
       "    </tr>\n",
       "    <tr>\n",
       "      <th>7788</th>\n",
       "      <td>s7787</td>\n",
       "      <td>Movie</td>\n",
       "      <td>ZZ TOP: THAT LITTLE OL' BAND FROM TEXAS</td>\n",
       "      <td>Sam Dunn</td>\n",
       "      <td>NaN</td>\n",
       "      <td>United Kingdom, Canada, United States</td>\n",
       "      <td>March 1, 2020</td>\n",
       "      <td>TV-MA</td>\n",
       "      <td>90 min</td>\n",
       "      <td>Documentaries, Music &amp; Musicals</td>\n",
       "      <td>This documentary delves into the mystique behi...</td>\n",
       "    </tr>\n",
       "  </tbody>\n",
       "</table>\n",
       "</div>"
      ],
      "text/plain": [
       "     Show_Id Category                                    Title  Director  \\\n",
       "7787   s7786  TV Show                    Zumbo's Just Desserts       NaN   \n",
       "7788   s7787    Movie  ZZ TOP: THAT LITTLE OL' BAND FROM TEXAS  Sam Dunn   \n",
       "\n",
       "                            Cast                                Country  \\\n",
       "7787  Adriano Zumbo, Rachel Khoo                              Australia   \n",
       "7788                         NaN  United Kingdom, Canada, United States   \n",
       "\n",
       "          Release_Date Rating  Duration                                Type  \\\n",
       "7787  October 31, 2020  TV-PG  1 Season  International TV Shows, Reality TV   \n",
       "7788     March 1, 2020  TV-MA    90 min     Documentaries, Music & Musicals   \n",
       "\n",
       "                                            Description  \n",
       "7787  Dessert wizard Adriano Zumbo looks for the nex...  \n",
       "7788  This documentary delves into the mystique behi...  "
      ]
     },
     "execution_count": 41,
     "metadata": {},
     "output_type": "execute_result"
    }
   ],
   "source": [
    "data.tail(2)\n",
    "# last 2 rows"
   ]
  },
  {
   "cell_type": "markdown",
   "id": "bac8bb82-6153-4f0c-913f-cf276e686807",
   "metadata": {},
   "source": [
    "### 3. shape"
   ]
  },
  {
   "cell_type": "code",
   "execution_count": 42,
   "id": "57e72188-ab52-4b43-90af-7a5877c8bdce",
   "metadata": {},
   "outputs": [
    {
     "data": {
      "text/plain": [
       "(7789, 11)"
      ]
     },
     "execution_count": 42,
     "metadata": {},
     "output_type": "execute_result"
    }
   ],
   "source": [
    "data.shape\n",
    "# show number of rows and columns"
   ]
  },
  {
   "cell_type": "markdown",
   "id": "475f55f9-8a94-44e7-9734-e6ef0041de5f",
   "metadata": {},
   "source": [
    "### 4. size"
   ]
  },
  {
   "cell_type": "code",
   "execution_count": 43,
   "id": "25fb58a8-f9ff-44fb-a12b-b81d7e4351e6",
   "metadata": {},
   "outputs": [
    {
     "data": {
      "text/plain": [
       "85679"
      ]
     },
     "execution_count": 43,
     "metadata": {},
     "output_type": "execute_result"
    }
   ],
   "source": [
    "data.size\n",
    "# get number of all values"
   ]
  },
  {
   "cell_type": "markdown",
   "id": "c3606023-b0dc-46ed-84ac-0dee260064a8",
   "metadata": {},
   "source": [
    "### 5. columns"
   ]
  },
  {
   "cell_type": "code",
   "execution_count": 44,
   "id": "e9a1cda0-6db3-4d5e-b822-ef524c29f710",
   "metadata": {},
   "outputs": [],
   "source": [
    "#show names of columns"
   ]
  },
  {
   "cell_type": "code",
   "execution_count": 45,
   "id": "ac57cfd9-1ebf-4a8b-99ed-fc99d95028b4",
   "metadata": {},
   "outputs": [
    {
     "data": {
      "text/plain": [
       "Index(['Show_Id', 'Category', 'Title', 'Director', 'Cast', 'Country',\n",
       "       'Release_Date', 'Rating', 'Duration', 'Type', 'Description'],\n",
       "      dtype='object')"
      ]
     },
     "execution_count": 45,
     "metadata": {},
     "output_type": "execute_result"
    }
   ],
   "source": [
    "data.columns"
   ]
  },
  {
   "cell_type": "markdown",
   "id": "61884211-a12c-42db-976b-5e9bd5dbc5d8",
   "metadata": {},
   "source": [
    "### 7. dtypes"
   ]
  },
  {
   "cell_type": "code",
   "execution_count": 46,
   "id": "2cf111cc-9cb4-41cc-b5bf-78c4e289a608",
   "metadata": {},
   "outputs": [
    {
     "data": {
      "text/plain": [
       "Show_Id         object\n",
       "Category        object\n",
       "Title           object\n",
       "Director        object\n",
       "Cast            object\n",
       "Country         object\n",
       "Release_Date    object\n",
       "Rating          object\n",
       "Duration        object\n",
       "Type            object\n",
       "Description     object\n",
       "dtype: object"
      ]
     },
     "execution_count": 46,
     "metadata": {},
     "output_type": "execute_result"
    }
   ],
   "source": [
    "# show type of data in columns\n",
    "data.dtypes"
   ]
  },
  {
   "cell_type": "markdown",
   "id": "1bd16fe5-9687-457e-944d-762178cacb17",
   "metadata": {},
   "source": [
    "### 8. info()"
   ]
  },
  {
   "cell_type": "code",
   "execution_count": 47,
   "id": "67ab8c4a-4dc9-4662-a17f-f11970dab928",
   "metadata": {},
   "outputs": [
    {
     "name": "stdout",
     "output_type": "stream",
     "text": [
      "<class 'pandas.core.frame.DataFrame'>\n",
      "RangeIndex: 7789 entries, 0 to 7788\n",
      "Data columns (total 11 columns):\n",
      " #   Column        Non-Null Count  Dtype \n",
      "---  ------        --------------  ----- \n",
      " 0   Show_Id       7789 non-null   object\n",
      " 1   Category      7789 non-null   object\n",
      " 2   Title         7789 non-null   object\n",
      " 3   Director      5401 non-null   object\n",
      " 4   Cast          7071 non-null   object\n",
      " 5   Country       7282 non-null   object\n",
      " 6   Release_Date  7779 non-null   object\n",
      " 7   Rating        7782 non-null   object\n",
      " 8   Duration      7789 non-null   object\n",
      " 9   Type          7789 non-null   object\n",
      " 10  Description   7789 non-null   object\n",
      "dtypes: object(11)\n",
      "memory usage: 669.5+ KB\n"
     ]
    }
   ],
   "source": [
    "# Shows general information about the dataset \n",
    "data.info()"
   ]
  },
  {
   "cell_type": "markdown",
   "id": "d9ad5260-43cd-4997-bb2a-919c36afa8b1",
   "metadata": {},
   "source": [
    "----"
   ]
  },
  {
   "cell_type": "markdown",
   "id": "7521dc1e-81a7-48d7-bae5-26b5e819d408",
   "metadata": {},
   "source": [
    "### Task.1. Is there any Duplicate Record in this dataset ? If yes, then remove the duplicate records."
   ]
  },
  {
   "cell_type": "markdown",
   "id": "7099ea68-f999-42dc-ab59-fce4f91b611d",
   "metadata": {},
   "source": [
    "### duplicate()"
   ]
  },
  {
   "cell_type": "code",
   "execution_count": 48,
   "id": "8a98c307-c791-4f7c-858a-1c68c5ac5ba2",
   "metadata": {},
   "outputs": [
    {
     "data": {
      "text/plain": [
       "(7789, 11)"
      ]
     },
     "execution_count": 48,
     "metadata": {},
     "output_type": "execute_result"
    }
   ],
   "source": [
    "data.shape"
   ]
  },
  {
   "cell_type": "code",
   "execution_count": 49,
   "id": "3626c23b-197c-4317-a05c-dfd31c76071e",
   "metadata": {},
   "outputs": [
    {
     "data": {
      "text/html": [
       "<div>\n",
       "<style scoped>\n",
       "    .dataframe tbody tr th:only-of-type {\n",
       "        vertical-align: middle;\n",
       "    }\n",
       "\n",
       "    .dataframe tbody tr th {\n",
       "        vertical-align: top;\n",
       "    }\n",
       "\n",
       "    .dataframe thead th {\n",
       "        text-align: right;\n",
       "    }\n",
       "</style>\n",
       "<table border=\"1\" class=\"dataframe\">\n",
       "  <thead>\n",
       "    <tr style=\"text-align: right;\">\n",
       "      <th></th>\n",
       "      <th>Show_Id</th>\n",
       "      <th>Category</th>\n",
       "      <th>Title</th>\n",
       "      <th>Director</th>\n",
       "      <th>Cast</th>\n",
       "      <th>Country</th>\n",
       "      <th>Release_Date</th>\n",
       "      <th>Rating</th>\n",
       "      <th>Duration</th>\n",
       "      <th>Type</th>\n",
       "      <th>Description</th>\n",
       "    </tr>\n",
       "  </thead>\n",
       "  <tbody>\n",
       "    <tr>\n",
       "      <th>6300</th>\n",
       "      <td>s684</td>\n",
       "      <td>Movie</td>\n",
       "      <td>Backfire</td>\n",
       "      <td>Dave Patten</td>\n",
       "      <td>Black Deniro, Byron \"Squally\" Vinson, Dominic ...</td>\n",
       "      <td>United States</td>\n",
       "      <td>April 5, 2019</td>\n",
       "      <td>TV-MA</td>\n",
       "      <td>97 min</td>\n",
       "      <td>Dramas, Independent Movies, Thrillers</td>\n",
       "      <td>When two would-be robbers accidentally kill a ...</td>\n",
       "    </tr>\n",
       "    <tr>\n",
       "      <th>6622</th>\n",
       "      <td>s6621</td>\n",
       "      <td>Movie</td>\n",
       "      <td>The Lost Okoroshi</td>\n",
       "      <td>Abba T. Makama</td>\n",
       "      <td>Seun Ajayi, Judith Audu, Tope Tedela, Ifu Enna...</td>\n",
       "      <td>Nigeria</td>\n",
       "      <td>September 4, 2020</td>\n",
       "      <td>TV-MA</td>\n",
       "      <td>94 min</td>\n",
       "      <td>Comedies, Dramas, Independent Movies</td>\n",
       "      <td>A disillusioned security guard transforms into...</td>\n",
       "    </tr>\n",
       "  </tbody>\n",
       "</table>\n",
       "</div>"
      ],
      "text/plain": [
       "     Show_Id Category              Title        Director  \\\n",
       "6300    s684    Movie           Backfire     Dave Patten   \n",
       "6622   s6621    Movie  The Lost Okoroshi  Abba T. Makama   \n",
       "\n",
       "                                                   Cast        Country  \\\n",
       "6300  Black Deniro, Byron \"Squally\" Vinson, Dominic ...  United States   \n",
       "6622  Seun Ajayi, Judith Audu, Tope Tedela, Ifu Enna...        Nigeria   \n",
       "\n",
       "           Release_Date Rating Duration  \\\n",
       "6300      April 5, 2019  TV-MA   97 min   \n",
       "6622  September 4, 2020  TV-MA   94 min   \n",
       "\n",
       "                                       Type  \\\n",
       "6300  Dramas, Independent Movies, Thrillers   \n",
       "6622   Comedies, Dramas, Independent Movies   \n",
       "\n",
       "                                            Description  \n",
       "6300  When two would-be robbers accidentally kill a ...  \n",
       "6622  A disillusioned security guard transforms into...  "
      ]
     },
     "execution_count": 49,
     "metadata": {},
     "output_type": "execute_result"
    }
   ],
   "source": [
    "# check for duplicates\n",
    "data[data.duplicated()]"
   ]
  },
  {
   "cell_type": "code",
   "execution_count": 51,
   "id": "4cf1078b-fb9d-4c67-93f3-3dd095ea121d",
   "metadata": {},
   "outputs": [],
   "source": [
    "# as we seen we have 2 duplicates\n",
    "# now we need to remove it \n",
    "data = data.drop_duplicates()"
   ]
  },
  {
   "cell_type": "code",
   "execution_count": 52,
   "id": "93b7ce87-6d15-456e-87a0-b362dfac8be1",
   "metadata": {},
   "outputs": [
    {
     "data": {
      "text/html": [
       "<div>\n",
       "<style scoped>\n",
       "    .dataframe tbody tr th:only-of-type {\n",
       "        vertical-align: middle;\n",
       "    }\n",
       "\n",
       "    .dataframe tbody tr th {\n",
       "        vertical-align: top;\n",
       "    }\n",
       "\n",
       "    .dataframe thead th {\n",
       "        text-align: right;\n",
       "    }\n",
       "</style>\n",
       "<table border=\"1\" class=\"dataframe\">\n",
       "  <thead>\n",
       "    <tr style=\"text-align: right;\">\n",
       "      <th></th>\n",
       "      <th>Show_Id</th>\n",
       "      <th>Category</th>\n",
       "      <th>Title</th>\n",
       "      <th>Director</th>\n",
       "      <th>Cast</th>\n",
       "      <th>Country</th>\n",
       "      <th>Release_Date</th>\n",
       "      <th>Rating</th>\n",
       "      <th>Duration</th>\n",
       "      <th>Type</th>\n",
       "      <th>Description</th>\n",
       "    </tr>\n",
       "  </thead>\n",
       "  <tbody>\n",
       "  </tbody>\n",
       "</table>\n",
       "</div>"
      ],
      "text/plain": [
       "Empty DataFrame\n",
       "Columns: [Show_Id, Category, Title, Director, Cast, Country, Release_Date, Rating, Duration, Type, Description]\n",
       "Index: []"
      ]
     },
     "execution_count": 52,
     "metadata": {},
     "output_type": "execute_result"
    }
   ],
   "source": [
    "data[data.duplicated()]\n",
    "# now we see there is no duplicates"
   ]
  },
  {
   "cell_type": "code",
   "execution_count": 53,
   "id": "2cc3a4a5-b93d-4d9e-8cec-491df2af2928",
   "metadata": {},
   "outputs": [
    {
     "data": {
      "text/plain": [
       "(7787, 11)"
      ]
     },
     "execution_count": 53,
     "metadata": {},
     "output_type": "execute_result"
    }
   ],
   "source": [
    "data.shape"
   ]
  },
  {
   "cell_type": "markdown",
   "id": "abe76ea8-248f-4ea2-b2f4-7158a2af82ea",
   "metadata": {},
   "source": [
    "----"
   ]
  },
  {
   "cell_type": "markdown",
   "id": "ac948d8d-774d-4b23-85e7-2f2a76c2798f",
   "metadata": {},
   "source": [
    "### Task.2. Is there any Null Value present in any column ? Show with Heat-map."
   ]
  },
  {
   "cell_type": "markdown",
   "id": "bc0f9f81-eae4-407a-a66d-61e2577a90b4",
   "metadata": {},
   "source": [
    "### isnull()"
   ]
  },
  {
   "cell_type": "code",
   "execution_count": 56,
   "id": "d77f26cd-2b8d-4bd6-b346-c47db4e24467",
   "metadata": {},
   "outputs": [
    {
     "data": {
      "text/html": [
       "<div>\n",
       "<style scoped>\n",
       "    .dataframe tbody tr th:only-of-type {\n",
       "        vertical-align: middle;\n",
       "    }\n",
       "\n",
       "    .dataframe tbody tr th {\n",
       "        vertical-align: top;\n",
       "    }\n",
       "\n",
       "    .dataframe thead th {\n",
       "        text-align: right;\n",
       "    }\n",
       "</style>\n",
       "<table border=\"1\" class=\"dataframe\">\n",
       "  <thead>\n",
       "    <tr style=\"text-align: right;\">\n",
       "      <th></th>\n",
       "      <th>Show_Id</th>\n",
       "      <th>Category</th>\n",
       "      <th>Title</th>\n",
       "      <th>Director</th>\n",
       "      <th>Cast</th>\n",
       "      <th>Country</th>\n",
       "      <th>Release_Date</th>\n",
       "      <th>Rating</th>\n",
       "      <th>Duration</th>\n",
       "      <th>Type</th>\n",
       "      <th>Description</th>\n",
       "    </tr>\n",
       "  </thead>\n",
       "  <tbody>\n",
       "    <tr>\n",
       "      <th>0</th>\n",
       "      <td>False</td>\n",
       "      <td>False</td>\n",
       "      <td>False</td>\n",
       "      <td>True</td>\n",
       "      <td>False</td>\n",
       "      <td>False</td>\n",
       "      <td>False</td>\n",
       "      <td>False</td>\n",
       "      <td>False</td>\n",
       "      <td>False</td>\n",
       "      <td>False</td>\n",
       "    </tr>\n",
       "    <tr>\n",
       "      <th>1</th>\n",
       "      <td>False</td>\n",
       "      <td>False</td>\n",
       "      <td>False</td>\n",
       "      <td>False</td>\n",
       "      <td>False</td>\n",
       "      <td>False</td>\n",
       "      <td>False</td>\n",
       "      <td>False</td>\n",
       "      <td>False</td>\n",
       "      <td>False</td>\n",
       "      <td>False</td>\n",
       "    </tr>\n",
       "    <tr>\n",
       "      <th>2</th>\n",
       "      <td>False</td>\n",
       "      <td>False</td>\n",
       "      <td>False</td>\n",
       "      <td>False</td>\n",
       "      <td>False</td>\n",
       "      <td>False</td>\n",
       "      <td>False</td>\n",
       "      <td>False</td>\n",
       "      <td>False</td>\n",
       "      <td>False</td>\n",
       "      <td>False</td>\n",
       "    </tr>\n",
       "    <tr>\n",
       "      <th>3</th>\n",
       "      <td>False</td>\n",
       "      <td>False</td>\n",
       "      <td>False</td>\n",
       "      <td>False</td>\n",
       "      <td>False</td>\n",
       "      <td>False</td>\n",
       "      <td>False</td>\n",
       "      <td>False</td>\n",
       "      <td>False</td>\n",
       "      <td>False</td>\n",
       "      <td>False</td>\n",
       "    </tr>\n",
       "    <tr>\n",
       "      <th>4</th>\n",
       "      <td>False</td>\n",
       "      <td>False</td>\n",
       "      <td>False</td>\n",
       "      <td>False</td>\n",
       "      <td>False</td>\n",
       "      <td>False</td>\n",
       "      <td>False</td>\n",
       "      <td>False</td>\n",
       "      <td>False</td>\n",
       "      <td>False</td>\n",
       "      <td>False</td>\n",
       "    </tr>\n",
       "    <tr>\n",
       "      <th>...</th>\n",
       "      <td>...</td>\n",
       "      <td>...</td>\n",
       "      <td>...</td>\n",
       "      <td>...</td>\n",
       "      <td>...</td>\n",
       "      <td>...</td>\n",
       "      <td>...</td>\n",
       "      <td>...</td>\n",
       "      <td>...</td>\n",
       "      <td>...</td>\n",
       "      <td>...</td>\n",
       "    </tr>\n",
       "    <tr>\n",
       "      <th>7784</th>\n",
       "      <td>False</td>\n",
       "      <td>False</td>\n",
       "      <td>False</td>\n",
       "      <td>False</td>\n",
       "      <td>False</td>\n",
       "      <td>False</td>\n",
       "      <td>False</td>\n",
       "      <td>False</td>\n",
       "      <td>False</td>\n",
       "      <td>False</td>\n",
       "      <td>False</td>\n",
       "    </tr>\n",
       "    <tr>\n",
       "      <th>7785</th>\n",
       "      <td>False</td>\n",
       "      <td>False</td>\n",
       "      <td>False</td>\n",
       "      <td>False</td>\n",
       "      <td>False</td>\n",
       "      <td>False</td>\n",
       "      <td>False</td>\n",
       "      <td>False</td>\n",
       "      <td>False</td>\n",
       "      <td>False</td>\n",
       "      <td>False</td>\n",
       "    </tr>\n",
       "    <tr>\n",
       "      <th>7786</th>\n",
       "      <td>False</td>\n",
       "      <td>False</td>\n",
       "      <td>False</td>\n",
       "      <td>True</td>\n",
       "      <td>False</td>\n",
       "      <td>True</td>\n",
       "      <td>False</td>\n",
       "      <td>False</td>\n",
       "      <td>False</td>\n",
       "      <td>False</td>\n",
       "      <td>False</td>\n",
       "    </tr>\n",
       "    <tr>\n",
       "      <th>7787</th>\n",
       "      <td>False</td>\n",
       "      <td>False</td>\n",
       "      <td>False</td>\n",
       "      <td>True</td>\n",
       "      <td>False</td>\n",
       "      <td>False</td>\n",
       "      <td>False</td>\n",
       "      <td>False</td>\n",
       "      <td>False</td>\n",
       "      <td>False</td>\n",
       "      <td>False</td>\n",
       "    </tr>\n",
       "    <tr>\n",
       "      <th>7788</th>\n",
       "      <td>False</td>\n",
       "      <td>False</td>\n",
       "      <td>False</td>\n",
       "      <td>False</td>\n",
       "      <td>True</td>\n",
       "      <td>False</td>\n",
       "      <td>False</td>\n",
       "      <td>False</td>\n",
       "      <td>False</td>\n",
       "      <td>False</td>\n",
       "      <td>False</td>\n",
       "    </tr>\n",
       "  </tbody>\n",
       "</table>\n",
       "<p>7787 rows × 11 columns</p>\n",
       "</div>"
      ],
      "text/plain": [
       "      Show_Id  Category  Title  Director   Cast  Country  Release_Date  \\\n",
       "0       False     False  False      True  False    False         False   \n",
       "1       False     False  False     False  False    False         False   \n",
       "2       False     False  False     False  False    False         False   \n",
       "3       False     False  False     False  False    False         False   \n",
       "4       False     False  False     False  False    False         False   \n",
       "...       ...       ...    ...       ...    ...      ...           ...   \n",
       "7784    False     False  False     False  False    False         False   \n",
       "7785    False     False  False     False  False    False         False   \n",
       "7786    False     False  False      True  False     True         False   \n",
       "7787    False     False  False      True  False    False         False   \n",
       "7788    False     False  False     False   True    False         False   \n",
       "\n",
       "      Rating  Duration   Type  Description  \n",
       "0      False     False  False        False  \n",
       "1      False     False  False        False  \n",
       "2      False     False  False        False  \n",
       "3      False     False  False        False  \n",
       "4      False     False  False        False  \n",
       "...      ...       ...    ...          ...  \n",
       "7784   False     False  False        False  \n",
       "7785   False     False  False        False  \n",
       "7786   False     False  False        False  \n",
       "7787   False     False  False        False  \n",
       "7788   False     False  False        False  \n",
       "\n",
       "[7787 rows x 11 columns]"
      ]
     },
     "execution_count": 56,
     "metadata": {},
     "output_type": "execute_result"
    }
   ],
   "source": [
    "#check for null values\n",
    "data.isna()"
   ]
  },
  {
   "cell_type": "code",
   "execution_count": 58,
   "id": "9aa86582-ab1d-4420-b3b2-4693d130f52c",
   "metadata": {},
   "outputs": [],
   "source": [
    "# True means there is a null value , and false means there is no null-value"
   ]
  },
  {
   "cell_type": "code",
   "execution_count": 62,
   "id": "c6422f23-89cf-4c54-8ac1-fb487963ab7e",
   "metadata": {},
   "outputs": [
    {
     "data": {
      "text/plain": [
       "Show_Id            0\n",
       "Category           0\n",
       "Title              0\n",
       "Director        2388\n",
       "Cast             718\n",
       "Country          507\n",
       "Release_Date      10\n",
       "Rating             7\n",
       "Duration           0\n",
       "Type               0\n",
       "Description        0\n",
       "dtype: int64"
      ]
     },
     "execution_count": 62,
     "metadata": {},
     "output_type": "execute_result"
    }
   ],
   "source": [
    "# check how much null values is there in any columns\n",
    "data.isna().sum()"
   ]
  },
  {
   "cell_type": "code",
   "execution_count": 66,
   "id": "ed15b63c-f10b-4e49-9e92-f176f77a93ec",
   "metadata": {},
   "outputs": [
    {
     "data": {
      "text/plain": [
       "<Axes: >"
      ]
     },
     "execution_count": 66,
     "metadata": {},
     "output_type": "execute_result"
    },
    {
     "data": {
      "image/png": "[encoded data removed]",
      "text/plain": [
       "<Figure size 640x480 with 2 Axes>"
      ]
     },
     "metadata": {},
     "output_type": "display_data"
    }
   ],
   "source": [
    "# Director has 2388 null values\n",
    "# now we will use heatmap to visualize null values\n",
    "sns.heatmap(data.isna())\n",
    "# white color means null values"
   ]
  },
  {
   "cell_type": "markdown",
   "id": "4a1035a2-4377-4e1c-b210-b618d872e045",
   "metadata": {},
   "source": [
    "----"
   ]
  },
  {
   "cell_type": "markdown",
   "id": "2a6c5a1a-8afd-4829-aaad-18501ee09aec",
   "metadata": {},
   "source": [
    "### Q.1. For 'House of Cards', what is the Show Id and Who is the Director of this show ?"
   ]
  },
  {
   "cell_type": "markdown",
   "id": "0f6564f1-ba87-45b6-8d68-b9af8ef26a46",
   "metadata": {},
   "source": [
    "### isin()"
   ]
  },
  {
   "cell_type": "code",
   "execution_count": 70,
   "id": "c50a8920-d24e-4369-a2c4-5f966c989f7c",
   "metadata": {},
   "outputs": [
    {
     "data": {
      "text/html": [
       "<div>\n",
       "<style scoped>\n",
       "    .dataframe tbody tr th:only-of-type {\n",
       "        vertical-align: middle;\n",
       "    }\n",
       "\n",
       "    .dataframe tbody tr th {\n",
       "        vertical-align: top;\n",
       "    }\n",
       "\n",
       "    .dataframe thead th {\n",
       "        text-align: right;\n",
       "    }\n",
       "</style>\n",
       "<table border=\"1\" class=\"dataframe\">\n",
       "  <thead>\n",
       "    <tr style=\"text-align: right;\">\n",
       "      <th></th>\n",
       "      <th>Show_Id</th>\n",
       "      <th>Category</th>\n",
       "      <th>Title</th>\n",
       "      <th>Director</th>\n",
       "      <th>Cast</th>\n",
       "      <th>Country</th>\n",
       "      <th>Release_Date</th>\n",
       "      <th>Rating</th>\n",
       "      <th>Duration</th>\n",
       "      <th>Type</th>\n",
       "      <th>Description</th>\n",
       "    </tr>\n",
       "  </thead>\n",
       "  <tbody>\n",
       "    <tr>\n",
       "      <th>0</th>\n",
       "      <td>s1</td>\n",
       "      <td>TV Show</td>\n",
       "      <td>3%</td>\n",
       "      <td>NaN</td>\n",
       "      <td>João Miguel, Bianca Comparato, Michel Gomes, R...</td>\n",
       "      <td>Brazil</td>\n",
       "      <td>August 14, 2020</td>\n",
       "      <td>TV-MA</td>\n",
       "      <td>4 Seasons</td>\n",
       "      <td>International TV Shows, TV Dramas, TV Sci-Fi &amp;...</td>\n",
       "      <td>In a future where the elite inhabit an island ...</td>\n",
       "    </tr>\n",
       "    <tr>\n",
       "      <th>1</th>\n",
       "      <td>s2</td>\n",
       "      <td>Movie</td>\n",
       "      <td>07:19</td>\n",
       "      <td>Jorge Michel Grau</td>\n",
       "      <td>Demián Bichir, Héctor Bonilla, Oscar Serrano, ...</td>\n",
       "      <td>Mexico</td>\n",
       "      <td>December 23, 2016</td>\n",
       "      <td>TV-MA</td>\n",
       "      <td>93 min</td>\n",
       "      <td>Dramas, International Movies</td>\n",
       "      <td>After a devastating earthquake hits Mexico Cit...</td>\n",
       "    </tr>\n",
       "    <tr>\n",
       "      <th>2</th>\n",
       "      <td>s3</td>\n",
       "      <td>Movie</td>\n",
       "      <td>23:59</td>\n",
       "      <td>Gilbert Chan</td>\n",
       "      <td>Tedd Chan, Stella Chung, Henley Hii, Lawrence ...</td>\n",
       "      <td>Singapore</td>\n",
       "      <td>December 20, 2018</td>\n",
       "      <td>R</td>\n",
       "      <td>78 min</td>\n",
       "      <td>Horror Movies, International Movies</td>\n",
       "      <td>When an army recruit is found dead, his fellow...</td>\n",
       "    </tr>\n",
       "    <tr>\n",
       "      <th>3</th>\n",
       "      <td>s4</td>\n",
       "      <td>Movie</td>\n",
       "      <td>9</td>\n",
       "      <td>Shane Acker</td>\n",
       "      <td>Elijah Wood, John C. Reilly, Jennifer Connelly...</td>\n",
       "      <td>United States</td>\n",
       "      <td>November 16, 2017</td>\n",
       "      <td>PG-13</td>\n",
       "      <td>80 min</td>\n",
       "      <td>Action &amp; Adventure, Independent Movies, Sci-Fi...</td>\n",
       "      <td>In a postapocalyptic world, rag-doll robots hi...</td>\n",
       "    </tr>\n",
       "    <tr>\n",
       "      <th>4</th>\n",
       "      <td>s5</td>\n",
       "      <td>Movie</td>\n",
       "      <td>21</td>\n",
       "      <td>Robert Luketic</td>\n",
       "      <td>Jim Sturgess, Kevin Spacey, Kate Bosworth, Aar...</td>\n",
       "      <td>United States</td>\n",
       "      <td>January 1, 2020</td>\n",
       "      <td>PG-13</td>\n",
       "      <td>123 min</td>\n",
       "      <td>Dramas</td>\n",
       "      <td>A brilliant group of students become card-coun...</td>\n",
       "    </tr>\n",
       "  </tbody>\n",
       "</table>\n",
       "</div>"
      ],
      "text/plain": [
       "  Show_Id Category  Title           Director  \\\n",
       "0      s1  TV Show     3%                NaN   \n",
       "1      s2    Movie  07:19  Jorge Michel Grau   \n",
       "2      s3    Movie  23:59       Gilbert Chan   \n",
       "3      s4    Movie      9        Shane Acker   \n",
       "4      s5    Movie     21     Robert Luketic   \n",
       "\n",
       "                                                Cast        Country  \\\n",
       "0  João Miguel, Bianca Comparato, Michel Gomes, R...         Brazil   \n",
       "1  Demián Bichir, Héctor Bonilla, Oscar Serrano, ...         Mexico   \n",
       "2  Tedd Chan, Stella Chung, Henley Hii, Lawrence ...      Singapore   \n",
       "3  Elijah Wood, John C. Reilly, Jennifer Connelly...  United States   \n",
       "4  Jim Sturgess, Kevin Spacey, Kate Bosworth, Aar...  United States   \n",
       "\n",
       "        Release_Date Rating   Duration  \\\n",
       "0    August 14, 2020  TV-MA  4 Seasons   \n",
       "1  December 23, 2016  TV-MA     93 min   \n",
       "2  December 20, 2018      R     78 min   \n",
       "3  November 16, 2017  PG-13     80 min   \n",
       "4    January 1, 2020  PG-13    123 min   \n",
       "\n",
       "                                                Type  \\\n",
       "0  International TV Shows, TV Dramas, TV Sci-Fi &...   \n",
       "1                       Dramas, International Movies   \n",
       "2                Horror Movies, International Movies   \n",
       "3  Action & Adventure, Independent Movies, Sci-Fi...   \n",
       "4                                             Dramas   \n",
       "\n",
       "                                         Description  \n",
       "0  In a future where the elite inhabit an island ...  \n",
       "1  After a devastating earthquake hits Mexico Cit...  \n",
       "2  When an army recruit is found dead, his fellow...  \n",
       "3  In a postapocalyptic world, rag-doll robots hi...  \n",
       "4  A brilliant group of students become card-coun...  "
      ]
     },
     "execution_count": 70,
     "metadata": {},
     "output_type": "execute_result"
    }
   ],
   "source": [
    "# to Show all records of particular item in any column\n",
    "data.head()"
   ]
  },
  {
   "cell_type": "code",
   "execution_count": 88,
   "id": "7a41fe1f-4d3d-4689-9de1-fd09c17a098e",
   "metadata": {},
   "outputs": [
    {
     "data": {
      "text/html": [
       "<div>\n",
       "<style scoped>\n",
       "    .dataframe tbody tr th:only-of-type {\n",
       "        vertical-align: middle;\n",
       "    }\n",
       "\n",
       "    .dataframe tbody tr th {\n",
       "        vertical-align: top;\n",
       "    }\n",
       "\n",
       "    .dataframe thead th {\n",
       "        text-align: right;\n",
       "    }\n",
       "</style>\n",
       "<table border=\"1\" class=\"dataframe\">\n",
       "  <thead>\n",
       "    <tr style=\"text-align: right;\">\n",
       "      <th></th>\n",
       "      <th>Show_Id</th>\n",
       "      <th>Category</th>\n",
       "      <th>Title</th>\n",
       "      <th>Director</th>\n",
       "      <th>Cast</th>\n",
       "      <th>Country</th>\n",
       "      <th>Release_Date</th>\n",
       "      <th>Rating</th>\n",
       "      <th>Duration</th>\n",
       "      <th>Type</th>\n",
       "      <th>Description</th>\n",
       "    </tr>\n",
       "  </thead>\n",
       "  <tbody>\n",
       "    <tr>\n",
       "      <th>2832</th>\n",
       "      <td>s2833</td>\n",
       "      <td>TV Show</td>\n",
       "      <td>House of Cards</td>\n",
       "      <td>Robin Wright, David Fincher, Gerald McRaney, J...</td>\n",
       "      <td>Kevin Spacey, Robin Wright, Kate Mara, Corey S...</td>\n",
       "      <td>United States</td>\n",
       "      <td>November 2, 2018</td>\n",
       "      <td>TV-MA</td>\n",
       "      <td>6 Seasons</td>\n",
       "      <td>TV Dramas, TV Thrillers</td>\n",
       "      <td>A ruthless politician will stop at nothing to ...</td>\n",
       "    </tr>\n",
       "  </tbody>\n",
       "</table>\n",
       "</div>"
      ],
      "text/plain": [
       "     Show_Id Category           Title  \\\n",
       "2832   s2833  TV Show  House of Cards   \n",
       "\n",
       "                                               Director  \\\n",
       "2832  Robin Wright, David Fincher, Gerald McRaney, J...   \n",
       "\n",
       "                                                   Cast        Country  \\\n",
       "2832  Kevin Spacey, Robin Wright, Kate Mara, Corey S...  United States   \n",
       "\n",
       "          Release_Date Rating   Duration                     Type  \\\n",
       "2832  November 2, 2018  TV-MA  6 Seasons  TV Dramas, TV Thrillers   \n",
       "\n",
       "                                            Description  \n",
       "2832  A ruthless politician will stop at nothing to ...  "
      ]
     },
     "execution_count": 88,
     "metadata": {},
     "output_type": "execute_result"
    }
   ],
   "source": [
    "data[data['Title'].isin(['House of Cards'])] # [['Show_Id', 'Director']]"
   ]
  },
  {
   "cell_type": "markdown",
   "id": "6e6352fc-9dc7-49f6-8ae8-8a23bdd4f98a",
   "metadata": {},
   "source": [
    "### str.contains()"
   ]
  },
  {
   "cell_type": "code",
   "execution_count": 89,
   "id": "17c633fc-20db-4462-ad7a-0bec4308371e",
   "metadata": {},
   "outputs": [
    {
     "data": {
      "text/html": [
       "<div>\n",
       "<style scoped>\n",
       "    .dataframe tbody tr th:only-of-type {\n",
       "        vertical-align: middle;\n",
       "    }\n",
       "\n",
       "    .dataframe tbody tr th {\n",
       "        vertical-align: top;\n",
       "    }\n",
       "\n",
       "    .dataframe thead th {\n",
       "        text-align: right;\n",
       "    }\n",
       "</style>\n",
       "<table border=\"1\" class=\"dataframe\">\n",
       "  <thead>\n",
       "    <tr style=\"text-align: right;\">\n",
       "      <th></th>\n",
       "      <th>Show_Id</th>\n",
       "      <th>Category</th>\n",
       "      <th>Title</th>\n",
       "      <th>Director</th>\n",
       "      <th>Cast</th>\n",
       "      <th>Country</th>\n",
       "      <th>Release_Date</th>\n",
       "      <th>Rating</th>\n",
       "      <th>Duration</th>\n",
       "      <th>Type</th>\n",
       "      <th>Description</th>\n",
       "    </tr>\n",
       "  </thead>\n",
       "  <tbody>\n",
       "    <tr>\n",
       "      <th>2832</th>\n",
       "      <td>s2833</td>\n",
       "      <td>TV Show</td>\n",
       "      <td>House of Cards</td>\n",
       "      <td>Robin Wright, David Fincher, Gerald McRaney, J...</td>\n",
       "      <td>Kevin Spacey, Robin Wright, Kate Mara, Corey S...</td>\n",
       "      <td>United States</td>\n",
       "      <td>November 2, 2018</td>\n",
       "      <td>TV-MA</td>\n",
       "      <td>6 Seasons</td>\n",
       "      <td>TV Dramas, TV Thrillers</td>\n",
       "      <td>A ruthless politician will stop at nothing to ...</td>\n",
       "    </tr>\n",
       "  </tbody>\n",
       "</table>\n",
       "</div>"
      ],
      "text/plain": [
       "     Show_Id Category           Title  \\\n",
       "2832   s2833  TV Show  House of Cards   \n",
       "\n",
       "                                               Director  \\\n",
       "2832  Robin Wright, David Fincher, Gerald McRaney, J...   \n",
       "\n",
       "                                                   Cast        Country  \\\n",
       "2832  Kevin Spacey, Robin Wright, Kate Mara, Corey S...  United States   \n",
       "\n",
       "          Release_Date Rating   Duration                     Type  \\\n",
       "2832  November 2, 2018  TV-MA  6 Seasons  TV Dramas, TV Thrillers   \n",
       "\n",
       "                                            Description  \n",
       "2832  A ruthless politician will stop at nothing to ...  "
      ]
     },
     "execution_count": 89,
     "metadata": {},
     "output_type": "execute_result"
    }
   ],
   "source": [
    "data[data['Title'].str.contains('House of Cards')] # [['Show_Id', 'Director']]"
   ]
  },
  {
   "cell_type": "markdown",
   "id": "97979699-2f33-481a-8009-ce4a0c09d94e",
   "metadata": {},
   "source": [
    "----"
   ]
  },
  {
   "cell_type": "markdown",
   "id": "998ba42b-b28d-47dd-b88e-95c8532872f4",
   "metadata": {},
   "source": [
    "### Q.2. In which year highest number of the TV Shows & Movies were released ? Show with Bar Graph."
   ]
  },
  {
   "cell_type": "markdown",
   "id": "a15b52d3-9671-4181-9b05-9612fc17fe3a",
   "metadata": {},
   "source": [
    "### dtypes"
   ]
  },
  {
   "cell_type": "code",
   "execution_count": 91,
   "id": "43895f54-97ab-4bf8-a514-12d2dc9e0800",
   "metadata": {},
   "outputs": [
    {
     "data": {
      "text/plain": [
       "Show_Id         object\n",
       "Category        object\n",
       "Title           object\n",
       "Director        object\n",
       "Cast            object\n",
       "Country         object\n",
       "Release_Date    object\n",
       "Rating          object\n",
       "Duration        object\n",
       "Type            object\n",
       "Description     object\n",
       "dtype: object"
      ]
     },
     "execution_count": 91,
     "metadata": {},
     "output_type": "execute_result"
    }
   ],
   "source": [
    "# we check types of columns\n",
    "data.dtypes"
   ]
  },
  {
   "cell_type": "code",
   "execution_count": 98,
   "id": "4deaaf92-02d3-45d9-99d9-f9615b2abec8",
   "metadata": {},
   "outputs": [],
   "source": [
    "# as we see column type of release-data is object. We need to make it to datetime and to extract year and make new column from it. \n",
    "data['Date_N'] = pd.to_datetime(data.Release_Date,format='mixed')"
   ]
  },
  {
   "cell_type": "code",
   "execution_count": 102,
   "id": "c3029bbd-94fc-43b6-99f5-813eae193f74",
   "metadata": {},
   "outputs": [
    {
     "data": {
      "text/plain": [
       "Show_Id                 object\n",
       "Category                object\n",
       "Title                   object\n",
       "Director                object\n",
       "Cast                    object\n",
       "Country                 object\n",
       "Release_Date            object\n",
       "Rating                  object\n",
       "Duration                object\n",
       "Type                    object\n",
       "Description             object\n",
       "Date_N          datetime64[ns]\n",
       "dtype: object"
      ]
     },
     "execution_count": 102,
     "metadata": {},
     "output_type": "execute_result"
    }
   ],
   "source": [
    "data.dtypes"
   ]
  },
  {
   "cell_type": "markdown",
   "id": "5f999446-bfd2-4b81-8de8-92d97291f692",
   "metadata": {},
   "source": [
    "### dt.year.value_counts()"
   ]
  },
  {
   "cell_type": "code",
   "execution_count": 105,
   "id": "97d0e86c-6361-4a38-8064-89604f723000",
   "metadata": {},
   "outputs": [
    {
     "data": {
      "text/plain": [
       "Date_N\n",
       "2019.0    2153\n",
       "2020.0    2009\n",
       "2018.0    1685\n",
       "2017.0    1225\n",
       "2016.0     443\n",
       "2021.0     117\n",
       "2015.0      88\n",
       "2014.0      25\n",
       "2011.0      13\n",
       "2013.0      11\n",
       "2012.0       3\n",
       "2008.0       2\n",
       "2009.0       2\n",
       "2010.0       1\n",
       "Name: count, dtype: int64"
      ]
     },
     "execution_count": 105,
     "metadata": {},
     "output_type": "execute_result"
    }
   ],
   "source": [
    "data['Date_N'].dt.year.value_counts()"
   ]
  },
  {
   "cell_type": "markdown",
   "id": "0e615691-dcb3-4a76-88a7-9fa2d074dd49",
   "metadata": {},
   "source": [
    "### Bar Graph"
   ]
  },
  {
   "cell_type": "code",
   "execution_count": 114,
   "id": "321a2e34-9a7b-46d0-ad6d-e3c36aeb0137",
   "metadata": {},
   "outputs": [
    {
     "data": {
      "text/plain": [
       "<Axes: xlabel='Date_N'>"
      ]
     },
     "execution_count": 114,
     "metadata": {},
     "output_type": "execute_result"
    },
    {
     "data": {
      "image/png": "[encoded data removed]",
      "text/plain": [
       "<Figure size 640x480 with 1 Axes>"
      ]
     },
     "metadata": {},
     "output_type": "display_data"
    }
   ],
   "source": [
    "data['Date_N'].dt.year.value_counts().plot(kind='bar')"
   ]
  },
  {
   "cell_type": "code",
   "execution_count": 130,
   "id": "b0014ac4-f2b8-40ac-a547-7b2d648c2340",
   "metadata": {},
   "outputs": [
    {
     "data": {
      "text/plain": [
       "array([2153, 2009, 1685, 1225,  443,  117,   88,   25,   13,   11,    3,\n",
       "          2,    2,    1])"
      ]
     },
     "execution_count": 130,
     "metadata": {},
     "output_type": "execute_result"
    }
   ],
   "source": [
    "data['Date_N'].dt.year.value_counts().values"
   ]
  },
  {
   "cell_type": "code",
   "execution_count": 133,
   "id": "173f4f35-4e64-439f-b0d2-dc1841f2fa55",
   "metadata": {},
   "outputs": [
    {
     "data": {
      "text/plain": [
       "Text(0.5, 1.0, 'Released films throughout Year')"
      ]
     },
     "execution_count": 133,
     "metadata": {},
     "output_type": "execute_result"
    },
    {
     "data": {
      "image/png": "[encoded data removed]",
      "text/plain": [
       "<Figure size 640x480 with 1 Axes>"
      ]
     },
     "metadata": {},
     "output_type": "display_data"
    }
   ],
   "source": [
    "plt.bar(data['Date_N'].dt.year.value_counts().index, data['Date_N'].dt.year.value_counts().values)\n",
    "plt.xlabel('Year')\n",
    "plt.ylabel('Released production')\n",
    "plt.title('Released films throughout Year')"
   ]
  },
  {
   "cell_type": "markdown",
   "id": "ee76904c-d63b-4545-b9d1-f0f3567e90c2",
   "metadata": {},
   "source": [
    "----"
   ]
  },
  {
   "cell_type": "markdown",
   "id": "4e9f02e1-9f30-466a-bfb9-0c4b36ccbf3d",
   "metadata": {},
   "source": [
    "### Q.3. How many Movies & TV Shows are in the dataset ? Show with Bar Graph."
   ]
  },
  {
   "cell_type": "markdown",
   "id": "bed85c8a-da28-4be1-85fa-765566f4782b",
   "metadata": {},
   "source": [
    "### groupby()"
   ]
  },
  {
   "cell_type": "code",
   "execution_count": 134,
   "id": "76b3e6a4-3d70-45bb-8d42-4312b8354f12",
   "metadata": {},
   "outputs": [
    {
     "data": {
      "text/html": [
       "<div>\n",
       "<style scoped>\n",
       "    .dataframe tbody tr th:only-of-type {\n",
       "        vertical-align: middle;\n",
       "    }\n",
       "\n",
       "    .dataframe tbody tr th {\n",
       "        vertical-align: top;\n",
       "    }\n",
       "\n",
       "    .dataframe thead th {\n",
       "        text-align: right;\n",
       "    }\n",
       "</style>\n",
       "<table border=\"1\" class=\"dataframe\">\n",
       "  <thead>\n",
       "    <tr style=\"text-align: right;\">\n",
       "      <th></th>\n",
       "      <th>Show_Id</th>\n",
       "      <th>Category</th>\n",
       "      <th>Title</th>\n",
       "      <th>Director</th>\n",
       "      <th>Cast</th>\n",
       "      <th>Country</th>\n",
       "      <th>Release_Date</th>\n",
       "      <th>Rating</th>\n",
       "      <th>Duration</th>\n",
       "      <th>Type</th>\n",
       "      <th>Description</th>\n",
       "      <th>Date_N</th>\n",
       "    </tr>\n",
       "  </thead>\n",
       "  <tbody>\n",
       "    <tr>\n",
       "      <th>0</th>\n",
       "      <td>s1</td>\n",
       "      <td>TV Show</td>\n",
       "      <td>3%</td>\n",
       "      <td>NaN</td>\n",
       "      <td>João Miguel, Bianca Comparato, Michel Gomes, R...</td>\n",
       "      <td>Brazil</td>\n",
       "      <td>August 14, 2020</td>\n",
       "      <td>TV-MA</td>\n",
       "      <td>4 Seasons</td>\n",
       "      <td>International TV Shows, TV Dramas, TV Sci-Fi &amp;...</td>\n",
       "      <td>In a future where the elite inhabit an island ...</td>\n",
       "      <td>2020-08-14</td>\n",
       "    </tr>\n",
       "    <tr>\n",
       "      <th>1</th>\n",
       "      <td>s2</td>\n",
       "      <td>Movie</td>\n",
       "      <td>07:19</td>\n",
       "      <td>Jorge Michel Grau</td>\n",
       "      <td>Demián Bichir, Héctor Bonilla, Oscar Serrano, ...</td>\n",
       "      <td>Mexico</td>\n",
       "      <td>December 23, 2016</td>\n",
       "      <td>TV-MA</td>\n",
       "      <td>93 min</td>\n",
       "      <td>Dramas, International Movies</td>\n",
       "      <td>After a devastating earthquake hits Mexico Cit...</td>\n",
       "      <td>2016-12-23</td>\n",
       "    </tr>\n",
       "  </tbody>\n",
       "</table>\n",
       "</div>"
      ],
      "text/plain": [
       "  Show_Id Category  Title           Director  \\\n",
       "0      s1  TV Show     3%                NaN   \n",
       "1      s2    Movie  07:19  Jorge Michel Grau   \n",
       "\n",
       "                                                Cast Country  \\\n",
       "0  João Miguel, Bianca Comparato, Michel Gomes, R...  Brazil   \n",
       "1  Demián Bichir, Héctor Bonilla, Oscar Serrano, ...  Mexico   \n",
       "\n",
       "        Release_Date Rating   Duration  \\\n",
       "0    August 14, 2020  TV-MA  4 Seasons   \n",
       "1  December 23, 2016  TV-MA     93 min   \n",
       "\n",
       "                                                Type  \\\n",
       "0  International TV Shows, TV Dramas, TV Sci-Fi &...   \n",
       "1                       Dramas, International Movies   \n",
       "\n",
       "                                         Description     Date_N  \n",
       "0  In a future where the elite inhabit an island ... 2020-08-14  \n",
       "1  After a devastating earthquake hits Mexico Cit... 2016-12-23  "
      ]
     },
     "execution_count": 134,
     "metadata": {},
     "output_type": "execute_result"
    }
   ],
   "source": [
    "data.head(2)"
   ]
  },
  {
   "cell_type": "code",
   "execution_count": 137,
   "id": "26d1c34f-1302-46e2-8655-0f0a2884bd67",
   "metadata": {},
   "outputs": [
    {
     "data": {
      "text/plain": [
       "Category\n",
       "Movie      5377\n",
       "TV Show    2410\n",
       "Name: Category, dtype: int64"
      ]
     },
     "execution_count": 137,
     "metadata": {},
     "output_type": "execute_result"
    }
   ],
   "source": [
    "data.groupby(\"Category\")['Category'].count()"
   ]
  },
  {
   "cell_type": "markdown",
   "id": "4ead6a2a-cbf0-415e-9b30-d16d41e69b6f",
   "metadata": {},
   "source": [
    "### countplot()"
   ]
  },
  {
   "cell_type": "code",
   "execution_count": 166,
   "id": "41dcd470-2b59-4415-95c8-3ce5c3297de3",
   "metadata": {},
   "outputs": [
    {
     "data": {
      "image/png": "[encoded data removed]",
      "text/plain": [
       "<Figure size 640x480 with 1 Axes>"
      ]
     },
     "metadata": {},
     "output_type": "display_data"
    }
   ],
   "source": [
    "sns.countplot(x=data['Category'])\n",
    "plt.show()"
   ]
  },
  {
   "cell_type": "markdown",
   "id": "0df50451-6fbc-43e6-a4fc-75aca71fff45",
   "metadata": {},
   "source": [
    "----"
   ]
  },
  {
   "cell_type": "markdown",
   "id": "c2343712-ae5d-4efa-a510-da0a15ad7571",
   "metadata": {},
   "source": [
    "### Q.4. Show all the Movies that were released in year 2000."
   ]
  },
  {
   "cell_type": "markdown",
   "id": "b8566115-6271-4367-bf2b-d3d158e4e8f2",
   "metadata": {},
   "source": [
    "### Creating new column"
   ]
  },
  {
   "cell_type": "code",
   "execution_count": 182,
   "id": "47d1b57b-7d51-4455-beb9-05a2e1480ddf",
   "metadata": {},
   "outputs": [],
   "source": [
    "#data[\"Year\"] = data[\"Date_N\"].dt.year\n",
    "data[\"Year\"] =  data[\"Date_N\"].dt.year"
   ]
  },
  {
   "cell_type": "code",
   "execution_count": 183,
   "id": "38550872-a099-44ea-b942-6ed00892f5da",
   "metadata": {},
   "outputs": [
    {
     "data": {
      "text/plain": [
       "Show_Id                 object\n",
       "Category                object\n",
       "Title                   object\n",
       "Director                object\n",
       "Cast                    object\n",
       "Country                 object\n",
       "Release_Date            object\n",
       "Rating                  object\n",
       "Duration                object\n",
       "Type                    object\n",
       "Description             object\n",
       "Date_N          datetime64[ns]\n",
       "Year                   float64\n",
       "dtype: object"
      ]
     },
     "execution_count": 183,
     "metadata": {},
     "output_type": "execute_result"
    }
   ],
   "source": [
    "data.dtypes"
   ]
  },
  {
   "cell_type": "code",
   "execution_count": 184,
   "id": "4a921bb3-a77e-43b1-a275-e5f5e4bcab34",
   "metadata": {},
   "outputs": [
    {
     "data": {
      "text/plain": [
       "array([2020., 2016., 2018., 2017., 2019., 2021., 2015., 2013., 2011.,\n",
       "         nan, 2012., 2014., 2008., 2009., 2010.])"
      ]
     },
     "execution_count": 184,
     "metadata": {},
     "output_type": "execute_result"
    }
   ],
   "source": [
    "data.Year.unique()"
   ]
  },
  {
   "cell_type": "markdown",
   "id": "98e6f3ac-8b14-455b-b186-74791193a03d",
   "metadata": {},
   "source": [
    "### Filtering"
   ]
  },
  {
   "cell_type": "code",
   "execution_count": 187,
   "id": "eaee017a-200d-44fc-8b86-3d5e914b4a10",
   "metadata": {},
   "outputs": [
    {
     "data": {
      "text/html": [
       "<div>\n",
       "<style scoped>\n",
       "    .dataframe tbody tr th:only-of-type {\n",
       "        vertical-align: middle;\n",
       "    }\n",
       "\n",
       "    .dataframe tbody tr th {\n",
       "        vertical-align: top;\n",
       "    }\n",
       "\n",
       "    .dataframe thead th {\n",
       "        text-align: right;\n",
       "    }\n",
       "</style>\n",
       "<table border=\"1\" class=\"dataframe\">\n",
       "  <thead>\n",
       "    <tr style=\"text-align: right;\">\n",
       "      <th></th>\n",
       "      <th>Show_Id</th>\n",
       "      <th>Category</th>\n",
       "      <th>Title</th>\n",
       "      <th>Director</th>\n",
       "      <th>Cast</th>\n",
       "      <th>Country</th>\n",
       "      <th>Release_Date</th>\n",
       "      <th>Rating</th>\n",
       "      <th>Duration</th>\n",
       "      <th>Type</th>\n",
       "      <th>Description</th>\n",
       "      <th>Date_N</th>\n",
       "      <th>Year</th>\n",
       "    </tr>\n",
       "  </thead>\n",
       "  <tbody>\n",
       "    <tr>\n",
       "      <th>4</th>\n",
       "      <td>s5</td>\n",
       "      <td>Movie</td>\n",
       "      <td>21</td>\n",
       "      <td>Robert Luketic</td>\n",
       "      <td>Jim Sturgess, Kevin Spacey, Kate Bosworth, Aar...</td>\n",
       "      <td>United States</td>\n",
       "      <td>January 1, 2020</td>\n",
       "      <td>PG-13</td>\n",
       "      <td>123 min</td>\n",
       "      <td>Dramas</td>\n",
       "      <td>A brilliant group of students become card-coun...</td>\n",
       "      <td>2020-01-01</td>\n",
       "      <td>2020.0</td>\n",
       "    </tr>\n",
       "    <tr>\n",
       "      <th>6</th>\n",
       "      <td>s7</td>\n",
       "      <td>Movie</td>\n",
       "      <td>122</td>\n",
       "      <td>Yasir Al Yasiri</td>\n",
       "      <td>Amina Khalil, Ahmed Dawood, Tarek Lotfy, Ahmed...</td>\n",
       "      <td>Egypt</td>\n",
       "      <td>June 1, 2020</td>\n",
       "      <td>TV-MA</td>\n",
       "      <td>95 min</td>\n",
       "      <td>Horror Movies, International Movies</td>\n",
       "      <td>After an awful accident, a couple admitted to ...</td>\n",
       "      <td>2020-06-01</td>\n",
       "      <td>2020.0</td>\n",
       "    </tr>\n",
       "    <tr>\n",
       "      <th>14</th>\n",
       "      <td>s15</td>\n",
       "      <td>Movie</td>\n",
       "      <td>3022</td>\n",
       "      <td>John Suits</td>\n",
       "      <td>Omar Epps, Kate Walsh, Miranda Cosgrove, Angus...</td>\n",
       "      <td>United States</td>\n",
       "      <td>March 19, 2020</td>\n",
       "      <td>R</td>\n",
       "      <td>91 min</td>\n",
       "      <td>Independent Movies, Sci-Fi &amp; Fantasy, Thrillers</td>\n",
       "      <td>Stranded when the Earth is suddenly destroyed ...</td>\n",
       "      <td>2020-03-19</td>\n",
       "      <td>2020.0</td>\n",
       "    </tr>\n",
       "    <tr>\n",
       "      <th>27</th>\n",
       "      <td>s28</td>\n",
       "      <td>Movie</td>\n",
       "      <td>#Alive</td>\n",
       "      <td>Cho Il</td>\n",
       "      <td>Yoo Ah-in, Park Shin-hye</td>\n",
       "      <td>South Korea</td>\n",
       "      <td>September 8, 2020</td>\n",
       "      <td>TV-MA</td>\n",
       "      <td>99 min</td>\n",
       "      <td>Horror Movies, International Movies, Thrillers</td>\n",
       "      <td>As a grisly virus rampages a city, a lone man ...</td>\n",
       "      <td>2020-09-08</td>\n",
       "      <td>2020.0</td>\n",
       "    </tr>\n",
       "    <tr>\n",
       "      <th>28</th>\n",
       "      <td>s29</td>\n",
       "      <td>Movie</td>\n",
       "      <td>#AnneFrank - Parallel Stories</td>\n",
       "      <td>Sabina Fedeli, Anna Migotto</td>\n",
       "      <td>Helen Mirren, Gengher Gatti</td>\n",
       "      <td>Italy</td>\n",
       "      <td>July 1, 2020</td>\n",
       "      <td>TV-14</td>\n",
       "      <td>95 min</td>\n",
       "      <td>Documentaries, International Movies</td>\n",
       "      <td>Through her diary, Anne Frank's story is retol...</td>\n",
       "      <td>2020-07-01</td>\n",
       "      <td>2020.0</td>\n",
       "    </tr>\n",
       "    <tr>\n",
       "      <th>...</th>\n",
       "      <td>...</td>\n",
       "      <td>...</td>\n",
       "      <td>...</td>\n",
       "      <td>...</td>\n",
       "      <td>...</td>\n",
       "      <td>...</td>\n",
       "      <td>...</td>\n",
       "      <td>...</td>\n",
       "      <td>...</td>\n",
       "      <td>...</td>\n",
       "      <td>...</td>\n",
       "      <td>...</td>\n",
       "      <td>...</td>\n",
       "    </tr>\n",
       "    <tr>\n",
       "      <th>7762</th>\n",
       "      <td>s7761</td>\n",
       "      <td>Movie</td>\n",
       "      <td>Zaki Chan</td>\n",
       "      <td>Wael Ihsan</td>\n",
       "      <td>Ahmed Helmy, Yasmin Abdulaziz, Hassan Hosny, H...</td>\n",
       "      <td>Egypt</td>\n",
       "      <td>May 19, 2020</td>\n",
       "      <td>TV-PG</td>\n",
       "      <td>109 min</td>\n",
       "      <td>Comedies, International Movies, Romantic Movies</td>\n",
       "      <td>An unqualified young man has his work cut out ...</td>\n",
       "      <td>2020-05-19</td>\n",
       "      <td>2020.0</td>\n",
       "    </tr>\n",
       "    <tr>\n",
       "      <th>7783</th>\n",
       "      <td>s7782</td>\n",
       "      <td>Movie</td>\n",
       "      <td>Zoom</td>\n",
       "      <td>Peter Hewitt</td>\n",
       "      <td>Tim Allen, Courteney Cox, Chevy Chase, Kate Ma...</td>\n",
       "      <td>United States</td>\n",
       "      <td>January 11, 2020</td>\n",
       "      <td>PG</td>\n",
       "      <td>88 min</td>\n",
       "      <td>Children &amp; Family Movies, Comedies</td>\n",
       "      <td>Dragged from civilian life, a former superhero...</td>\n",
       "      <td>2020-01-11</td>\n",
       "      <td>2020.0</td>\n",
       "    </tr>\n",
       "    <tr>\n",
       "      <th>7784</th>\n",
       "      <td>s7783</td>\n",
       "      <td>Movie</td>\n",
       "      <td>Zozo</td>\n",
       "      <td>Josef Fares</td>\n",
       "      <td>Imad Creidi, Antoinette Turk, Elias Gergi, Car...</td>\n",
       "      <td>Sweden, Czech Republic, United Kingdom, Denmar...</td>\n",
       "      <td>October 19, 2020</td>\n",
       "      <td>TV-MA</td>\n",
       "      <td>99 min</td>\n",
       "      <td>Dramas, International Movies</td>\n",
       "      <td>When Lebanon's Civil War deprives Zozo of his ...</td>\n",
       "      <td>2020-10-19</td>\n",
       "      <td>2020.0</td>\n",
       "    </tr>\n",
       "    <tr>\n",
       "      <th>7786</th>\n",
       "      <td>s7785</td>\n",
       "      <td>Movie</td>\n",
       "      <td>Zulu Man in Japan</td>\n",
       "      <td>NaN</td>\n",
       "      <td>Nasty C</td>\n",
       "      <td>NaN</td>\n",
       "      <td>September 25, 2020</td>\n",
       "      <td>TV-MA</td>\n",
       "      <td>44 min</td>\n",
       "      <td>Documentaries, International Movies, Music &amp; M...</td>\n",
       "      <td>In this documentary, South African rapper Nast...</td>\n",
       "      <td>2020-09-25</td>\n",
       "      <td>2020.0</td>\n",
       "    </tr>\n",
       "    <tr>\n",
       "      <th>7788</th>\n",
       "      <td>s7787</td>\n",
       "      <td>Movie</td>\n",
       "      <td>ZZ TOP: THAT LITTLE OL' BAND FROM TEXAS</td>\n",
       "      <td>Sam Dunn</td>\n",
       "      <td>NaN</td>\n",
       "      <td>United Kingdom, Canada, United States</td>\n",
       "      <td>March 1, 2020</td>\n",
       "      <td>TV-MA</td>\n",
       "      <td>90 min</td>\n",
       "      <td>Documentaries, Music &amp; Musicals</td>\n",
       "      <td>This documentary delves into the mystique behi...</td>\n",
       "      <td>2020-03-01</td>\n",
       "      <td>2020.0</td>\n",
       "    </tr>\n",
       "  </tbody>\n",
       "</table>\n",
       "<p>1312 rows × 13 columns</p>\n",
       "</div>"
      ],
      "text/plain": [
       "     Show_Id Category                                    Title  \\\n",
       "4         s5    Movie                                       21   \n",
       "6         s7    Movie                                      122   \n",
       "14       s15    Movie                                     3022   \n",
       "27       s28    Movie                                   #Alive   \n",
       "28       s29    Movie            #AnneFrank - Parallel Stories   \n",
       "...      ...      ...                                      ...   \n",
       "7762   s7761    Movie                                Zaki Chan   \n",
       "7783   s7782    Movie                                     Zoom   \n",
       "7784   s7783    Movie                                     Zozo   \n",
       "7786   s7785    Movie                        Zulu Man in Japan   \n",
       "7788   s7787    Movie  ZZ TOP: THAT LITTLE OL' BAND FROM TEXAS   \n",
       "\n",
       "                         Director  \\\n",
       "4                  Robert Luketic   \n",
       "6                 Yasir Al Yasiri   \n",
       "14                     John Suits   \n",
       "27                         Cho Il   \n",
       "28    Sabina Fedeli, Anna Migotto   \n",
       "...                           ...   \n",
       "7762                   Wael Ihsan   \n",
       "7783                 Peter Hewitt   \n",
       "7784                  Josef Fares   \n",
       "7786                          NaN   \n",
       "7788                     Sam Dunn   \n",
       "\n",
       "                                                   Cast  \\\n",
       "4     Jim Sturgess, Kevin Spacey, Kate Bosworth, Aar...   \n",
       "6     Amina Khalil, Ahmed Dawood, Tarek Lotfy, Ahmed...   \n",
       "14    Omar Epps, Kate Walsh, Miranda Cosgrove, Angus...   \n",
       "27                             Yoo Ah-in, Park Shin-hye   \n",
       "28                          Helen Mirren, Gengher Gatti   \n",
       "...                                                 ...   \n",
       "7762  Ahmed Helmy, Yasmin Abdulaziz, Hassan Hosny, H...   \n",
       "7783  Tim Allen, Courteney Cox, Chevy Chase, Kate Ma...   \n",
       "7784  Imad Creidi, Antoinette Turk, Elias Gergi, Car...   \n",
       "7786                                            Nasty C   \n",
       "7788                                                NaN   \n",
       "\n",
       "                                                Country        Release_Date  \\\n",
       "4                                         United States     January 1, 2020   \n",
       "6                                                 Egypt        June 1, 2020   \n",
       "14                                        United States      March 19, 2020   \n",
       "27                                          South Korea   September 8, 2020   \n",
       "28                                                Italy        July 1, 2020   \n",
       "...                                                 ...                 ...   \n",
       "7762                                              Egypt        May 19, 2020   \n",
       "7783                                      United States    January 11, 2020   \n",
       "7784  Sweden, Czech Republic, United Kingdom, Denmar...    October 19, 2020   \n",
       "7786                                                NaN  September 25, 2020   \n",
       "7788              United Kingdom, Canada, United States       March 1, 2020   \n",
       "\n",
       "     Rating Duration                                               Type  \\\n",
       "4     PG-13  123 min                                             Dramas   \n",
       "6     TV-MA   95 min                Horror Movies, International Movies   \n",
       "14        R   91 min    Independent Movies, Sci-Fi & Fantasy, Thrillers   \n",
       "27    TV-MA   99 min     Horror Movies, International Movies, Thrillers   \n",
       "28    TV-14   95 min                Documentaries, International Movies   \n",
       "...     ...      ...                                                ...   \n",
       "7762  TV-PG  109 min    Comedies, International Movies, Romantic Movies   \n",
       "7783     PG   88 min                 Children & Family Movies, Comedies   \n",
       "7784  TV-MA   99 min                       Dramas, International Movies   \n",
       "7786  TV-MA   44 min  Documentaries, International Movies, Music & M...   \n",
       "7788  TV-MA   90 min                    Documentaries, Music & Musicals   \n",
       "\n",
       "                                            Description     Date_N    Year  \n",
       "4     A brilliant group of students become card-coun... 2020-01-01  2020.0  \n",
       "6     After an awful accident, a couple admitted to ... 2020-06-01  2020.0  \n",
       "14    Stranded when the Earth is suddenly destroyed ... 2020-03-19  2020.0  \n",
       "27    As a grisly virus rampages a city, a lone man ... 2020-09-08  2020.0  \n",
       "28    Through her diary, Anne Frank's story is retol... 2020-07-01  2020.0  \n",
       "...                                                 ...        ...     ...  \n",
       "7762  An unqualified young man has his work cut out ... 2020-05-19  2020.0  \n",
       "7783  Dragged from civilian life, a former superhero... 2020-01-11  2020.0  \n",
       "7784  When Lebanon's Civil War deprives Zozo of his ... 2020-10-19  2020.0  \n",
       "7786  In this documentary, South African rapper Nast... 2020-09-25  2020.0  \n",
       "7788  This documentary delves into the mystique behi... 2020-03-01  2020.0  \n",
       "\n",
       "[1312 rows x 13 columns]"
      ]
     },
     "execution_count": 187,
     "metadata": {},
     "output_type": "execute_result"
    }
   ],
   "source": [
    "# data[ (data[\"Category\"] == \"Movie\") & (data[\"Year\"]==2020)]\n",
    "data [ (data[\"Category\"] == \"Movie\") & (data[\"Year\"]==2020)]"
   ]
  },
  {
   "cell_type": "markdown",
   "id": "d7f32279-22f9-422f-9780-bf1b0a564153",
   "metadata": {},
   "source": [
    "----"
   ]
  },
  {
   "cell_type": "markdown",
   "id": "f668e6dc-9a42-4029-9fe8-18e47149b3ba",
   "metadata": {},
   "source": [
    "### Q.5. Show only the Titles of all TV Shows that were released in India only.\n"
   ]
  },
  {
   "cell_type": "markdown",
   "id": "7f8c7bbf-c471-4fdd-893e-d6d003aa467f",
   "metadata": {},
   "source": [
    "### Filtering\n"
   ]
  },
  {
   "cell_type": "code",
   "execution_count": 197,
   "id": "f4476e0e-296d-4637-ac68-587b682b0ece",
   "metadata": {},
   "outputs": [],
   "source": [
    "# data[(data[\"Category\"] == \"TV Shows\") & (data[\"Country\"] == \"India\")]['Ttitle']"
   ]
  },
  {
   "cell_type": "code",
   "execution_count": 207,
   "id": "8f986e32-c5c9-4d73-9dd4-b7e01fb3d205",
   "metadata": {},
   "outputs": [
    {
     "data": {
      "text/plain": [
       "86            21 Sarfarosh: Saragarhi 1897\n",
       "132                              7 (Seven)\n",
       "340                           Agent Raghav\n",
       "364                           Akbar Birbal\n",
       "533                    Anjaan: Rural Myths\n",
       "                       ...                \n",
       "6249                  The Creative Indians\n",
       "6400    The Golden Years with Javed Akhtar\n",
       "6469                The House That Made Me\n",
       "7294                            Typewriter\n",
       "7705                       Yeh Meri Family\n",
       "Name: Title, Length: 71, dtype: object"
      ]
     },
     "execution_count": 207,
     "metadata": {},
     "output_type": "execute_result"
    }
   ],
   "source": [
    "data[(data[\"Category\"] == \"TV Show\") & (data[\"Country\"] == \"India\")]['Title']"
   ]
  },
  {
   "cell_type": "markdown",
   "id": "b1844b0a-2195-4408-80ea-2ff255e2f88c",
   "metadata": {},
   "source": [
    "### Q.6. Show Top 10 Directors, who gave the highest number of TV Shows & Movies to Netflix ?"
   ]
  },
  {
   "cell_type": "markdown",
   "id": "20c7903b-d61d-4602-a25f-a8451efbb63a",
   "metadata": {},
   "source": [
    "### value_counts()"
   ]
  },
  {
   "cell_type": "code",
   "execution_count": 209,
   "id": "d57267c2-53aa-43eb-8bb4-4bd49dde376f",
   "metadata": {},
   "outputs": [
    {
     "data": {
      "text/plain": [
       "Director\n",
       "Raúl Campos, Jan Suter    18\n",
       "Marcus Raboy              16\n",
       "Jay Karas                 14\n",
       "Cathy Garcia-Molina       13\n",
       "Jay Chapman               12\n",
       "Youssef Chahine           12\n",
       "Martin Scorsese           12\n",
       "Steven Spielberg          10\n",
       "David Dhawan               9\n",
       "Hakan Algül                8\n",
       "Name: count, dtype: int64"
      ]
     },
     "execution_count": 209,
     "metadata": {},
     "output_type": "execute_result"
    }
   ],
   "source": [
    "# data [\"Director\"].value_counts()\n",
    "data.Director.value_counts().head(10)"
   ]
  },
  {
   "cell_type": "markdown",
   "id": "e99a6e3c-a1af-4dec-bde2-d4d82f27abdc",
   "metadata": {},
   "source": [
    "----"
   ]
  },
  {
   "cell_type": "markdown",
   "id": "a88944aa-2248-4368-bb3b-4c0267877d69",
   "metadata": {},
   "source": [
    "#### Q.7. Show all the Records, where \"Category is Movie and Type is Comedies\" or \"Country is United Kingdom\"."
   ]
  },
  {
   "cell_type": "markdown",
   "id": "3e5b6cbd-c451-4592-918c-3dc3fe6ff92d",
   "metadata": {},
   "source": [
    "### Filtering ( And, Or Operators )"
   ]
  },
  {
   "cell_type": "code",
   "execution_count": 210,
   "id": "4d57a0ac-4545-422b-b5f3-e4d210cfa154",
   "metadata": {},
   "outputs": [
    {
     "data": {
      "text/html": [
       "<div>\n",
       "<style scoped>\n",
       "    .dataframe tbody tr th:only-of-type {\n",
       "        vertical-align: middle;\n",
       "    }\n",
       "\n",
       "    .dataframe tbody tr th {\n",
       "        vertical-align: top;\n",
       "    }\n",
       "\n",
       "    .dataframe thead th {\n",
       "        text-align: right;\n",
       "    }\n",
       "</style>\n",
       "<table border=\"1\" class=\"dataframe\">\n",
       "  <thead>\n",
       "    <tr style=\"text-align: right;\">\n",
       "      <th></th>\n",
       "      <th>Show_Id</th>\n",
       "      <th>Category</th>\n",
       "      <th>Title</th>\n",
       "      <th>Director</th>\n",
       "      <th>Cast</th>\n",
       "      <th>Country</th>\n",
       "      <th>Release_Date</th>\n",
       "      <th>Rating</th>\n",
       "      <th>Duration</th>\n",
       "      <th>Type</th>\n",
       "      <th>Description</th>\n",
       "      <th>Date_N</th>\n",
       "      <th>Year</th>\n",
       "    </tr>\n",
       "  </thead>\n",
       "  <tbody>\n",
       "    <tr>\n",
       "      <th>0</th>\n",
       "      <td>s1</td>\n",
       "      <td>TV Show</td>\n",
       "      <td>3%</td>\n",
       "      <td>NaN</td>\n",
       "      <td>João Miguel, Bianca Comparato, Michel Gomes, R...</td>\n",
       "      <td>Brazil</td>\n",
       "      <td>August 14, 2020</td>\n",
       "      <td>TV-MA</td>\n",
       "      <td>4 Seasons</td>\n",
       "      <td>International TV Shows, TV Dramas, TV Sci-Fi &amp;...</td>\n",
       "      <td>In a future where the elite inhabit an island ...</td>\n",
       "      <td>2020-08-14</td>\n",
       "      <td>2020.0</td>\n",
       "    </tr>\n",
       "    <tr>\n",
       "      <th>1</th>\n",
       "      <td>s2</td>\n",
       "      <td>Movie</td>\n",
       "      <td>07:19</td>\n",
       "      <td>Jorge Michel Grau</td>\n",
       "      <td>Demián Bichir, Héctor Bonilla, Oscar Serrano, ...</td>\n",
       "      <td>Mexico</td>\n",
       "      <td>December 23, 2016</td>\n",
       "      <td>TV-MA</td>\n",
       "      <td>93 min</td>\n",
       "      <td>Dramas, International Movies</td>\n",
       "      <td>After a devastating earthquake hits Mexico Cit...</td>\n",
       "      <td>2016-12-23</td>\n",
       "      <td>2016.0</td>\n",
       "    </tr>\n",
       "  </tbody>\n",
       "</table>\n",
       "</div>"
      ],
      "text/plain": [
       "  Show_Id Category  Title           Director  \\\n",
       "0      s1  TV Show     3%                NaN   \n",
       "1      s2    Movie  07:19  Jorge Michel Grau   \n",
       "\n",
       "                                                Cast Country  \\\n",
       "0  João Miguel, Bianca Comparato, Michel Gomes, R...  Brazil   \n",
       "1  Demián Bichir, Héctor Bonilla, Oscar Serrano, ...  Mexico   \n",
       "\n",
       "        Release_Date Rating   Duration  \\\n",
       "0    August 14, 2020  TV-MA  4 Seasons   \n",
       "1  December 23, 2016  TV-MA     93 min   \n",
       "\n",
       "                                                Type  \\\n",
       "0  International TV Shows, TV Dramas, TV Sci-Fi &...   \n",
       "1                       Dramas, International Movies   \n",
       "\n",
       "                                         Description     Date_N    Year  \n",
       "0  In a future where the elite inhabit an island ... 2020-08-14  2020.0  \n",
       "1  After a devastating earthquake hits Mexico Cit... 2016-12-23  2016.0  "
      ]
     },
     "execution_count": 210,
     "metadata": {},
     "output_type": "execute_result"
    }
   ],
   "source": [
    "# data[(data['Category']=='Movie') & (data['Type']=='Comedies') ]\n",
    "\n",
    "data.head(2)"
   ]
  },
  {
   "cell_type": "markdown",
   "id": "632cc109-4a66-4a32-8b8f-181ccb2fd8de",
   "metadata": {},
   "source": [
    "----"
   ]
  },
  {
   "cell_type": "code",
   "execution_count": 219,
   "id": "9cab4a8b-f13b-458e-becf-2c43fec62342",
   "metadata": {},
   "outputs": [
    {
     "data": {
      "text/html": [
       "<div>\n",
       "<style scoped>\n",
       "    .dataframe tbody tr th:only-of-type {\n",
       "        vertical-align: middle;\n",
       "    }\n",
       "\n",
       "    .dataframe tbody tr th {\n",
       "        vertical-align: top;\n",
       "    }\n",
       "\n",
       "    .dataframe thead th {\n",
       "        text-align: right;\n",
       "    }\n",
       "</style>\n",
       "<table border=\"1\" class=\"dataframe\">\n",
       "  <thead>\n",
       "    <tr style=\"text-align: right;\">\n",
       "      <th></th>\n",
       "      <th>Show_Id</th>\n",
       "      <th>Category</th>\n",
       "      <th>Title</th>\n",
       "      <th>Director</th>\n",
       "      <th>Cast</th>\n",
       "      <th>Country</th>\n",
       "      <th>Release_Date</th>\n",
       "      <th>Rating</th>\n",
       "      <th>Duration</th>\n",
       "      <th>Type</th>\n",
       "      <th>Description</th>\n",
       "      <th>Date_N</th>\n",
       "      <th>Year</th>\n",
       "    </tr>\n",
       "  </thead>\n",
       "  <tbody>\n",
       "    <tr>\n",
       "      <th>19</th>\n",
       "      <td>s20</td>\n",
       "      <td>Movie</td>\n",
       "      <td>'89</td>\n",
       "      <td>NaN</td>\n",
       "      <td>Lee Dixon, Ian Wright, Paul Merson</td>\n",
       "      <td>United Kingdom</td>\n",
       "      <td>May 16, 2018</td>\n",
       "      <td>TV-PG</td>\n",
       "      <td>87 min</td>\n",
       "      <td>Sports Movies</td>\n",
       "      <td>Mixing old footage with interviews, this is th...</td>\n",
       "      <td>2018-05-16</td>\n",
       "      <td>2018.0</td>\n",
       "    </tr>\n",
       "    <tr>\n",
       "      <th>33</th>\n",
       "      <td>s34</td>\n",
       "      <td>Movie</td>\n",
       "      <td>#realityhigh</td>\n",
       "      <td>Fernando Lebrija</td>\n",
       "      <td>Nesta Cooper, Kate Walsh, John Michael Higgins...</td>\n",
       "      <td>United States</td>\n",
       "      <td>September 8, 2017</td>\n",
       "      <td>TV-14</td>\n",
       "      <td>99 min</td>\n",
       "      <td>Comedies</td>\n",
       "      <td>When nerdy high schooler Dani finally attracts...</td>\n",
       "      <td>2017-09-08</td>\n",
       "      <td>2017.0</td>\n",
       "    </tr>\n",
       "    <tr>\n",
       "      <th>58</th>\n",
       "      <td>s59</td>\n",
       "      <td>TV Show</td>\n",
       "      <td>100% Hotter</td>\n",
       "      <td>NaN</td>\n",
       "      <td>Daniel Palmer, Melissa Sophia, Karen Williams,...</td>\n",
       "      <td>United Kingdom</td>\n",
       "      <td>November 1, 2019</td>\n",
       "      <td>TV-14</td>\n",
       "      <td>1 Season</td>\n",
       "      <td>British TV Shows, International TV Shows, Real...</td>\n",
       "      <td>A stylist, a hair designer and a makeup artist...</td>\n",
       "      <td>2019-11-01</td>\n",
       "      <td>2019.0</td>\n",
       "    </tr>\n",
       "    <tr>\n",
       "      <th>72</th>\n",
       "      <td>s73</td>\n",
       "      <td>Movie</td>\n",
       "      <td>17 Again</td>\n",
       "      <td>Burr Steers</td>\n",
       "      <td>Zac Efron, Leslie Mann, Matthew Perry, Thomas ...</td>\n",
       "      <td>United States</td>\n",
       "      <td>January 1, 2021</td>\n",
       "      <td>PG-13</td>\n",
       "      <td>102 min</td>\n",
       "      <td>Comedies</td>\n",
       "      <td>Nearing a midlife crisis, thirty-something Mik...</td>\n",
       "      <td>2021-01-01</td>\n",
       "      <td>2021.0</td>\n",
       "    </tr>\n",
       "    <tr>\n",
       "      <th>82</th>\n",
       "      <td>s83</td>\n",
       "      <td>Movie</td>\n",
       "      <td>2036 Origin Unknown</td>\n",
       "      <td>Hasraf Dulull</td>\n",
       "      <td>Katee Sackhoff, Ray Fearon, Julie Cox, Steven ...</td>\n",
       "      <td>United Kingdom</td>\n",
       "      <td>December 20, 2018</td>\n",
       "      <td>TV-14</td>\n",
       "      <td>95 min</td>\n",
       "      <td>Sci-Fi &amp; Fantasy</td>\n",
       "      <td>Working with an artificial intelligence to inv...</td>\n",
       "      <td>2018-12-20</td>\n",
       "      <td>2018.0</td>\n",
       "    </tr>\n",
       "    <tr>\n",
       "      <th>...</th>\n",
       "      <td>...</td>\n",
       "      <td>...</td>\n",
       "      <td>...</td>\n",
       "      <td>...</td>\n",
       "      <td>...</td>\n",
       "      <td>...</td>\n",
       "      <td>...</td>\n",
       "      <td>...</td>\n",
       "      <td>...</td>\n",
       "      <td>...</td>\n",
       "      <td>...</td>\n",
       "      <td>...</td>\n",
       "      <td>...</td>\n",
       "    </tr>\n",
       "    <tr>\n",
       "      <th>7670</th>\n",
       "      <td>s7669</td>\n",
       "      <td>TV Show</td>\n",
       "      <td>World War II in Colour</td>\n",
       "      <td>NaN</td>\n",
       "      <td>Robert Powell</td>\n",
       "      <td>United Kingdom</td>\n",
       "      <td>August 1, 2017</td>\n",
       "      <td>TV-MA</td>\n",
       "      <td>1 Season</td>\n",
       "      <td>British TV Shows, Docuseries, International TV...</td>\n",
       "      <td>Footage of the most dramatic moments from Worl...</td>\n",
       "      <td>2017-08-01</td>\n",
       "      <td>2017.0</td>\n",
       "    </tr>\n",
       "    <tr>\n",
       "      <th>7671</th>\n",
       "      <td>s7670</td>\n",
       "      <td>TV Show</td>\n",
       "      <td>World's Busiest Cities</td>\n",
       "      <td>NaN</td>\n",
       "      <td>Anita Rani, Ade Adepitan, Dan Snow</td>\n",
       "      <td>United Kingdom</td>\n",
       "      <td>February 1, 2019</td>\n",
       "      <td>TV-PG</td>\n",
       "      <td>1 Season</td>\n",
       "      <td>British TV Shows, Docuseries</td>\n",
       "      <td>From Moscow to Mexico City, three BBC journali...</td>\n",
       "      <td>2019-02-01</td>\n",
       "      <td>2019.0</td>\n",
       "    </tr>\n",
       "    <tr>\n",
       "      <th>7688</th>\n",
       "      <td>s7687</td>\n",
       "      <td>Movie</td>\n",
       "      <td>XV: Beyond the Tryline</td>\n",
       "      <td>Pierre Deschamps</td>\n",
       "      <td>NaN</td>\n",
       "      <td>United Kingdom</td>\n",
       "      <td>March 18, 2020</td>\n",
       "      <td>TV-14</td>\n",
       "      <td>91 min</td>\n",
       "      <td>Documentaries, Sports Movies</td>\n",
       "      <td>Set against the 2015 Rugby World Cup, this doc...</td>\n",
       "      <td>2020-03-18</td>\n",
       "      <td>2020.0</td>\n",
       "    </tr>\n",
       "    <tr>\n",
       "      <th>7725</th>\n",
       "      <td>s7724</td>\n",
       "      <td>Movie</td>\n",
       "      <td>You Can Tutu</td>\n",
       "      <td>James Brown</td>\n",
       "      <td>Lily O'Regan, Jeannettsy Enriquez Borges, Joel...</td>\n",
       "      <td>United Kingdom</td>\n",
       "      <td>December 31, 2017</td>\n",
       "      <td>TV-G</td>\n",
       "      <td>87 min</td>\n",
       "      <td>Children &amp; Family Movies</td>\n",
       "      <td>A gifted young ballet dancer struggles to find...</td>\n",
       "      <td>2017-12-31</td>\n",
       "      <td>2017.0</td>\n",
       "    </tr>\n",
       "    <tr>\n",
       "      <th>7740</th>\n",
       "      <td>s7739</td>\n",
       "      <td>TV Show</td>\n",
       "      <td>Young Wallander</td>\n",
       "      <td>NaN</td>\n",
       "      <td>Adam Pålsson, Richard Dillane, Leanne Best, El...</td>\n",
       "      <td>United Kingdom</td>\n",
       "      <td>September 3, 2020</td>\n",
       "      <td>TV-MA</td>\n",
       "      <td>1 Season</td>\n",
       "      <td>Crime TV Shows, International TV Shows, TV Dramas</td>\n",
       "      <td>An incendiary hate crime stirs civil unrest, f...</td>\n",
       "      <td>2020-09-03</td>\n",
       "      <td>2020.0</td>\n",
       "    </tr>\n",
       "  </tbody>\n",
       "</table>\n",
       "<p>485 rows × 13 columns</p>\n",
       "</div>"
      ],
      "text/plain": [
       "     Show_Id Category                   Title          Director  \\\n",
       "19       s20    Movie                     '89               NaN   \n",
       "33       s34    Movie            #realityhigh  Fernando Lebrija   \n",
       "58       s59  TV Show             100% Hotter               NaN   \n",
       "72       s73    Movie                17 Again       Burr Steers   \n",
       "82       s83    Movie     2036 Origin Unknown     Hasraf Dulull   \n",
       "...      ...      ...                     ...               ...   \n",
       "7670   s7669  TV Show  World War II in Colour               NaN   \n",
       "7671   s7670  TV Show  World's Busiest Cities               NaN   \n",
       "7688   s7687    Movie  XV: Beyond the Tryline  Pierre Deschamps   \n",
       "7725   s7724    Movie            You Can Tutu       James Brown   \n",
       "7740   s7739  TV Show         Young Wallander               NaN   \n",
       "\n",
       "                                                   Cast         Country  \\\n",
       "19                   Lee Dixon, Ian Wright, Paul Merson  United Kingdom   \n",
       "33    Nesta Cooper, Kate Walsh, John Michael Higgins...   United States   \n",
       "58    Daniel Palmer, Melissa Sophia, Karen Williams,...  United Kingdom   \n",
       "72    Zac Efron, Leslie Mann, Matthew Perry, Thomas ...   United States   \n",
       "82    Katee Sackhoff, Ray Fearon, Julie Cox, Steven ...  United Kingdom   \n",
       "...                                                 ...             ...   \n",
       "7670                                      Robert Powell  United Kingdom   \n",
       "7671                 Anita Rani, Ade Adepitan, Dan Snow  United Kingdom   \n",
       "7688                                                NaN  United Kingdom   \n",
       "7725  Lily O'Regan, Jeannettsy Enriquez Borges, Joel...  United Kingdom   \n",
       "7740  Adam Pålsson, Richard Dillane, Leanne Best, El...  United Kingdom   \n",
       "\n",
       "           Release_Date Rating  Duration  \\\n",
       "19         May 16, 2018  TV-PG    87 min   \n",
       "33    September 8, 2017  TV-14    99 min   \n",
       "58     November 1, 2019  TV-14  1 Season   \n",
       "72      January 1, 2021  PG-13   102 min   \n",
       "82    December 20, 2018  TV-14    95 min   \n",
       "...                 ...    ...       ...   \n",
       "7670     August 1, 2017  TV-MA  1 Season   \n",
       "7671   February 1, 2019  TV-PG  1 Season   \n",
       "7688     March 18, 2020  TV-14    91 min   \n",
       "7725  December 31, 2017   TV-G    87 min   \n",
       "7740  September 3, 2020  TV-MA  1 Season   \n",
       "\n",
       "                                                   Type  \\\n",
       "19                                        Sports Movies   \n",
       "33                                             Comedies   \n",
       "58    British TV Shows, International TV Shows, Real...   \n",
       "72                                             Comedies   \n",
       "82                                     Sci-Fi & Fantasy   \n",
       "...                                                 ...   \n",
       "7670  British TV Shows, Docuseries, International TV...   \n",
       "7671                       British TV Shows, Docuseries   \n",
       "7688                       Documentaries, Sports Movies   \n",
       "7725                           Children & Family Movies   \n",
       "7740  Crime TV Shows, International TV Shows, TV Dramas   \n",
       "\n",
       "                                            Description     Date_N    Year  \n",
       "19    Mixing old footage with interviews, this is th... 2018-05-16  2018.0  \n",
       "33    When nerdy high schooler Dani finally attracts... 2017-09-08  2017.0  \n",
       "58    A stylist, a hair designer and a makeup artist... 2019-11-01  2019.0  \n",
       "72    Nearing a midlife crisis, thirty-something Mik... 2021-01-01  2021.0  \n",
       "82    Working with an artificial intelligence to inv... 2018-12-20  2018.0  \n",
       "...                                                 ...        ...     ...  \n",
       "7670  Footage of the most dramatic moments from Worl... 2017-08-01  2017.0  \n",
       "7671  From Moscow to Mexico City, three BBC journali... 2019-02-01  2019.0  \n",
       "7688  Set against the 2015 Rugby World Cup, this doc... 2020-03-18  2020.0  \n",
       "7725  A gifted young ballet dancer struggles to find... 2017-12-31  2017.0  \n",
       "7740  An incendiary hate crime stirs civil unrest, f... 2020-09-03  2020.0  \n",
       "\n",
       "[485 rows x 13 columns]"
      ]
     },
     "execution_count": 219,
     "metadata": {},
     "output_type": "execute_result"
    }
   ],
   "source": [
    "data[(data['Category']==\"Movie\") & (data[\"Type\"] == \"Comedies\") | (data['Country'] == \"United Kingdom\")]"
   ]
  },
  {
   "cell_type": "markdown",
   "id": "733fbb55-adb3-488d-beba-dd4e4412f271",
   "metadata": {},
   "source": [
    "### Q.8. In how many movies/shows, Tom Cruise was cast ?"
   ]
  },
  {
   "cell_type": "code",
   "execution_count": 212,
   "id": "dcfe9657-1b3b-452d-81e6-2e5bf6bd2156",
   "metadata": {},
   "outputs": [
    {
     "data": {
      "text/html": [
       "<div>\n",
       "<style scoped>\n",
       "    .dataframe tbody tr th:only-of-type {\n",
       "        vertical-align: middle;\n",
       "    }\n",
       "\n",
       "    .dataframe tbody tr th {\n",
       "        vertical-align: top;\n",
       "    }\n",
       "\n",
       "    .dataframe thead th {\n",
       "        text-align: right;\n",
       "    }\n",
       "</style>\n",
       "<table border=\"1\" class=\"dataframe\">\n",
       "  <thead>\n",
       "    <tr style=\"text-align: right;\">\n",
       "      <th></th>\n",
       "      <th>Show_Id</th>\n",
       "      <th>Category</th>\n",
       "      <th>Title</th>\n",
       "      <th>Director</th>\n",
       "      <th>Cast</th>\n",
       "      <th>Country</th>\n",
       "      <th>Release_Date</th>\n",
       "      <th>Rating</th>\n",
       "      <th>Duration</th>\n",
       "      <th>Type</th>\n",
       "      <th>Description</th>\n",
       "      <th>Date_N</th>\n",
       "      <th>Year</th>\n",
       "    </tr>\n",
       "  </thead>\n",
       "  <tbody>\n",
       "    <tr>\n",
       "      <th>0</th>\n",
       "      <td>s1</td>\n",
       "      <td>TV Show</td>\n",
       "      <td>3%</td>\n",
       "      <td>NaN</td>\n",
       "      <td>João Miguel, Bianca Comparato, Michel Gomes, R...</td>\n",
       "      <td>Brazil</td>\n",
       "      <td>August 14, 2020</td>\n",
       "      <td>TV-MA</td>\n",
       "      <td>4 Seasons</td>\n",
       "      <td>International TV Shows, TV Dramas, TV Sci-Fi &amp;...</td>\n",
       "      <td>In a future where the elite inhabit an island ...</td>\n",
       "      <td>2020-08-14</td>\n",
       "      <td>2020.0</td>\n",
       "    </tr>\n",
       "    <tr>\n",
       "      <th>1</th>\n",
       "      <td>s2</td>\n",
       "      <td>Movie</td>\n",
       "      <td>07:19</td>\n",
       "      <td>Jorge Michel Grau</td>\n",
       "      <td>Demián Bichir, Héctor Bonilla, Oscar Serrano, ...</td>\n",
       "      <td>Mexico</td>\n",
       "      <td>December 23, 2016</td>\n",
       "      <td>TV-MA</td>\n",
       "      <td>93 min</td>\n",
       "      <td>Dramas, International Movies</td>\n",
       "      <td>After a devastating earthquake hits Mexico Cit...</td>\n",
       "      <td>2016-12-23</td>\n",
       "      <td>2016.0</td>\n",
       "    </tr>\n",
       "  </tbody>\n",
       "</table>\n",
       "</div>"
      ],
      "text/plain": [
       "  Show_Id Category  Title           Director  \\\n",
       "0      s1  TV Show     3%                NaN   \n",
       "1      s2    Movie  07:19  Jorge Michel Grau   \n",
       "\n",
       "                                                Cast Country  \\\n",
       "0  João Miguel, Bianca Comparato, Michel Gomes, R...  Brazil   \n",
       "1  Demián Bichir, Héctor Bonilla, Oscar Serrano, ...  Mexico   \n",
       "\n",
       "        Release_Date Rating   Duration  \\\n",
       "0    August 14, 2020  TV-MA  4 Seasons   \n",
       "1  December 23, 2016  TV-MA     93 min   \n",
       "\n",
       "                                                Type  \\\n",
       "0  International TV Shows, TV Dramas, TV Sci-Fi &...   \n",
       "1                       Dramas, International Movies   \n",
       "\n",
       "                                         Description     Date_N    Year  \n",
       "0  In a future where the elite inhabit an island ... 2020-08-14  2020.0  \n",
       "1  After a devastating earthquake hits Mexico Cit... 2016-12-23  2016.0  "
      ]
     },
     "execution_count": 212,
     "metadata": {},
     "output_type": "execute_result"
    }
   ],
   "source": [
    "# data.head()\n",
    "\n",
    "data.head(2)"
   ]
  },
  {
   "cell_type": "markdown",
   "id": "839b0137-ba0d-4f24-96e9-9401e047615b",
   "metadata": {},
   "source": [
    "### filtering"
   ]
  },
  {
   "cell_type": "code",
   "execution_count": 244,
   "id": "fc118983-3710-4015-be95-cee9a5507011",
   "metadata": {},
   "outputs": [],
   "source": [
    "# data[data['Cast'] == 'Tom Cruise'] # this works if there is only Tom Cruise in cast. "
   ]
  },
  {
   "cell_type": "code",
   "execution_count": 226,
   "id": "efab39eb-3e60-4bc6-8cca-b309044e44e3",
   "metadata": {},
   "outputs": [
    {
     "data": {
      "text/html": [
       "<div>\n",
       "<style scoped>\n",
       "    .dataframe tbody tr th:only-of-type {\n",
       "        vertical-align: middle;\n",
       "    }\n",
       "\n",
       "    .dataframe tbody tr th {\n",
       "        vertical-align: top;\n",
       "    }\n",
       "\n",
       "    .dataframe thead th {\n",
       "        text-align: right;\n",
       "    }\n",
       "</style>\n",
       "<table border=\"1\" class=\"dataframe\">\n",
       "  <thead>\n",
       "    <tr style=\"text-align: right;\">\n",
       "      <th></th>\n",
       "      <th>Show_Id</th>\n",
       "      <th>Category</th>\n",
       "      <th>Title</th>\n",
       "      <th>Director</th>\n",
       "      <th>Cast</th>\n",
       "      <th>Country</th>\n",
       "      <th>Release_Date</th>\n",
       "      <th>Rating</th>\n",
       "      <th>Duration</th>\n",
       "      <th>Type</th>\n",
       "      <th>Description</th>\n",
       "      <th>Date_N</th>\n",
       "      <th>Year</th>\n",
       "    </tr>\n",
       "  </thead>\n",
       "  <tbody>\n",
       "  </tbody>\n",
       "</table>\n",
       "</div>"
      ],
      "text/plain": [
       "Empty DataFrame\n",
       "Columns: [Show_Id, Category, Title, Director, Cast, Country, Release_Date, Rating, Duration, Type, Description, Date_N, Year]\n",
       "Index: []"
      ]
     },
     "execution_count": 226,
     "metadata": {},
     "output_type": "execute_result"
    }
   ],
   "source": [
    "data[data[\"Cast\"]=='Tom Cruise']"
   ]
  },
  {
   "cell_type": "markdown",
   "id": "9282e512-554d-4771-afc2-2feba25e91bc",
   "metadata": {},
   "source": [
    "### str.contains()"
   ]
  },
  {
   "cell_type": "code",
   "execution_count": 227,
   "id": "3a088356-1686-487a-91f5-943859c67bd3",
   "metadata": {},
   "outputs": [],
   "source": [
    "#data[data['Cast'].str.contains('Tom Cruise']]"
   ]
  },
  {
   "cell_type": "code",
   "execution_count": 232,
   "id": "2e56691c-f133-4f40-bacc-08591fefad63",
   "metadata": {},
   "outputs": [
    {
     "ename": "ValueError",
     "evalue": "Cannot mask with non-boolean array containing NA / NaN values",
     "output_type": "error",
     "traceback": [
      "\u001b[0;31m---------------------------------------------------------------------------\u001b[0m",
      "\u001b[0;31mValueError\u001b[0m                                Traceback (most recent call last)",
      "Cell \u001b[0;32mIn[232], line 1\u001b[0m\n\u001b[0;32m----> 1\u001b[0m data[data[\u001b[38;5;124m\"\u001b[39m\u001b[38;5;124mCast\u001b[39m\u001b[38;5;124m\"\u001b[39m]\u001b[38;5;241m.\u001b[39mstr\u001b[38;5;241m.\u001b[39mcontains(\u001b[38;5;124m\"\u001b[39m\u001b[38;5;124mTom Cruise\u001b[39m\u001b[38;5;124m\"\u001b[39m)]\n",
      "File \u001b[0;32m~/anaconda3/lib/python3.12/site-packages/pandas/core/frame.py:4092\u001b[0m, in \u001b[0;36mDataFrame.__getitem__\u001b[0;34m(self, key)\u001b[0m\n\u001b[1;32m   4089\u001b[0m     \u001b[38;5;28;01mreturn\u001b[39;00m \u001b[38;5;28mself\u001b[39m\u001b[38;5;241m.\u001b[39mwhere(key)\n\u001b[1;32m   4091\u001b[0m \u001b[38;5;66;03m# Do we have a (boolean) 1d indexer?\u001b[39;00m\n\u001b[0;32m-> 4092\u001b[0m \u001b[38;5;28;01mif\u001b[39;00m com\u001b[38;5;241m.\u001b[39mis_bool_indexer(key):\n\u001b[1;32m   4093\u001b[0m     \u001b[38;5;28;01mreturn\u001b[39;00m \u001b[38;5;28mself\u001b[39m\u001b[38;5;241m.\u001b[39m_getitem_bool_array(key)\n\u001b[1;32m   4095\u001b[0m \u001b[38;5;66;03m# We are left with two options: a single key, and a collection of keys,\u001b[39;00m\n\u001b[1;32m   4096\u001b[0m \u001b[38;5;66;03m# We interpret tuples as collections only for non-MultiIndex\u001b[39;00m\n",
      "File \u001b[0;32m~/anaconda3/lib/python3.12/site-packages/pandas/core/common.py:136\u001b[0m, in \u001b[0;36mis_bool_indexer\u001b[0;34m(key)\u001b[0m\n\u001b[1;32m    132\u001b[0m     na_msg \u001b[38;5;241m=\u001b[39m \u001b[38;5;124m\"\u001b[39m\u001b[38;5;124mCannot mask with non-boolean array containing NA / NaN values\u001b[39m\u001b[38;5;124m\"\u001b[39m\n\u001b[1;32m    133\u001b[0m     \u001b[38;5;28;01mif\u001b[39;00m lib\u001b[38;5;241m.\u001b[39mis_bool_array(key_array, skipna\u001b[38;5;241m=\u001b[39m\u001b[38;5;28;01mTrue\u001b[39;00m):\n\u001b[1;32m    134\u001b[0m         \u001b[38;5;66;03m# Don't raise on e.g. [\"A\", \"B\", np.nan], see\u001b[39;00m\n\u001b[1;32m    135\u001b[0m         \u001b[38;5;66;03m#  test_loc_getitem_list_of_labels_categoricalindex_with_na\u001b[39;00m\n\u001b[0;32m--> 136\u001b[0m         \u001b[38;5;28;01mraise\u001b[39;00m \u001b[38;5;167;01mValueError\u001b[39;00m(na_msg)\n\u001b[1;32m    137\u001b[0m     \u001b[38;5;28;01mreturn\u001b[39;00m \u001b[38;5;28;01mFalse\u001b[39;00m\n\u001b[1;32m    138\u001b[0m \u001b[38;5;28;01mreturn\u001b[39;00m \u001b[38;5;28;01mTrue\u001b[39;00m\n",
      "\u001b[0;31mValueError\u001b[0m: Cannot mask with non-boolean array containing NA / NaN values"
     ]
    }
   ],
   "source": [
    "data[data[\"Cast\"].str.contains(\"Tom Cruise\")]"
   ]
  },
  {
   "cell_type": "code",
   "execution_count": 233,
   "id": "f6f53e05-ad9f-4aaa-beff-c8e9b8ce89a6",
   "metadata": {},
   "outputs": [],
   "source": [
    "# we have null values in Cast column, that means we must remove it and use this again."
   ]
  },
  {
   "cell_type": "markdown",
   "id": "cf6a383f-df63-4b8b-8c9a-a160f59bbdc8",
   "metadata": {},
   "source": [
    "### Creating new data-frame"
   ]
  },
  {
   "cell_type": "code",
   "execution_count": 234,
   "id": "7c680fdf-07e6-4a04-8aab-1238231c1fc0",
   "metadata": {},
   "outputs": [],
   "source": [
    "# data_new = data.dropna()"
   ]
  },
  {
   "cell_type": "code",
   "execution_count": 235,
   "id": "3b9a7a1c-9c68-44ea-93fa-a538ef7ee943",
   "metadata": {},
   "outputs": [],
   "source": [
    "data_new = data.dropna()"
   ]
  },
  {
   "cell_type": "code",
   "execution_count": 239,
   "id": "ef4a01aa-3236-41f5-9d6d-5c1f78613d8b",
   "metadata": {},
   "outputs": [
    {
     "data": {
      "text/plain": [
       "Show_Id         0\n",
       "Category        0\n",
       "Title           0\n",
       "Director        0\n",
       "Cast            0\n",
       "Country         0\n",
       "Release_Date    0\n",
       "Rating          0\n",
       "Duration        0\n",
       "Type            0\n",
       "Description     0\n",
       "Date_N          0\n",
       "Year            0\n",
       "dtype: int64"
      ]
     },
     "execution_count": 239,
     "metadata": {},
     "output_type": "execute_result"
    }
   ],
   "source": [
    "data_new.isna().sum()"
   ]
  },
  {
   "cell_type": "code",
   "execution_count": 240,
   "id": "acbf9ffe-dd20-42bc-b589-ff353941c838",
   "metadata": {},
   "outputs": [
    {
     "data": {
      "text/html": [
       "<div>\n",
       "<style scoped>\n",
       "    .dataframe tbody tr th:only-of-type {\n",
       "        vertical-align: middle;\n",
       "    }\n",
       "\n",
       "    .dataframe tbody tr th {\n",
       "        vertical-align: top;\n",
       "    }\n",
       "\n",
       "    .dataframe thead th {\n",
       "        text-align: right;\n",
       "    }\n",
       "</style>\n",
       "<table border=\"1\" class=\"dataframe\">\n",
       "  <thead>\n",
       "    <tr style=\"text-align: right;\">\n",
       "      <th></th>\n",
       "      <th>Show_Id</th>\n",
       "      <th>Category</th>\n",
       "      <th>Title</th>\n",
       "      <th>Director</th>\n",
       "      <th>Cast</th>\n",
       "      <th>Country</th>\n",
       "      <th>Release_Date</th>\n",
       "      <th>Rating</th>\n",
       "      <th>Duration</th>\n",
       "      <th>Type</th>\n",
       "      <th>Description</th>\n",
       "      <th>Date_N</th>\n",
       "      <th>Year</th>\n",
       "    </tr>\n",
       "  </thead>\n",
       "  <tbody>\n",
       "    <tr>\n",
       "      <th>3860</th>\n",
       "      <td>s3861</td>\n",
       "      <td>Movie</td>\n",
       "      <td>Magnolia</td>\n",
       "      <td>Paul Thomas Anderson</td>\n",
       "      <td>Jeremy Blackman, Tom Cruise, Melinda Dillon, A...</td>\n",
       "      <td>United States</td>\n",
       "      <td>January 1, 2020</td>\n",
       "      <td>R</td>\n",
       "      <td>189 min</td>\n",
       "      <td>Dramas, Independent Movies</td>\n",
       "      <td>Through chance, human action, past history and...</td>\n",
       "      <td>2020-01-01</td>\n",
       "      <td>2020.0</td>\n",
       "    </tr>\n",
       "    <tr>\n",
       "      <th>5071</th>\n",
       "      <td>s5071</td>\n",
       "      <td>Movie</td>\n",
       "      <td>Rain Man</td>\n",
       "      <td>Barry Levinson</td>\n",
       "      <td>Dustin Hoffman, Tom Cruise, Valeria Golino, Ge...</td>\n",
       "      <td>United States</td>\n",
       "      <td>July 1, 2019</td>\n",
       "      <td>R</td>\n",
       "      <td>134 min</td>\n",
       "      <td>Classic Movies, Dramas</td>\n",
       "      <td>A fast-talking yuppie is forced to slow down w...</td>\n",
       "      <td>2019-07-01</td>\n",
       "      <td>2019.0</td>\n",
       "    </tr>\n",
       "  </tbody>\n",
       "</table>\n",
       "</div>"
      ],
      "text/plain": [
       "     Show_Id Category     Title              Director  \\\n",
       "3860   s3861    Movie  Magnolia  Paul Thomas Anderson   \n",
       "5071   s5071    Movie  Rain Man        Barry Levinson   \n",
       "\n",
       "                                                   Cast        Country  \\\n",
       "3860  Jeremy Blackman, Tom Cruise, Melinda Dillon, A...  United States   \n",
       "5071  Dustin Hoffman, Tom Cruise, Valeria Golino, Ge...  United States   \n",
       "\n",
       "         Release_Date Rating Duration                        Type  \\\n",
       "3860  January 1, 2020      R  189 min  Dramas, Independent Movies   \n",
       "5071     July 1, 2019      R  134 min      Classic Movies, Dramas   \n",
       "\n",
       "                                            Description     Date_N    Year  \n",
       "3860  Through chance, human action, past history and... 2020-01-01  2020.0  \n",
       "5071  A fast-talking yuppie is forced to slow down w... 2019-07-01  2019.0  "
      ]
     },
     "execution_count": 240,
     "metadata": {},
     "output_type": "execute_result"
    }
   ],
   "source": [
    "data_new[data_new['Cast'].str.contains(\"Tom Cruise\")]"
   ]
  },
  {
   "cell_type": "markdown",
   "id": "2426f0fe-e60f-45cb-bda8-603d851cdda6",
   "metadata": {},
   "source": [
    "----"
   ]
  },
  {
   "cell_type": "markdown",
   "id": "e717ff47-a034-4e97-addf-cc381bb6e246",
   "metadata": {},
   "source": [
    "### Q.9. What are the different Ratings defined by Netflix ?"
   ]
  },
  {
   "cell_type": "markdown",
   "id": "e1e5e6eb-11e5-4847-8244-3d3dc690310e",
   "metadata": {},
   "source": [
    "### nunique()"
   ]
  },
  {
   "cell_type": "code",
   "execution_count": 245,
   "id": "1626a995-def5-4dda-96d7-d99618348c92",
   "metadata": {},
   "outputs": [
    {
     "data": {
      "text/plain": [
       "14"
      ]
     },
     "execution_count": 245,
     "metadata": {},
     "output_type": "execute_result"
    }
   ],
   "source": [
    "# data['Rating'].nunique()\n",
    "data['Rating'].nunique()"
   ]
  },
  {
   "cell_type": "markdown",
   "id": "b28a3a2f-669f-4af7-8764-8c7034835dc3",
   "metadata": {},
   "source": [
    "### unique()"
   ]
  },
  {
   "cell_type": "code",
   "execution_count": 246,
   "id": "251a7182-59b7-4f9a-940a-be22dbf2d81e",
   "metadata": {},
   "outputs": [
    {
     "data": {
      "text/plain": [
       "array(['TV-MA', 'R', 'PG-13', 'TV-14', 'TV-PG', 'NR', 'TV-G', 'TV-Y', nan,\n",
       "       'TV-Y7', 'PG', 'G', 'NC-17', 'TV-Y7-FV', 'UR'], dtype=object)"
      ]
     },
     "execution_count": 246,
     "metadata": {},
     "output_type": "execute_result"
    }
   ],
   "source": [
    "data['Rating'].unique()"
   ]
  },
  {
   "cell_type": "markdown",
   "id": "2a9867c2-a66c-4219-b6ef-fd40e02e4951",
   "metadata": {},
   "source": [
    "#### Q.9.1. How many Movies got the 'TV-14' rating, in Canada ?"
   ]
  },
  {
   "cell_type": "code",
   "execution_count": 259,
   "id": "674b2e19-921f-4d25-b141-7a02da2070a7",
   "metadata": {},
   "outputs": [
    {
     "data": {
      "text/plain": [
       "(11, 13)"
      ]
     },
     "execution_count": 259,
     "metadata": {},
     "output_type": "execute_result"
    }
   ],
   "source": [
    "data[(data['Category'] == \"Movie\") & (data['Rating'] == 'TV-14') & (data['Country'] == 'Canada')].shape"
   ]
  },
  {
   "cell_type": "markdown",
   "id": "11048d68-13ee-46a8-bd52-cdf18053503a",
   "metadata": {},
   "source": [
    "#### Q.9.2. How many TV Show got the 'R' rating, after year 2018 ?"
   ]
  },
  {
   "cell_type": "code",
   "execution_count": 264,
   "id": "49b52994-2f73-4e1d-b67a-a650213d8bdd",
   "metadata": {},
   "outputs": [
    {
     "data": {
      "text/plain": [
       "(1, 13)"
      ]
     },
     "execution_count": 264,
     "metadata": {},
     "output_type": "execute_result"
    }
   ],
   "source": [
    "data[(data['Category'] == 'TV Show') & (data.Rating==\"R\") & (data['Year'] > 2018)].shape"
   ]
  },
  {
   "cell_type": "markdown",
   "id": "72213574-6f46-4901-a46d-d26204d1e48c",
   "metadata": {},
   "source": [
    "### Q.10. What is the maximum duration of a Movie/Show on Netflix ?"
   ]
  },
  {
   "cell_type": "code",
   "execution_count": 268,
   "id": "72b95f43-b0a3-41e0-b5c3-9d5f0acb0ffe",
   "metadata": {},
   "outputs": [
    {
     "data": {
      "text/html": [
       "<div>\n",
       "<style scoped>\n",
       "    .dataframe tbody tr th:only-of-type {\n",
       "        vertical-align: middle;\n",
       "    }\n",
       "\n",
       "    .dataframe tbody tr th {\n",
       "        vertical-align: top;\n",
       "    }\n",
       "\n",
       "    .dataframe thead th {\n",
       "        text-align: right;\n",
       "    }\n",
       "</style>\n",
       "<table border=\"1\" class=\"dataframe\">\n",
       "  <thead>\n",
       "    <tr style=\"text-align: right;\">\n",
       "      <th></th>\n",
       "      <th>Show_Id</th>\n",
       "      <th>Category</th>\n",
       "      <th>Title</th>\n",
       "      <th>Director</th>\n",
       "      <th>Cast</th>\n",
       "      <th>Country</th>\n",
       "      <th>Release_Date</th>\n",
       "      <th>Rating</th>\n",
       "      <th>Duration</th>\n",
       "      <th>Type</th>\n",
       "      <th>Description</th>\n",
       "      <th>Date_N</th>\n",
       "      <th>Year</th>\n",
       "    </tr>\n",
       "  </thead>\n",
       "  <tbody>\n",
       "    <tr>\n",
       "      <th>0</th>\n",
       "      <td>s1</td>\n",
       "      <td>TV Show</td>\n",
       "      <td>3%</td>\n",
       "      <td>NaN</td>\n",
       "      <td>João Miguel, Bianca Comparato, Michel Gomes, R...</td>\n",
       "      <td>Brazil</td>\n",
       "      <td>August 14, 2020</td>\n",
       "      <td>TV-MA</td>\n",
       "      <td>4 Seasons</td>\n",
       "      <td>International TV Shows, TV Dramas, TV Sci-Fi &amp;...</td>\n",
       "      <td>In a future where the elite inhabit an island ...</td>\n",
       "      <td>2020-08-14</td>\n",
       "      <td>2020.0</td>\n",
       "    </tr>\n",
       "    <tr>\n",
       "      <th>1</th>\n",
       "      <td>s2</td>\n",
       "      <td>Movie</td>\n",
       "      <td>07:19</td>\n",
       "      <td>Jorge Michel Grau</td>\n",
       "      <td>Demián Bichir, Héctor Bonilla, Oscar Serrano, ...</td>\n",
       "      <td>Mexico</td>\n",
       "      <td>December 23, 2016</td>\n",
       "      <td>TV-MA</td>\n",
       "      <td>93 min</td>\n",
       "      <td>Dramas, International Movies</td>\n",
       "      <td>After a devastating earthquake hits Mexico Cit...</td>\n",
       "      <td>2016-12-23</td>\n",
       "      <td>2016.0</td>\n",
       "    </tr>\n",
       "  </tbody>\n",
       "</table>\n",
       "</div>"
      ],
      "text/plain": [
       "  Show_Id Category  Title           Director  \\\n",
       "0      s1  TV Show     3%                NaN   \n",
       "1      s2    Movie  07:19  Jorge Michel Grau   \n",
       "\n",
       "                                                Cast Country  \\\n",
       "0  João Miguel, Bianca Comparato, Michel Gomes, R...  Brazil   \n",
       "1  Demián Bichir, Héctor Bonilla, Oscar Serrano, ...  Mexico   \n",
       "\n",
       "        Release_Date Rating   Duration  \\\n",
       "0    August 14, 2020  TV-MA  4 Seasons   \n",
       "1  December 23, 2016  TV-MA     93 min   \n",
       "\n",
       "                                                Type  \\\n",
       "0  International TV Shows, TV Dramas, TV Sci-Fi &...   \n",
       "1                       Dramas, International Movies   \n",
       "\n",
       "                                         Description     Date_N    Year  \n",
       "0  In a future where the elite inhabit an island ... 2020-08-14  2020.0  \n",
       "1  After a devastating earthquake hits Mexico Cit... 2016-12-23  2016.0  "
      ]
     },
     "execution_count": 268,
     "metadata": {},
     "output_type": "execute_result"
    }
   ],
   "source": [
    "data.head(2)"
   ]
  },
  {
   "cell_type": "code",
   "execution_count": 270,
   "id": "635152cd-4790-44e6-bff0-6fc7e6a399a9",
   "metadata": {},
   "outputs": [
    {
     "data": {
      "text/plain": [
       "array(['4 Seasons', '93 min', '78 min', '80 min', '123 min', '1 Season',\n",
       "       '95 min', '119 min', '118 min', '143 min', '103 min', '89 min',\n",
       "       '91 min', '149 min', '144 min', '124 min', '87 min', '110 min',\n",
       "       '128 min', '117 min', '100 min', '2 Seasons', '84 min', '99 min',\n",
       "       '90 min', '102 min', '104 min', '105 min', '56 min', '125 min',\n",
       "       '81 min', '97 min', '106 min', '107 min', '109 min', '44 min',\n",
       "       '75 min', '101 min', '3 Seasons', '37 min', '113 min', '114 min',\n",
       "       '130 min', '94 min', '140 min', '135 min', '82 min', '70 min',\n",
       "       '121 min', '92 min', '164 min', '53 min', '83 min', '116 min',\n",
       "       '86 min', '120 min', '96 min', '126 min', '129 min', '77 min',\n",
       "       '137 min', '148 min', '28 min', '122 min', '176 min', '85 min',\n",
       "       '22 min', '68 min', '111 min', '29 min', '142 min', '168 min',\n",
       "       '21 min', '59 min', '20 min', '98 min', '108 min', '76 min',\n",
       "       '26 min', '156 min', '30 min', '57 min', '150 min', '133 min',\n",
       "       '115 min', '154 min', '127 min', '146 min', '136 min', '88 min',\n",
       "       '131 min', '24 min', '112 min', '74 min', '63 min', '38 min',\n",
       "       '25 min', '174 min', '60 min', '153 min', '158 min', '151 min',\n",
       "       '162 min', '54 min', '51 min', '69 min', '64 min', '147 min',\n",
       "       '42 min', '79 min', '5 Seasons', '40 min', '45 min', '172 min',\n",
       "       '10 min', '163 min', '9 Seasons', '55 min', '72 min', '61 min',\n",
       "       '71 min', '160 min', '171 min', '48 min', '139 min', '157 min',\n",
       "       '15 min', '65 min', '134 min', '161 min', '62 min', '8 Seasons',\n",
       "       '186 min', '49 min', '73 min', '58 min', '165 min', '166 min',\n",
       "       '138 min', '159 min', '141 min', '132 min', '52 min', '67 min',\n",
       "       '34 min', '66 min', '312 min', '180 min', '47 min', '6 Seasons',\n",
       "       '155 min', '14 min', '177 min', '11 min', '9 min', '46 min',\n",
       "       '145 min', '11 Seasons', '7 Seasons', '13 Seasons', '8 min',\n",
       "       '12 min', '12 Seasons', '10 Seasons', '43 min', '50 min', '23 min',\n",
       "       '185 min', '200 min', '169 min', '27 min', '170 min', '196 min',\n",
       "       '33 min', '181 min', '204 min', '32 min', '35 min', '167 min',\n",
       "       '16 Seasons', '179 min', '193 min', '13 min', '214 min', '17 min',\n",
       "       '173 min', '192 min', '209 min', '187 min', '41 min', '182 min',\n",
       "       '224 min', '233 min', '189 min', '152 min', '19 min', '15 Seasons',\n",
       "       '208 min', '237 min', '31 min', '178 min', '230 min', '194 min',\n",
       "       '228 min', '195 min', '3 min', '16 min', '5 min', '18 min',\n",
       "       '205 min', '190 min', '36 min', '201 min', '253 min', '203 min',\n",
       "       '191 min'], dtype=object)"
      ]
     },
     "execution_count": 270,
     "metadata": {},
     "output_type": "execute_result"
    }
   ],
   "source": [
    "data.Duration.unique()"
   ]
  },
  {
   "cell_type": "code",
   "execution_count": 273,
   "id": "c5363dc4-2e9d-4070-a828-6a95bde3f347",
   "metadata": {},
   "outputs": [
    {
     "data": {
      "text/plain": [
       "dtype('O')"
      ]
     },
     "execution_count": 273,
     "metadata": {},
     "output_type": "execute_result"
    }
   ],
   "source": [
    "data.Duration.dtypes"
   ]
  },
  {
   "cell_type": "markdown",
   "id": "7d14ed1b-8475-4bc8-bc51-b4d000209b59",
   "metadata": {},
   "source": [
    "### str.split()"
   ]
  },
  {
   "cell_type": "code",
   "execution_count": 274,
   "id": "53c3d69c-abf0-4282-9bb4-ec3d6bb23301",
   "metadata": {},
   "outputs": [],
   "source": [
    "# data[['Minutes','Unite']] = data['Duration'].str.split(' ', expand=True)\n",
    "data[['Minutes', 'Unit']] = data['Duration'].str.split(' ', expand=True)"
   ]
  },
  {
   "cell_type": "code",
   "execution_count": 275,
   "id": "c4999829-c59b-40ac-a384-c972e698f29e",
   "metadata": {},
   "outputs": [
    {
     "data": {
      "text/html": [
       "<div>\n",
       "<style scoped>\n",
       "    .dataframe tbody tr th:only-of-type {\n",
       "        vertical-align: middle;\n",
       "    }\n",
       "\n",
       "    .dataframe tbody tr th {\n",
       "        vertical-align: top;\n",
       "    }\n",
       "\n",
       "    .dataframe thead th {\n",
       "        text-align: right;\n",
       "    }\n",
       "</style>\n",
       "<table border=\"1\" class=\"dataframe\">\n",
       "  <thead>\n",
       "    <tr style=\"text-align: right;\">\n",
       "      <th></th>\n",
       "      <th>Show_Id</th>\n",
       "      <th>Category</th>\n",
       "      <th>Title</th>\n",
       "      <th>Director</th>\n",
       "      <th>Cast</th>\n",
       "      <th>Country</th>\n",
       "      <th>Release_Date</th>\n",
       "      <th>Rating</th>\n",
       "      <th>Duration</th>\n",
       "      <th>Type</th>\n",
       "      <th>Description</th>\n",
       "      <th>Date_N</th>\n",
       "      <th>Year</th>\n",
       "      <th>Minutes</th>\n",
       "      <th>Unit</th>\n",
       "    </tr>\n",
       "  </thead>\n",
       "  <tbody>\n",
       "    <tr>\n",
       "      <th>0</th>\n",
       "      <td>s1</td>\n",
       "      <td>TV Show</td>\n",
       "      <td>3%</td>\n",
       "      <td>NaN</td>\n",
       "      <td>João Miguel, Bianca Comparato, Michel Gomes, R...</td>\n",
       "      <td>Brazil</td>\n",
       "      <td>August 14, 2020</td>\n",
       "      <td>TV-MA</td>\n",
       "      <td>4 Seasons</td>\n",
       "      <td>International TV Shows, TV Dramas, TV Sci-Fi &amp;...</td>\n",
       "      <td>In a future where the elite inhabit an island ...</td>\n",
       "      <td>2020-08-14</td>\n",
       "      <td>2020.0</td>\n",
       "      <td>4</td>\n",
       "      <td>Seasons</td>\n",
       "    </tr>\n",
       "    <tr>\n",
       "      <th>1</th>\n",
       "      <td>s2</td>\n",
       "      <td>Movie</td>\n",
       "      <td>07:19</td>\n",
       "      <td>Jorge Michel Grau</td>\n",
       "      <td>Demián Bichir, Héctor Bonilla, Oscar Serrano, ...</td>\n",
       "      <td>Mexico</td>\n",
       "      <td>December 23, 2016</td>\n",
       "      <td>TV-MA</td>\n",
       "      <td>93 min</td>\n",
       "      <td>Dramas, International Movies</td>\n",
       "      <td>After a devastating earthquake hits Mexico Cit...</td>\n",
       "      <td>2016-12-23</td>\n",
       "      <td>2016.0</td>\n",
       "      <td>93</td>\n",
       "      <td>min</td>\n",
       "    </tr>\n",
       "  </tbody>\n",
       "</table>\n",
       "</div>"
      ],
      "text/plain": [
       "  Show_Id Category  Title           Director  \\\n",
       "0      s1  TV Show     3%                NaN   \n",
       "1      s2    Movie  07:19  Jorge Michel Grau   \n",
       "\n",
       "                                                Cast Country  \\\n",
       "0  João Miguel, Bianca Comparato, Michel Gomes, R...  Brazil   \n",
       "1  Demián Bichir, Héctor Bonilla, Oscar Serrano, ...  Mexico   \n",
       "\n",
       "        Release_Date Rating   Duration  \\\n",
       "0    August 14, 2020  TV-MA  4 Seasons   \n",
       "1  December 23, 2016  TV-MA     93 min   \n",
       "\n",
       "                                                Type  \\\n",
       "0  International TV Shows, TV Dramas, TV Sci-Fi &...   \n",
       "1                       Dramas, International Movies   \n",
       "\n",
       "                                         Description     Date_N    Year  \\\n",
       "0  In a future where the elite inhabit an island ... 2020-08-14  2020.0   \n",
       "1  After a devastating earthquake hits Mexico Cit... 2016-12-23  2016.0   \n",
       "\n",
       "  Minutes     Unit  \n",
       "0       4  Seasons  \n",
       "1      93      min  "
      ]
     },
     "execution_count": 275,
     "metadata": {},
     "output_type": "execute_result"
    }
   ],
   "source": [
    "data.head(2)"
   ]
  },
  {
   "cell_type": "markdown",
   "id": "c0b8a889-b0a9-4893-899b-940c8ef8dbf2",
   "metadata": {},
   "source": [
    "### max()"
   ]
  },
  {
   "cell_type": "code",
   "execution_count": 281,
   "id": "3ec82fb7-09b0-41ed-b4bf-5a687cd72cf5",
   "metadata": {},
   "outputs": [
    {
     "data": {
      "text/plain": [
       "'99'"
      ]
     },
     "execution_count": 281,
     "metadata": {},
     "output_type": "execute_result"
    }
   ],
   "source": [
    "# data.Minutes.max()\n",
    "data.Minutes.max()"
   ]
  },
  {
   "cell_type": "code",
   "execution_count": 283,
   "id": "8f1313e5-5207-46e6-9f85-b5f003b15e39",
   "metadata": {},
   "outputs": [
    {
     "data": {
      "text/plain": [
       "'1'"
      ]
     },
     "execution_count": 283,
     "metadata": {},
     "output_type": "execute_result"
    }
   ],
   "source": [
    "data.Minutes.min()"
   ]
  },
  {
   "cell_type": "code",
   "execution_count": 287,
   "id": "a72d1374-678c-4c75-b2d1-cecb83c06ec6",
   "metadata": {},
   "outputs": [
    {
     "data": {
      "text/plain": [
       "Show_Id                 object\n",
       "Category                object\n",
       "Title                   object\n",
       "Director                object\n",
       "Cast                    object\n",
       "Country                 object\n",
       "Release_Date            object\n",
       "Rating                  object\n",
       "Duration                object\n",
       "Type                    object\n",
       "Description             object\n",
       "Date_N          datetime64[ns]\n",
       "Year                   float64\n",
       "Minutes                 object\n",
       "Unit                    object\n",
       "dtype: object"
      ]
     },
     "execution_count": 287,
     "metadata": {},
     "output_type": "execute_result"
    }
   ],
   "source": [
    "data.dtypes"
   ]
  },
  {
   "cell_type": "markdown",
   "id": "5f107d0d-884e-4156-a393-741e7a5b8024",
   "metadata": {},
   "source": [
    "----"
   ]
  },
  {
   "cell_type": "markdown",
   "id": "495c5bf9-fde9-4834-89ba-125d541dc585",
   "metadata": {},
   "source": [
    "### Q.11. Which individual country has the Highest No. of TV Shows ?"
   ]
  },
  {
   "cell_type": "code",
   "execution_count": 289,
   "id": "c16acf47-e879-4c4e-8447-9222aaee02a0",
   "metadata": {},
   "outputs": [],
   "source": [
    "# data.head(2)\n",
    "#data_tvshow = data[data['Category'] == 'TV Show']\n",
    "data_tvshow = data[data['Category'] == 'TV Show']"
   ]
  },
  {
   "cell_type": "code",
   "execution_count": 290,
   "id": "e4f45c1f-14ee-4302-a346-5c7573e5a564",
   "metadata": {},
   "outputs": [
    {
     "data": {
      "text/html": [
       "<div>\n",
       "<style scoped>\n",
       "    .dataframe tbody tr th:only-of-type {\n",
       "        vertical-align: middle;\n",
       "    }\n",
       "\n",
       "    .dataframe tbody tr th {\n",
       "        vertical-align: top;\n",
       "    }\n",
       "\n",
       "    .dataframe thead th {\n",
       "        text-align: right;\n",
       "    }\n",
       "</style>\n",
       "<table border=\"1\" class=\"dataframe\">\n",
       "  <thead>\n",
       "    <tr style=\"text-align: right;\">\n",
       "      <th></th>\n",
       "      <th>Show_Id</th>\n",
       "      <th>Category</th>\n",
       "      <th>Title</th>\n",
       "      <th>Director</th>\n",
       "      <th>Cast</th>\n",
       "      <th>Country</th>\n",
       "      <th>Release_Date</th>\n",
       "      <th>Rating</th>\n",
       "      <th>Duration</th>\n",
       "      <th>Type</th>\n",
       "      <th>Description</th>\n",
       "      <th>Date_N</th>\n",
       "      <th>Year</th>\n",
       "      <th>Minutes</th>\n",
       "      <th>Unit</th>\n",
       "    </tr>\n",
       "  </thead>\n",
       "  <tbody>\n",
       "    <tr>\n",
       "      <th>0</th>\n",
       "      <td>s1</td>\n",
       "      <td>TV Show</td>\n",
       "      <td>3%</td>\n",
       "      <td>NaN</td>\n",
       "      <td>João Miguel, Bianca Comparato, Michel Gomes, R...</td>\n",
       "      <td>Brazil</td>\n",
       "      <td>August 14, 2020</td>\n",
       "      <td>TV-MA</td>\n",
       "      <td>4 Seasons</td>\n",
       "      <td>International TV Shows, TV Dramas, TV Sci-Fi &amp;...</td>\n",
       "      <td>In a future where the elite inhabit an island ...</td>\n",
       "      <td>2020-08-14</td>\n",
       "      <td>2020.0</td>\n",
       "      <td>4</td>\n",
       "      <td>Seasons</td>\n",
       "    </tr>\n",
       "    <tr>\n",
       "      <th>5</th>\n",
       "      <td>s6</td>\n",
       "      <td>TV Show</td>\n",
       "      <td>46</td>\n",
       "      <td>Serdar Akar</td>\n",
       "      <td>Erdal Beşikçioğlu, Yasemin Allen, Melis Birkan...</td>\n",
       "      <td>Turkey</td>\n",
       "      <td>July 1, 2017</td>\n",
       "      <td>TV-MA</td>\n",
       "      <td>1 Season</td>\n",
       "      <td>International TV Shows, TV Dramas, TV Mysteries</td>\n",
       "      <td>A genetics professor experiments with a treatm...</td>\n",
       "      <td>2017-07-01</td>\n",
       "      <td>2017.0</td>\n",
       "      <td>1</td>\n",
       "      <td>Season</td>\n",
       "    </tr>\n",
       "  </tbody>\n",
       "</table>\n",
       "</div>"
      ],
      "text/plain": [
       "  Show_Id Category Title     Director  \\\n",
       "0      s1  TV Show    3%          NaN   \n",
       "5      s6  TV Show    46  Serdar Akar   \n",
       "\n",
       "                                                Cast Country     Release_Date  \\\n",
       "0  João Miguel, Bianca Comparato, Michel Gomes, R...  Brazil  August 14, 2020   \n",
       "5  Erdal Beşikçioğlu, Yasemin Allen, Melis Birkan...  Turkey     July 1, 2017   \n",
       "\n",
       "  Rating   Duration                                               Type  \\\n",
       "0  TV-MA  4 Seasons  International TV Shows, TV Dramas, TV Sci-Fi &...   \n",
       "5  TV-MA   1 Season    International TV Shows, TV Dramas, TV Mysteries   \n",
       "\n",
       "                                         Description     Date_N    Year  \\\n",
       "0  In a future where the elite inhabit an island ... 2020-08-14  2020.0   \n",
       "5  A genetics professor experiments with a treatm... 2017-07-01  2017.0   \n",
       "\n",
       "  Minutes     Unit  \n",
       "0       4  Seasons  \n",
       "5       1   Season  "
      ]
     },
     "execution_count": 290,
     "metadata": {},
     "output_type": "execute_result"
    }
   ],
   "source": [
    "#data_tvshow.head(2)\n",
    "data_tvshow.head(2)"
   ]
  },
  {
   "cell_type": "code",
   "execution_count": 292,
   "id": "dd976c53-1288-4343-bae0-e17618a4f350",
   "metadata": {},
   "outputs": [
    {
     "data": {
      "text/plain": [
       "Country\n",
       "United States                                                705\n",
       "United Kingdom                                               204\n",
       "Japan                                                        157\n",
       "South Korea                                                  147\n",
       "India                                                         71\n",
       "                                                            ... \n",
       "Canada, United States, United Kingdom, France, Luxembourg      1\n",
       "United States, Italy                                           1\n",
       "Chile, Italy                                                   1\n",
       "Canada, United Kingdom                                         1\n",
       "United States, France, South Korea, Indonesia                  1\n",
       "Name: count, Length: 183, dtype: int64"
      ]
     },
     "execution_count": 292,
     "metadata": {},
     "output_type": "execute_result"
    }
   ],
   "source": [
    "#data_tvshow.Country.value_counts()\n",
    "data_tvshow.Country.value_counts()"
   ]
  },
  {
   "cell_type": "code",
   "execution_count": 295,
   "id": "1c7ef0e4-8c8a-4bfd-b31a-ac0d60c0a992",
   "metadata": {},
   "outputs": [],
   "source": [
    "#data_tvshow.Country.value_counts().head(1)"
   ]
  },
  {
   "cell_type": "code",
   "execution_count": 296,
   "id": "8b3e5f57-5024-4006-a9cf-2d09390ca037",
   "metadata": {},
   "outputs": [
    {
     "data": {
      "text/plain": [
       "Country\n",
       "United States    705\n",
       "Name: count, dtype: int64"
      ]
     },
     "execution_count": 296,
     "metadata": {},
     "output_type": "execute_result"
    }
   ],
   "source": [
    "data_tvshow.Country.value_counts().head(1)"
   ]
  },
  {
   "cell_type": "markdown",
   "id": "9f17fee9-ad69-47b2-8b46-5dca074cf532",
   "metadata": {},
   "source": [
    "----"
   ]
  },
  {
   "cell_type": "markdown",
   "id": "bdb77634-21d7-406e-b20b-2adf17bfb68f",
   "metadata": {},
   "source": [
    "### Q.12. How can we sort the dataset by Year ?"
   ]
  },
  {
   "cell_type": "code",
   "execution_count": 299,
   "id": "6d135f1c-f7a7-4dc2-9d0f-2e332ff9704f",
   "metadata": {},
   "outputs": [
    {
     "data": {
      "text/html": [
       "<div>\n",
       "<style scoped>\n",
       "    .dataframe tbody tr th:only-of-type {\n",
       "        vertical-align: middle;\n",
       "    }\n",
       "\n",
       "    .dataframe tbody tr th {\n",
       "        vertical-align: top;\n",
       "    }\n",
       "\n",
       "    .dataframe thead th {\n",
       "        text-align: right;\n",
       "    }\n",
       "</style>\n",
       "<table border=\"1\" class=\"dataframe\">\n",
       "  <thead>\n",
       "    <tr style=\"text-align: right;\">\n",
       "      <th></th>\n",
       "      <th>Show_Id</th>\n",
       "      <th>Category</th>\n",
       "      <th>Title</th>\n",
       "      <th>Director</th>\n",
       "      <th>Cast</th>\n",
       "      <th>Country</th>\n",
       "      <th>Release_Date</th>\n",
       "      <th>Rating</th>\n",
       "      <th>Duration</th>\n",
       "      <th>Type</th>\n",
       "      <th>Description</th>\n",
       "      <th>Date_N</th>\n",
       "      <th>Year</th>\n",
       "      <th>Minutes</th>\n",
       "      <th>Unit</th>\n",
       "    </tr>\n",
       "  </thead>\n",
       "  <tbody>\n",
       "    <tr>\n",
       "      <th>5564</th>\n",
       "      <td>s5564</td>\n",
       "      <td>Movie</td>\n",
       "      <td>Sherlock Holmes</td>\n",
       "      <td>Guy Ritchie</td>\n",
       "      <td>Robert Downey Jr., Jude Law, Rachel McAdams, M...</td>\n",
       "      <td>United States, Germany, United Kingdom, Australia</td>\n",
       "      <td>January 1, 2021</td>\n",
       "      <td>PG-13</td>\n",
       "      <td>128 min</td>\n",
       "      <td>Action &amp; Adventure, Comedies</td>\n",
       "      <td>The game is afoot for an eccentric detective w...</td>\n",
       "      <td>2021-01-01</td>\n",
       "      <td>2021.0</td>\n",
       "      <td>128</td>\n",
       "      <td>min</td>\n",
       "    </tr>\n",
       "    <tr>\n",
       "      <th>5919</th>\n",
       "      <td>s5919</td>\n",
       "      <td>Movie</td>\n",
       "      <td>Surf's Up</td>\n",
       "      <td>Ash Brannon, Chris Buck</td>\n",
       "      <td>Shia LaBeouf, Jeff Bridges, Zooey Deschanel, J...</td>\n",
       "      <td>United States</td>\n",
       "      <td>January 1, 2021</td>\n",
       "      <td>PG</td>\n",
       "      <td>86 min</td>\n",
       "      <td>Children &amp; Family Movies, Comedies, Sports Movies</td>\n",
       "      <td>This Oscar-nominated animated comedy goes behi...</td>\n",
       "      <td>2021-01-01</td>\n",
       "      <td>2021.0</td>\n",
       "      <td>86</td>\n",
       "      <td>min</td>\n",
       "    </tr>\n",
       "    <tr>\n",
       "      <th>980</th>\n",
       "      <td>s981</td>\n",
       "      <td>TV Show</td>\n",
       "      <td>Bling Empire</td>\n",
       "      <td>NaN</td>\n",
       "      <td>NaN</td>\n",
       "      <td>NaN</td>\n",
       "      <td>January 15, 2021</td>\n",
       "      <td>TV-MA</td>\n",
       "      <td>1 Season</td>\n",
       "      <td>Reality TV</td>\n",
       "      <td>Follow LA's wildly wealthy Asian and Asian Ame...</td>\n",
       "      <td>2021-01-15</td>\n",
       "      <td>2021.0</td>\n",
       "      <td>1</td>\n",
       "      <td>Season</td>\n",
       "    </tr>\n",
       "    <tr>\n",
       "      <th>5955</th>\n",
       "      <td>s5955</td>\n",
       "      <td>Movie</td>\n",
       "      <td>Taare Zameen Par</td>\n",
       "      <td>Aamir Khan</td>\n",
       "      <td>Aamir Khan, Darsheel Safary, Tanay Chheda, Tis...</td>\n",
       "      <td>India</td>\n",
       "      <td>January 10, 2021</td>\n",
       "      <td>PG</td>\n",
       "      <td>162 min</td>\n",
       "      <td>Dramas, International Movies</td>\n",
       "      <td>When daydreamer Ishaan is sent to boarding sch...</td>\n",
       "      <td>2021-01-10</td>\n",
       "      <td>2021.0</td>\n",
       "      <td>162</td>\n",
       "      <td>min</td>\n",
       "    </tr>\n",
       "    <tr>\n",
       "      <th>366</th>\n",
       "      <td>s367</td>\n",
       "      <td>Movie</td>\n",
       "      <td>Al acecho</td>\n",
       "      <td>Francisco D'Eufemia</td>\n",
       "      <td>Rodrigo de la Serna, Belen Blanco, Walter Jako...</td>\n",
       "      <td>NaN</td>\n",
       "      <td>January 12, 2021</td>\n",
       "      <td>TV-MA</td>\n",
       "      <td>81 min</td>\n",
       "      <td>International Movies, Thrillers</td>\n",
       "      <td>Looking for a fresh start, a park ranger gets ...</td>\n",
       "      <td>2021-01-12</td>\n",
       "      <td>2021.0</td>\n",
       "      <td>81</td>\n",
       "      <td>min</td>\n",
       "    </tr>\n",
       "    <tr>\n",
       "      <th>...</th>\n",
       "      <td>...</td>\n",
       "      <td>...</td>\n",
       "      <td>...</td>\n",
       "      <td>...</td>\n",
       "      <td>...</td>\n",
       "      <td>...</td>\n",
       "      <td>...</td>\n",
       "      <td>...</td>\n",
       "      <td>...</td>\n",
       "      <td>...</td>\n",
       "      <td>...</td>\n",
       "      <td>...</td>\n",
       "      <td>...</td>\n",
       "      <td>...</td>\n",
       "      <td>...</td>\n",
       "    </tr>\n",
       "    <tr>\n",
       "      <th>3374</th>\n",
       "      <td>s3375</td>\n",
       "      <td>TV Show</td>\n",
       "      <td>Kikoriki</td>\n",
       "      <td>NaN</td>\n",
       "      <td>Igor Dmitriev</td>\n",
       "      <td>NaN</td>\n",
       "      <td>NaN</td>\n",
       "      <td>TV-Y</td>\n",
       "      <td>2 Seasons</td>\n",
       "      <td>Kids' TV</td>\n",
       "      <td>A wacky rabbit and his gang of animal pals hav...</td>\n",
       "      <td>NaT</td>\n",
       "      <td>NaN</td>\n",
       "      <td>2</td>\n",
       "      <td>Seasons</td>\n",
       "    </tr>\n",
       "    <tr>\n",
       "      <th>3492</th>\n",
       "      <td>s3493</td>\n",
       "      <td>TV Show</td>\n",
       "      <td>La Familia P. Luche</td>\n",
       "      <td>NaN</td>\n",
       "      <td>Eugenio Derbez, Consuelo Duval, Luis Manuel Áv...</td>\n",
       "      <td>United States</td>\n",
       "      <td>NaN</td>\n",
       "      <td>TV-14</td>\n",
       "      <td>3 Seasons</td>\n",
       "      <td>International TV Shows, Spanish-Language TV Sh...</td>\n",
       "      <td>This irreverent sitcom featues Ludovico, Feder...</td>\n",
       "      <td>NaT</td>\n",
       "      <td>NaN</td>\n",
       "      <td>3</td>\n",
       "      <td>Seasons</td>\n",
       "    </tr>\n",
       "    <tr>\n",
       "      <th>3946</th>\n",
       "      <td>s3947</td>\n",
       "      <td>TV Show</td>\n",
       "      <td>Maron</td>\n",
       "      <td>NaN</td>\n",
       "      <td>Marc Maron, Judd Hirsch, Josh Brener, Nora Zeh...</td>\n",
       "      <td>United States</td>\n",
       "      <td>NaN</td>\n",
       "      <td>TV-MA</td>\n",
       "      <td>4 Seasons</td>\n",
       "      <td>TV Comedies</td>\n",
       "      <td>Marc Maron stars as Marc Maron, who interviews...</td>\n",
       "      <td>NaT</td>\n",
       "      <td>NaN</td>\n",
       "      <td>4</td>\n",
       "      <td>Seasons</td>\n",
       "    </tr>\n",
       "    <tr>\n",
       "      <th>5138</th>\n",
       "      <td>s5138</td>\n",
       "      <td>TV Show</td>\n",
       "      <td>Red vs. Blue</td>\n",
       "      <td>NaN</td>\n",
       "      <td>Burnie Burns, Jason Saldaña, Gustavo Sorola, G...</td>\n",
       "      <td>United States</td>\n",
       "      <td>NaN</td>\n",
       "      <td>NR</td>\n",
       "      <td>13 Seasons</td>\n",
       "      <td>TV Action &amp; Adventure, TV Comedies, TV Sci-Fi ...</td>\n",
       "      <td>This parody of first-person shooter games, mil...</td>\n",
       "      <td>NaT</td>\n",
       "      <td>NaN</td>\n",
       "      <td>13</td>\n",
       "      <td>Seasons</td>\n",
       "    </tr>\n",
       "    <tr>\n",
       "      <th>6066</th>\n",
       "      <td>s6066</td>\n",
       "      <td>TV Show</td>\n",
       "      <td>The Adventures of Figaro Pho</td>\n",
       "      <td>NaN</td>\n",
       "      <td>Luke Jurevicius, Craig Behenna, Charlotte Haml...</td>\n",
       "      <td>Australia</td>\n",
       "      <td>NaN</td>\n",
       "      <td>TV-Y7</td>\n",
       "      <td>2 Seasons</td>\n",
       "      <td>Kids' TV, TV Comedies</td>\n",
       "      <td>Imagine your worst fears, then multiply them: ...</td>\n",
       "      <td>NaT</td>\n",
       "      <td>NaN</td>\n",
       "      <td>2</td>\n",
       "      <td>Seasons</td>\n",
       "    </tr>\n",
       "  </tbody>\n",
       "</table>\n",
       "<p>7787 rows × 15 columns</p>\n",
       "</div>"
      ],
      "text/plain": [
       "     Show_Id Category                         Title                 Director  \\\n",
       "5564   s5564    Movie               Sherlock Holmes              Guy Ritchie   \n",
       "5919   s5919    Movie                     Surf's Up  Ash Brannon, Chris Buck   \n",
       "980     s981  TV Show                  Bling Empire                      NaN   \n",
       "5955   s5955    Movie              Taare Zameen Par               Aamir Khan   \n",
       "366     s367    Movie                     Al acecho      Francisco D'Eufemia   \n",
       "...      ...      ...                           ...                      ...   \n",
       "3374   s3375  TV Show                      Kikoriki                      NaN   \n",
       "3492   s3493  TV Show           La Familia P. Luche                      NaN   \n",
       "3946   s3947  TV Show                         Maron                      NaN   \n",
       "5138   s5138  TV Show                  Red vs. Blue                      NaN   \n",
       "6066   s6066  TV Show  The Adventures of Figaro Pho                      NaN   \n",
       "\n",
       "                                                   Cast  \\\n",
       "5564  Robert Downey Jr., Jude Law, Rachel McAdams, M...   \n",
       "5919  Shia LaBeouf, Jeff Bridges, Zooey Deschanel, J...   \n",
       "980                                                 NaN   \n",
       "5955  Aamir Khan, Darsheel Safary, Tanay Chheda, Tis...   \n",
       "366   Rodrigo de la Serna, Belen Blanco, Walter Jako...   \n",
       "...                                                 ...   \n",
       "3374                                      Igor Dmitriev   \n",
       "3492  Eugenio Derbez, Consuelo Duval, Luis Manuel Áv...   \n",
       "3946  Marc Maron, Judd Hirsch, Josh Brener, Nora Zeh...   \n",
       "5138  Burnie Burns, Jason Saldaña, Gustavo Sorola, G...   \n",
       "6066  Luke Jurevicius, Craig Behenna, Charlotte Haml...   \n",
       "\n",
       "                                                Country      Release_Date  \\\n",
       "5564  United States, Germany, United Kingdom, Australia   January 1, 2021   \n",
       "5919                                      United States   January 1, 2021   \n",
       "980                                                 NaN  January 15, 2021   \n",
       "5955                                              India  January 10, 2021   \n",
       "366                                                 NaN  January 12, 2021   \n",
       "...                                                 ...               ...   \n",
       "3374                                                NaN               NaN   \n",
       "3492                                      United States               NaN   \n",
       "3946                                      United States               NaN   \n",
       "5138                                      United States               NaN   \n",
       "6066                                          Australia               NaN   \n",
       "\n",
       "     Rating    Duration                                               Type  \\\n",
       "5564  PG-13     128 min                       Action & Adventure, Comedies   \n",
       "5919     PG      86 min  Children & Family Movies, Comedies, Sports Movies   \n",
       "980   TV-MA    1 Season                                         Reality TV   \n",
       "5955     PG     162 min                       Dramas, International Movies   \n",
       "366   TV-MA      81 min                    International Movies, Thrillers   \n",
       "...     ...         ...                                                ...   \n",
       "3374   TV-Y   2 Seasons                                           Kids' TV   \n",
       "3492  TV-14   3 Seasons  International TV Shows, Spanish-Language TV Sh...   \n",
       "3946  TV-MA   4 Seasons                                        TV Comedies   \n",
       "5138     NR  13 Seasons  TV Action & Adventure, TV Comedies, TV Sci-Fi ...   \n",
       "6066  TV-Y7   2 Seasons                              Kids' TV, TV Comedies   \n",
       "\n",
       "                                            Description     Date_N    Year  \\\n",
       "5564  The game is afoot for an eccentric detective w... 2021-01-01  2021.0   \n",
       "5919  This Oscar-nominated animated comedy goes behi... 2021-01-01  2021.0   \n",
       "980   Follow LA's wildly wealthy Asian and Asian Ame... 2021-01-15  2021.0   \n",
       "5955  When daydreamer Ishaan is sent to boarding sch... 2021-01-10  2021.0   \n",
       "366   Looking for a fresh start, a park ranger gets ... 2021-01-12  2021.0   \n",
       "...                                                 ...        ...     ...   \n",
       "3374  A wacky rabbit and his gang of animal pals hav...        NaT     NaN   \n",
       "3492  This irreverent sitcom featues Ludovico, Feder...        NaT     NaN   \n",
       "3946  Marc Maron stars as Marc Maron, who interviews...        NaT     NaN   \n",
       "5138  This parody of first-person shooter games, mil...        NaT     NaN   \n",
       "6066  Imagine your worst fears, then multiply them: ...        NaT     NaN   \n",
       "\n",
       "     Minutes     Unit  \n",
       "5564     128      min  \n",
       "5919      86      min  \n",
       "980        1   Season  \n",
       "5955     162      min  \n",
       "366       81      min  \n",
       "...      ...      ...  \n",
       "3374       2  Seasons  \n",
       "3492       3  Seasons  \n",
       "3946       4  Seasons  \n",
       "5138      13  Seasons  \n",
       "6066       2  Seasons  \n",
       "\n",
       "[7787 rows x 15 columns]"
      ]
     },
     "execution_count": 299,
     "metadata": {},
     "output_type": "execute_result"
    }
   ],
   "source": [
    "data.sort_values(by=\"Year\", ascending=False)"
   ]
  },
  {
   "cell_type": "markdown",
   "id": "2966c087-42de-4a45-9269-14414eb47e00",
   "metadata": {},
   "source": [
    "----"
   ]
  },
  {
   "cell_type": "markdown",
   "id": "90c7e561-907c-444f-8e9d-dc209b12fc4a",
   "metadata": {},
   "source": [
    "### Q.13. Find all the instances where : "
   ]
  },
  {
   "cell_type": "markdown",
   "id": "9f01c239-bcd8-4b68-86b7-2e461d4aeaf8",
   "metadata": {},
   "source": [
    "### Category is 'Movie' and Type is 'Dramas' "
   ]
  },
  {
   "cell_type": "markdown",
   "id": "531c13c5-0ee7-4437-8a89-72fb94877eba",
   "metadata": {},
   "source": [
    "### OR"
   ]
  },
  {
   "cell_type": "markdown",
   "id": "66a834a7-0ac7-4625-b701-7e8b227a2be1",
   "metadata": {},
   "source": [
    "###  Category is 'TV Show' & Type is 'Kids' TV'"
   ]
  },
  {
   "cell_type": "code",
   "execution_count": 313,
   "id": "e275be5e-72a4-481c-ac05-c4e1d2b20172",
   "metadata": {},
   "outputs": [
    {
     "data": {
      "text/html": [
       "<div>\n",
       "<style scoped>\n",
       "    .dataframe tbody tr th:only-of-type {\n",
       "        vertical-align: middle;\n",
       "    }\n",
       "\n",
       "    .dataframe tbody tr th {\n",
       "        vertical-align: top;\n",
       "    }\n",
       "\n",
       "    .dataframe thead th {\n",
       "        text-align: right;\n",
       "    }\n",
       "</style>\n",
       "<table border=\"1\" class=\"dataframe\">\n",
       "  <thead>\n",
       "    <tr style=\"text-align: right;\">\n",
       "      <th></th>\n",
       "      <th>Show_Id</th>\n",
       "      <th>Category</th>\n",
       "      <th>Title</th>\n",
       "      <th>Director</th>\n",
       "      <th>Cast</th>\n",
       "      <th>Country</th>\n",
       "      <th>Release_Date</th>\n",
       "      <th>Rating</th>\n",
       "      <th>Duration</th>\n",
       "      <th>Type</th>\n",
       "      <th>Description</th>\n",
       "      <th>Date_N</th>\n",
       "      <th>Year</th>\n",
       "      <th>Minutes</th>\n",
       "      <th>Unit</th>\n",
       "    </tr>\n",
       "  </thead>\n",
       "  <tbody>\n",
       "    <tr>\n",
       "      <th>4</th>\n",
       "      <td>s5</td>\n",
       "      <td>Movie</td>\n",
       "      <td>21</td>\n",
       "      <td>Robert Luketic</td>\n",
       "      <td>Jim Sturgess, Kevin Spacey, Kate Bosworth, Aar...</td>\n",
       "      <td>United States</td>\n",
       "      <td>January 1, 2020</td>\n",
       "      <td>PG-13</td>\n",
       "      <td>123 min</td>\n",
       "      <td>Dramas</td>\n",
       "      <td>A brilliant group of students become card-coun...</td>\n",
       "      <td>2020-01-01</td>\n",
       "      <td>2020.0</td>\n",
       "      <td>123</td>\n",
       "      <td>min</td>\n",
       "    </tr>\n",
       "    <tr>\n",
       "      <th>7</th>\n",
       "      <td>s8</td>\n",
       "      <td>Movie</td>\n",
       "      <td>187</td>\n",
       "      <td>Kevin Reynolds</td>\n",
       "      <td>Samuel L. Jackson, John Heard, Kelly Rowan, Cl...</td>\n",
       "      <td>United States</td>\n",
       "      <td>November 1, 2019</td>\n",
       "      <td>R</td>\n",
       "      <td>119 min</td>\n",
       "      <td>Dramas</td>\n",
       "      <td>After one of his high school students attacks ...</td>\n",
       "      <td>2019-11-01</td>\n",
       "      <td>2019.0</td>\n",
       "      <td>119</td>\n",
       "      <td>min</td>\n",
       "    </tr>\n",
       "  </tbody>\n",
       "</table>\n",
       "</div>"
      ],
      "text/plain": [
       "  Show_Id Category Title        Director  \\\n",
       "4      s5    Movie    21  Robert Luketic   \n",
       "7      s8    Movie   187  Kevin Reynolds   \n",
       "\n",
       "                                                Cast        Country  \\\n",
       "4  Jim Sturgess, Kevin Spacey, Kate Bosworth, Aar...  United States   \n",
       "7  Samuel L. Jackson, John Heard, Kelly Rowan, Cl...  United States   \n",
       "\n",
       "       Release_Date Rating Duration    Type  \\\n",
       "4   January 1, 2020  PG-13  123 min  Dramas   \n",
       "7  November 1, 2019      R  119 min  Dramas   \n",
       "\n",
       "                                         Description     Date_N    Year  \\\n",
       "4  A brilliant group of students become card-coun... 2020-01-01  2020.0   \n",
       "7  After one of his high school students attacks ... 2019-11-01  2019.0   \n",
       "\n",
       "  Minutes Unit  \n",
       "4     123  min  \n",
       "7     119  min  "
      ]
     },
     "execution_count": 313,
     "metadata": {},
     "output_type": "execute_result"
    }
   ],
   "source": [
    "#data[(data['Category'] == 'Movie') & (data[\"Type\"] == \"Dramas\")].head(2)\n",
    "data[(data['Category'] == 'Movie') & (data[\"Type\"] == \"Dramas\")].head(2)"
   ]
  },
  {
   "cell_type": "code",
   "execution_count": 320,
   "id": "4dc1d51f-7d1a-40c5-92a7-89d7b4513ad7",
   "metadata": {},
   "outputs": [
    {
     "data": {
      "text/html": [
       "<div>\n",
       "<style scoped>\n",
       "    .dataframe tbody tr th:only-of-type {\n",
       "        vertical-align: middle;\n",
       "    }\n",
       "\n",
       "    .dataframe tbody tr th {\n",
       "        vertical-align: top;\n",
       "    }\n",
       "\n",
       "    .dataframe thead th {\n",
       "        text-align: right;\n",
       "    }\n",
       "</style>\n",
       "<table border=\"1\" class=\"dataframe\">\n",
       "  <thead>\n",
       "    <tr style=\"text-align: right;\">\n",
       "      <th></th>\n",
       "      <th>Show_Id</th>\n",
       "      <th>Category</th>\n",
       "      <th>Title</th>\n",
       "      <th>Director</th>\n",
       "      <th>Cast</th>\n",
       "      <th>Country</th>\n",
       "      <th>Release_Date</th>\n",
       "      <th>Rating</th>\n",
       "      <th>Duration</th>\n",
       "      <th>Type</th>\n",
       "      <th>Description</th>\n",
       "      <th>Date_N</th>\n",
       "      <th>Year</th>\n",
       "      <th>Minutes</th>\n",
       "      <th>Unit</th>\n",
       "    </tr>\n",
       "  </thead>\n",
       "  <tbody>\n",
       "    <tr>\n",
       "      <th>111</th>\n",
       "      <td>s112</td>\n",
       "      <td>TV Show</td>\n",
       "      <td>44 Cats</td>\n",
       "      <td>NaN</td>\n",
       "      <td>Sarah Natochenny, Suzy Myers, Simona Berman, E...</td>\n",
       "      <td>Italy</td>\n",
       "      <td>October 1, 2020</td>\n",
       "      <td>TV-Y7</td>\n",
       "      <td>2 Seasons</td>\n",
       "      <td>Kids' TV</td>\n",
       "      <td>Paw-esome tales abound when singing furry frie...</td>\n",
       "      <td>2020-10-01</td>\n",
       "      <td>2020.0</td>\n",
       "      <td>2</td>\n",
       "      <td>Seasons</td>\n",
       "    </tr>\n",
       "    <tr>\n",
       "      <th>276</th>\n",
       "      <td>s277</td>\n",
       "      <td>TV Show</td>\n",
       "      <td>Abby Hatcher</td>\n",
       "      <td>Kyran Kelly</td>\n",
       "      <td>Macy Drouin, Wyatt White, Paul Sun-Hyung Lee, ...</td>\n",
       "      <td>United States, Canada</td>\n",
       "      <td>July 1, 2020</td>\n",
       "      <td>TV-Y</td>\n",
       "      <td>1 Season</td>\n",
       "      <td>Kids' TV</td>\n",
       "      <td>A big-hearted girl helps her Fuzzly friends wh...</td>\n",
       "      <td>2020-07-01</td>\n",
       "      <td>2020.0</td>\n",
       "      <td>1</td>\n",
       "      <td>Season</td>\n",
       "    </tr>\n",
       "    <tr>\n",
       "      <th>434</th>\n",
       "      <td>s435</td>\n",
       "      <td>TV Show</td>\n",
       "      <td>Alphablocks</td>\n",
       "      <td>NaN</td>\n",
       "      <td>Teresa Gallagher, David Holt, Lizzie Waterworth</td>\n",
       "      <td>United Kingdom</td>\n",
       "      <td>May 25, 2020</td>\n",
       "      <td>TV-Y</td>\n",
       "      <td>5 Seasons</td>\n",
       "      <td>Kids' TV</td>\n",
       "      <td>The letters of the alphabet come to life in Al...</td>\n",
       "      <td>2020-05-25</td>\n",
       "      <td>2020.0</td>\n",
       "      <td>5</td>\n",
       "      <td>Seasons</td>\n",
       "    </tr>\n",
       "    <tr>\n",
       "      <th>598</th>\n",
       "      <td>s599</td>\n",
       "      <td>TV Show</td>\n",
       "      <td>Ask the StoryBots</td>\n",
       "      <td>NaN</td>\n",
       "      <td>Judy Greer, Erin Fitzgerald, Fred Tatasciore, ...</td>\n",
       "      <td>United States</td>\n",
       "      <td>August 2, 2019</td>\n",
       "      <td>TV-Y</td>\n",
       "      <td>3 Seasons</td>\n",
       "      <td>Kids' TV</td>\n",
       "      <td>Five curious little creatures track down the a...</td>\n",
       "      <td>2019-08-02</td>\n",
       "      <td>2019.0</td>\n",
       "      <td>3</td>\n",
       "      <td>Seasons</td>\n",
       "    </tr>\n",
       "    <tr>\n",
       "      <th>706</th>\n",
       "      <td>s707</td>\n",
       "      <td>TV Show</td>\n",
       "      <td>Bal Ganesh</td>\n",
       "      <td>Vijay S. Bhanushali</td>\n",
       "      <td>Meghna Erande Joshi, Parminder Ghumman</td>\n",
       "      <td>NaN</td>\n",
       "      <td>March 31, 2020</td>\n",
       "      <td>TV-Y7</td>\n",
       "      <td>1 Season</td>\n",
       "      <td>Kids' TV</td>\n",
       "      <td>Watch Ganesh destroy demons, disarm invaders a...</td>\n",
       "      <td>2020-03-31</td>\n",
       "      <td>2020.0</td>\n",
       "      <td>1</td>\n",
       "      <td>Season</td>\n",
       "    </tr>\n",
       "    <tr>\n",
       "      <th>...</th>\n",
       "      <td>...</td>\n",
       "      <td>...</td>\n",
       "      <td>...</td>\n",
       "      <td>...</td>\n",
       "      <td>...</td>\n",
       "      <td>...</td>\n",
       "      <td>...</td>\n",
       "      <td>...</td>\n",
       "      <td>...</td>\n",
       "      <td>...</td>\n",
       "      <td>...</td>\n",
       "      <td>...</td>\n",
       "      <td>...</td>\n",
       "      <td>...</td>\n",
       "      <td>...</td>\n",
       "    </tr>\n",
       "    <tr>\n",
       "      <th>7668</th>\n",
       "      <td>s7667</td>\n",
       "      <td>TV Show</td>\n",
       "      <td>World of Winx</td>\n",
       "      <td>Iginio Straffi</td>\n",
       "      <td>Haven Paschall, Alysha Deslorieux, Jessica Paq...</td>\n",
       "      <td>Italy, United States</td>\n",
       "      <td>June 16, 2017</td>\n",
       "      <td>TV-Y7</td>\n",
       "      <td>2 Seasons</td>\n",
       "      <td>Kids' TV</td>\n",
       "      <td>The reality show \"WOW!\" engages the Winx in th...</td>\n",
       "      <td>2017-06-16</td>\n",
       "      <td>2017.0</td>\n",
       "      <td>2</td>\n",
       "      <td>Seasons</td>\n",
       "    </tr>\n",
       "    <tr>\n",
       "      <th>7717</th>\n",
       "      <td>s7716</td>\n",
       "      <td>TV Show</td>\n",
       "      <td>Yoko</td>\n",
       "      <td>NaN</td>\n",
       "      <td>Eileen Stevens, Alyson Leigh Rosenfeld, Sarah ...</td>\n",
       "      <td>NaN</td>\n",
       "      <td>June 23, 2018</td>\n",
       "      <td>TV-Y</td>\n",
       "      <td>1 Season</td>\n",
       "      <td>Kids' TV</td>\n",
       "      <td>Friends Mai, Oto and Vik's games at the park b...</td>\n",
       "      <td>2018-06-23</td>\n",
       "      <td>2018.0</td>\n",
       "      <td>1</td>\n",
       "      <td>Season</td>\n",
       "    </tr>\n",
       "    <tr>\n",
       "      <th>7719</th>\n",
       "      <td>s7718</td>\n",
       "      <td>TV Show</td>\n",
       "      <td>YOM</td>\n",
       "      <td>NaN</td>\n",
       "      <td>Sairaj, Devyani Dagaonkar, Ketan Singh, Mayur ...</td>\n",
       "      <td>NaN</td>\n",
       "      <td>June 7, 2018</td>\n",
       "      <td>TV-Y7</td>\n",
       "      <td>1 Season</td>\n",
       "      <td>Kids' TV</td>\n",
       "      <td>With the mind of a human being, and the body o...</td>\n",
       "      <td>2018-06-07</td>\n",
       "      <td>2018.0</td>\n",
       "      <td>1</td>\n",
       "      <td>Season</td>\n",
       "    </tr>\n",
       "    <tr>\n",
       "      <th>7758</th>\n",
       "      <td>s7757</td>\n",
       "      <td>TV Show</td>\n",
       "      <td>Z4</td>\n",
       "      <td>NaN</td>\n",
       "      <td>Apollo Costa, Gabriel Santana, Matheus Lustosa...</td>\n",
       "      <td>Brazil</td>\n",
       "      <td>February 22, 2019</td>\n",
       "      <td>TV-PG</td>\n",
       "      <td>2 Seasons</td>\n",
       "      <td>Kids' TV</td>\n",
       "      <td>Fading music biz veteran Zé realizes he has ju...</td>\n",
       "      <td>2019-02-22</td>\n",
       "      <td>2019.0</td>\n",
       "      <td>2</td>\n",
       "      <td>Seasons</td>\n",
       "    </tr>\n",
       "    <tr>\n",
       "      <th>7761</th>\n",
       "      <td>s7760</td>\n",
       "      <td>TV Show</td>\n",
       "      <td>Zak Storm</td>\n",
       "      <td>NaN</td>\n",
       "      <td>Michael Johnston, Jessica Gee-George, Christin...</td>\n",
       "      <td>United States, France, South Korea, Indonesia</td>\n",
       "      <td>September 13, 2018</td>\n",
       "      <td>TV-Y7</td>\n",
       "      <td>3 Seasons</td>\n",
       "      <td>Kids' TV</td>\n",
       "      <td>Teen surfer Zak Storm is mysteriously transpor...</td>\n",
       "      <td>2018-09-13</td>\n",
       "      <td>2018.0</td>\n",
       "      <td>3</td>\n",
       "      <td>Seasons</td>\n",
       "    </tr>\n",
       "  </tbody>\n",
       "</table>\n",
       "<p>205 rows × 15 columns</p>\n",
       "</div>"
      ],
      "text/plain": [
       "     Show_Id Category              Title             Director  \\\n",
       "111     s112  TV Show            44 Cats                  NaN   \n",
       "276     s277  TV Show       Abby Hatcher          Kyran Kelly   \n",
       "434     s435  TV Show        Alphablocks                  NaN   \n",
       "598     s599  TV Show  Ask the StoryBots                  NaN   \n",
       "706     s707  TV Show         Bal Ganesh  Vijay S. Bhanushali   \n",
       "...      ...      ...                ...                  ...   \n",
       "7668   s7667  TV Show      World of Winx       Iginio Straffi   \n",
       "7717   s7716  TV Show               Yoko                  NaN   \n",
       "7719   s7718  TV Show                YOM                  NaN   \n",
       "7758   s7757  TV Show                 Z4                  NaN   \n",
       "7761   s7760  TV Show          Zak Storm                  NaN   \n",
       "\n",
       "                                                   Cast  \\\n",
       "111   Sarah Natochenny, Suzy Myers, Simona Berman, E...   \n",
       "276   Macy Drouin, Wyatt White, Paul Sun-Hyung Lee, ...   \n",
       "434     Teresa Gallagher, David Holt, Lizzie Waterworth   \n",
       "598   Judy Greer, Erin Fitzgerald, Fred Tatasciore, ...   \n",
       "706              Meghna Erande Joshi, Parminder Ghumman   \n",
       "...                                                 ...   \n",
       "7668  Haven Paschall, Alysha Deslorieux, Jessica Paq...   \n",
       "7717  Eileen Stevens, Alyson Leigh Rosenfeld, Sarah ...   \n",
       "7719  Sairaj, Devyani Dagaonkar, Ketan Singh, Mayur ...   \n",
       "7758  Apollo Costa, Gabriel Santana, Matheus Lustosa...   \n",
       "7761  Michael Johnston, Jessica Gee-George, Christin...   \n",
       "\n",
       "                                            Country        Release_Date  \\\n",
       "111                                           Italy     October 1, 2020   \n",
       "276                           United States, Canada        July 1, 2020   \n",
       "434                                  United Kingdom        May 25, 2020   \n",
       "598                                   United States      August 2, 2019   \n",
       "706                                             NaN      March 31, 2020   \n",
       "...                                             ...                 ...   \n",
       "7668                           Italy, United States       June 16, 2017   \n",
       "7717                                            NaN       June 23, 2018   \n",
       "7719                                            NaN        June 7, 2018   \n",
       "7758                                         Brazil   February 22, 2019   \n",
       "7761  United States, France, South Korea, Indonesia  September 13, 2018   \n",
       "\n",
       "     Rating   Duration      Type  \\\n",
       "111   TV-Y7  2 Seasons  Kids' TV   \n",
       "276    TV-Y   1 Season  Kids' TV   \n",
       "434    TV-Y  5 Seasons  Kids' TV   \n",
       "598    TV-Y  3 Seasons  Kids' TV   \n",
       "706   TV-Y7   1 Season  Kids' TV   \n",
       "...     ...        ...       ...   \n",
       "7668  TV-Y7  2 Seasons  Kids' TV   \n",
       "7717   TV-Y   1 Season  Kids' TV   \n",
       "7719  TV-Y7   1 Season  Kids' TV   \n",
       "7758  TV-PG  2 Seasons  Kids' TV   \n",
       "7761  TV-Y7  3 Seasons  Kids' TV   \n",
       "\n",
       "                                            Description     Date_N    Year  \\\n",
       "111   Paw-esome tales abound when singing furry frie... 2020-10-01  2020.0   \n",
       "276   A big-hearted girl helps her Fuzzly friends wh... 2020-07-01  2020.0   \n",
       "434   The letters of the alphabet come to life in Al... 2020-05-25  2020.0   \n",
       "598   Five curious little creatures track down the a... 2019-08-02  2019.0   \n",
       "706   Watch Ganesh destroy demons, disarm invaders a... 2020-03-31  2020.0   \n",
       "...                                                 ...        ...     ...   \n",
       "7668  The reality show \"WOW!\" engages the Winx in th... 2017-06-16  2017.0   \n",
       "7717  Friends Mai, Oto and Vik's games at the park b... 2018-06-23  2018.0   \n",
       "7719  With the mind of a human being, and the body o... 2018-06-07  2018.0   \n",
       "7758  Fading music biz veteran Zé realizes he has ju... 2019-02-22  2019.0   \n",
       "7761  Teen surfer Zak Storm is mysteriously transpor... 2018-09-13  2018.0   \n",
       "\n",
       "     Minutes     Unit  \n",
       "111        2  Seasons  \n",
       "276        1   Season  \n",
       "434        5  Seasons  \n",
       "598        3  Seasons  \n",
       "706        1   Season  \n",
       "...      ...      ...  \n",
       "7668       2  Seasons  \n",
       "7717       1   Season  \n",
       "7719       1   Season  \n",
       "7758       2  Seasons  \n",
       "7761       3  Seasons  \n",
       "\n",
       "[205 rows x 15 columns]"
      ]
     },
     "execution_count": 320,
     "metadata": {},
     "output_type": "execute_result"
    }
   ],
   "source": [
    "data[(data['Category'] == \"TV Show\") & (data[\"Type\"] == \"Kids' TV\")]"
   ]
  },
  {
   "cell_type": "code",
   "execution_count": 323,
   "id": "39d6b30b-f795-4a4b-b32f-a35aeaa4b15a",
   "metadata": {},
   "outputs": [
    {
     "data": {
      "text/html": [
       "<div>\n",
       "<style scoped>\n",
       "    .dataframe tbody tr th:only-of-type {\n",
       "        vertical-align: middle;\n",
       "    }\n",
       "\n",
       "    .dataframe tbody tr th {\n",
       "        vertical-align: top;\n",
       "    }\n",
       "\n",
       "    .dataframe thead th {\n",
       "        text-align: right;\n",
       "    }\n",
       "</style>\n",
       "<table border=\"1\" class=\"dataframe\">\n",
       "  <thead>\n",
       "    <tr style=\"text-align: right;\">\n",
       "      <th></th>\n",
       "      <th>Show_Id</th>\n",
       "      <th>Category</th>\n",
       "      <th>Title</th>\n",
       "      <th>Director</th>\n",
       "      <th>Cast</th>\n",
       "      <th>Country</th>\n",
       "      <th>Release_Date</th>\n",
       "      <th>Rating</th>\n",
       "      <th>Duration</th>\n",
       "      <th>Type</th>\n",
       "      <th>Description</th>\n",
       "      <th>Date_N</th>\n",
       "      <th>Year</th>\n",
       "      <th>Minutes</th>\n",
       "      <th>Unit</th>\n",
       "    </tr>\n",
       "  </thead>\n",
       "  <tbody>\n",
       "    <tr>\n",
       "      <th>4</th>\n",
       "      <td>s5</td>\n",
       "      <td>Movie</td>\n",
       "      <td>21</td>\n",
       "      <td>Robert Luketic</td>\n",
       "      <td>Jim Sturgess, Kevin Spacey, Kate Bosworth, Aar...</td>\n",
       "      <td>United States</td>\n",
       "      <td>January 1, 2020</td>\n",
       "      <td>PG-13</td>\n",
       "      <td>123 min</td>\n",
       "      <td>Dramas</td>\n",
       "      <td>A brilliant group of students become card-coun...</td>\n",
       "      <td>2020-01-01</td>\n",
       "      <td>2020.0</td>\n",
       "      <td>123</td>\n",
       "      <td>min</td>\n",
       "    </tr>\n",
       "    <tr>\n",
       "      <th>7</th>\n",
       "      <td>s8</td>\n",
       "      <td>Movie</td>\n",
       "      <td>187</td>\n",
       "      <td>Kevin Reynolds</td>\n",
       "      <td>Samuel L. Jackson, John Heard, Kelly Rowan, Cl...</td>\n",
       "      <td>United States</td>\n",
       "      <td>November 1, 2019</td>\n",
       "      <td>R</td>\n",
       "      <td>119 min</td>\n",
       "      <td>Dramas</td>\n",
       "      <td>After one of his high school students attacks ...</td>\n",
       "      <td>2019-11-01</td>\n",
       "      <td>2019.0</td>\n",
       "      <td>119</td>\n",
       "      <td>min</td>\n",
       "    </tr>\n",
       "    <tr>\n",
       "      <th>111</th>\n",
       "      <td>s112</td>\n",
       "      <td>TV Show</td>\n",
       "      <td>44 Cats</td>\n",
       "      <td>NaN</td>\n",
       "      <td>Sarah Natochenny, Suzy Myers, Simona Berman, E...</td>\n",
       "      <td>Italy</td>\n",
       "      <td>October 1, 2020</td>\n",
       "      <td>TV-Y7</td>\n",
       "      <td>2 Seasons</td>\n",
       "      <td>Kids' TV</td>\n",
       "      <td>Paw-esome tales abound when singing furry frie...</td>\n",
       "      <td>2020-10-01</td>\n",
       "      <td>2020.0</td>\n",
       "      <td>2</td>\n",
       "      <td>Seasons</td>\n",
       "    </tr>\n",
       "    <tr>\n",
       "      <th>170</th>\n",
       "      <td>s171</td>\n",
       "      <td>Movie</td>\n",
       "      <td>A Family Man</td>\n",
       "      <td>Mark Williams</td>\n",
       "      <td>Gerard Butler, Gretchen Mol, Alison Brie, Will...</td>\n",
       "      <td>Canada, United States</td>\n",
       "      <td>December 15, 2019</td>\n",
       "      <td>R</td>\n",
       "      <td>110 min</td>\n",
       "      <td>Dramas</td>\n",
       "      <td>A ruthless corporate headhunter battles his ri...</td>\n",
       "      <td>2019-12-15</td>\n",
       "      <td>2019.0</td>\n",
       "      <td>110</td>\n",
       "      <td>min</td>\n",
       "    </tr>\n",
       "    <tr>\n",
       "      <th>232</th>\n",
       "      <td>s233</td>\n",
       "      <td>Movie</td>\n",
       "      <td>A Stoning in Fulham County</td>\n",
       "      <td>Larry Elikann</td>\n",
       "      <td>Ken Olin, Jill Eikenberry, Maureen Mueller, Gr...</td>\n",
       "      <td>United States</td>\n",
       "      <td>October 1, 2011</td>\n",
       "      <td>TV-14</td>\n",
       "      <td>95 min</td>\n",
       "      <td>Dramas</td>\n",
       "      <td>After reckless teens kill an Amish child, a pr...</td>\n",
       "      <td>2011-10-01</td>\n",
       "      <td>2011.0</td>\n",
       "      <td>95</td>\n",
       "      <td>min</td>\n",
       "    </tr>\n",
       "    <tr>\n",
       "      <th>...</th>\n",
       "      <td>...</td>\n",
       "      <td>...</td>\n",
       "      <td>...</td>\n",
       "      <td>...</td>\n",
       "      <td>...</td>\n",
       "      <td>...</td>\n",
       "      <td>...</td>\n",
       "      <td>...</td>\n",
       "      <td>...</td>\n",
       "      <td>...</td>\n",
       "      <td>...</td>\n",
       "      <td>...</td>\n",
       "      <td>...</td>\n",
       "      <td>...</td>\n",
       "      <td>...</td>\n",
       "    </tr>\n",
       "    <tr>\n",
       "      <th>7668</th>\n",
       "      <td>s7667</td>\n",
       "      <td>TV Show</td>\n",
       "      <td>World of Winx</td>\n",
       "      <td>Iginio Straffi</td>\n",
       "      <td>Haven Paschall, Alysha Deslorieux, Jessica Paq...</td>\n",
       "      <td>Italy, United States</td>\n",
       "      <td>June 16, 2017</td>\n",
       "      <td>TV-Y7</td>\n",
       "      <td>2 Seasons</td>\n",
       "      <td>Kids' TV</td>\n",
       "      <td>The reality show \"WOW!\" engages the Winx in th...</td>\n",
       "      <td>2017-06-16</td>\n",
       "      <td>2017.0</td>\n",
       "      <td>2</td>\n",
       "      <td>Seasons</td>\n",
       "    </tr>\n",
       "    <tr>\n",
       "      <th>7717</th>\n",
       "      <td>s7716</td>\n",
       "      <td>TV Show</td>\n",
       "      <td>Yoko</td>\n",
       "      <td>NaN</td>\n",
       "      <td>Eileen Stevens, Alyson Leigh Rosenfeld, Sarah ...</td>\n",
       "      <td>NaN</td>\n",
       "      <td>June 23, 2018</td>\n",
       "      <td>TV-Y</td>\n",
       "      <td>1 Season</td>\n",
       "      <td>Kids' TV</td>\n",
       "      <td>Friends Mai, Oto and Vik's games at the park b...</td>\n",
       "      <td>2018-06-23</td>\n",
       "      <td>2018.0</td>\n",
       "      <td>1</td>\n",
       "      <td>Season</td>\n",
       "    </tr>\n",
       "    <tr>\n",
       "      <th>7719</th>\n",
       "      <td>s7718</td>\n",
       "      <td>TV Show</td>\n",
       "      <td>YOM</td>\n",
       "      <td>NaN</td>\n",
       "      <td>Sairaj, Devyani Dagaonkar, Ketan Singh, Mayur ...</td>\n",
       "      <td>NaN</td>\n",
       "      <td>June 7, 2018</td>\n",
       "      <td>TV-Y7</td>\n",
       "      <td>1 Season</td>\n",
       "      <td>Kids' TV</td>\n",
       "      <td>With the mind of a human being, and the body o...</td>\n",
       "      <td>2018-06-07</td>\n",
       "      <td>2018.0</td>\n",
       "      <td>1</td>\n",
       "      <td>Season</td>\n",
       "    </tr>\n",
       "    <tr>\n",
       "      <th>7758</th>\n",
       "      <td>s7757</td>\n",
       "      <td>TV Show</td>\n",
       "      <td>Z4</td>\n",
       "      <td>NaN</td>\n",
       "      <td>Apollo Costa, Gabriel Santana, Matheus Lustosa...</td>\n",
       "      <td>Brazil</td>\n",
       "      <td>February 22, 2019</td>\n",
       "      <td>TV-PG</td>\n",
       "      <td>2 Seasons</td>\n",
       "      <td>Kids' TV</td>\n",
       "      <td>Fading music biz veteran Zé realizes he has ju...</td>\n",
       "      <td>2019-02-22</td>\n",
       "      <td>2019.0</td>\n",
       "      <td>2</td>\n",
       "      <td>Seasons</td>\n",
       "    </tr>\n",
       "    <tr>\n",
       "      <th>7761</th>\n",
       "      <td>s7760</td>\n",
       "      <td>TV Show</td>\n",
       "      <td>Zak Storm</td>\n",
       "      <td>NaN</td>\n",
       "      <td>Michael Johnston, Jessica Gee-George, Christin...</td>\n",
       "      <td>United States, France, South Korea, Indonesia</td>\n",
       "      <td>September 13, 2018</td>\n",
       "      <td>TV-Y7</td>\n",
       "      <td>3 Seasons</td>\n",
       "      <td>Kids' TV</td>\n",
       "      <td>Teen surfer Zak Storm is mysteriously transpor...</td>\n",
       "      <td>2018-09-13</td>\n",
       "      <td>2018.0</td>\n",
       "      <td>3</td>\n",
       "      <td>Seasons</td>\n",
       "    </tr>\n",
       "  </tbody>\n",
       "</table>\n",
       "<p>322 rows × 15 columns</p>\n",
       "</div>"
      ],
      "text/plain": [
       "     Show_Id Category                       Title        Director  \\\n",
       "4         s5    Movie                          21  Robert Luketic   \n",
       "7         s8    Movie                         187  Kevin Reynolds   \n",
       "111     s112  TV Show                     44 Cats             NaN   \n",
       "170     s171    Movie                A Family Man   Mark Williams   \n",
       "232     s233    Movie  A Stoning in Fulham County   Larry Elikann   \n",
       "...      ...      ...                         ...             ...   \n",
       "7668   s7667  TV Show               World of Winx  Iginio Straffi   \n",
       "7717   s7716  TV Show                        Yoko             NaN   \n",
       "7719   s7718  TV Show                         YOM             NaN   \n",
       "7758   s7757  TV Show                          Z4             NaN   \n",
       "7761   s7760  TV Show                   Zak Storm             NaN   \n",
       "\n",
       "                                                   Cast  \\\n",
       "4     Jim Sturgess, Kevin Spacey, Kate Bosworth, Aar...   \n",
       "7     Samuel L. Jackson, John Heard, Kelly Rowan, Cl...   \n",
       "111   Sarah Natochenny, Suzy Myers, Simona Berman, E...   \n",
       "170   Gerard Butler, Gretchen Mol, Alison Brie, Will...   \n",
       "232   Ken Olin, Jill Eikenberry, Maureen Mueller, Gr...   \n",
       "...                                                 ...   \n",
       "7668  Haven Paschall, Alysha Deslorieux, Jessica Paq...   \n",
       "7717  Eileen Stevens, Alyson Leigh Rosenfeld, Sarah ...   \n",
       "7719  Sairaj, Devyani Dagaonkar, Ketan Singh, Mayur ...   \n",
       "7758  Apollo Costa, Gabriel Santana, Matheus Lustosa...   \n",
       "7761  Michael Johnston, Jessica Gee-George, Christin...   \n",
       "\n",
       "                                            Country        Release_Date  \\\n",
       "4                                     United States     January 1, 2020   \n",
       "7                                     United States    November 1, 2019   \n",
       "111                                           Italy     October 1, 2020   \n",
       "170                           Canada, United States   December 15, 2019   \n",
       "232                                   United States     October 1, 2011   \n",
       "...                                             ...                 ...   \n",
       "7668                           Italy, United States       June 16, 2017   \n",
       "7717                                            NaN       June 23, 2018   \n",
       "7719                                            NaN        June 7, 2018   \n",
       "7758                                         Brazil   February 22, 2019   \n",
       "7761  United States, France, South Korea, Indonesia  September 13, 2018   \n",
       "\n",
       "     Rating   Duration      Type  \\\n",
       "4     PG-13    123 min    Dramas   \n",
       "7         R    119 min    Dramas   \n",
       "111   TV-Y7  2 Seasons  Kids' TV   \n",
       "170       R    110 min    Dramas   \n",
       "232   TV-14     95 min    Dramas   \n",
       "...     ...        ...       ...   \n",
       "7668  TV-Y7  2 Seasons  Kids' TV   \n",
       "7717   TV-Y   1 Season  Kids' TV   \n",
       "7719  TV-Y7   1 Season  Kids' TV   \n",
       "7758  TV-PG  2 Seasons  Kids' TV   \n",
       "7761  TV-Y7  3 Seasons  Kids' TV   \n",
       "\n",
       "                                            Description     Date_N    Year  \\\n",
       "4     A brilliant group of students become card-coun... 2020-01-01  2020.0   \n",
       "7     After one of his high school students attacks ... 2019-11-01  2019.0   \n",
       "111   Paw-esome tales abound when singing furry frie... 2020-10-01  2020.0   \n",
       "170   A ruthless corporate headhunter battles his ri... 2019-12-15  2019.0   \n",
       "232   After reckless teens kill an Amish child, a pr... 2011-10-01  2011.0   \n",
       "...                                                 ...        ...     ...   \n",
       "7668  The reality show \"WOW!\" engages the Winx in th... 2017-06-16  2017.0   \n",
       "7717  Friends Mai, Oto and Vik's games at the park b... 2018-06-23  2018.0   \n",
       "7719  With the mind of a human being, and the body o... 2018-06-07  2018.0   \n",
       "7758  Fading music biz veteran Zé realizes he has ju... 2019-02-22  2019.0   \n",
       "7761  Teen surfer Zak Storm is mysteriously transpor... 2018-09-13  2018.0   \n",
       "\n",
       "     Minutes     Unit  \n",
       "4        123      min  \n",
       "7        119      min  \n",
       "111        2  Seasons  \n",
       "170      110      min  \n",
       "232       95      min  \n",
       "...      ...      ...  \n",
       "7668       2  Seasons  \n",
       "7717       1   Season  \n",
       "7719       1   Season  \n",
       "7758       2  Seasons  \n",
       "7761       3  Seasons  \n",
       "\n",
       "[322 rows x 15 columns]"
      ]
     },
     "execution_count": 323,
     "metadata": {},
     "output_type": "execute_result"
    }
   ],
   "source": [
    "data[(data[\"Category\"] == \"Movie\") & (data[\"Type\"] == \"Dramas\") | (data[\"Category\"] == \"TV Show\") & (data[\"Type\"] == \"Kids' TV\")]"
   ]
  },
  {
   "cell_type": "code",
   "execution_count": null,
   "id": "d046fb10-7331-413b-a79f-d37147fe09e3",
   "metadata": {},
   "outputs": [],
   "source": []
  }
 ],
 "metadata": {
  "kernelspec": {
   "display_name": "Python 3 (ipykernel)",
   "language": "python",
   "name": "python3"
  },
  "language_info": {
   "codemirror_mode": {
    "name": "ipython",
    "version": 3
   },
   "file_extension": ".py",
   "mimetype": "text/x-python",
   "name": "python",
   "nbconvert_exporter": "python",
   "pygments_lexer": "ipython3",
   "version": "3.12.4"
  }
 },
 "nbformat": 4,
 "nbformat_minor": 5
}
